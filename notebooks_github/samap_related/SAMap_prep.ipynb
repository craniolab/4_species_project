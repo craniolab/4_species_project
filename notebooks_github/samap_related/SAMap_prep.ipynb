{
 "cells": [
  {
   "cell_type": "markdown",
   "id": "ef720a87-2826-46c5-8854-4f579c1d520f",
   "metadata": {},
   "source": [
    "## SAMap prep\n",
    "So I want to run SAMap, but I'd prefer to use the protein blast from diamond.  \n",
    "It is much faster than both tblastx and blastp and can be more accurate with its new very sensitive mode.  \n",
    "\n",
    "Because SAMap requires the protein names to match the gene names, I quickly use genespace to prepare.  \n",
    "I've tried this myself in the past and it's a hassle. Genespace can quickly parse the files and prepare them for me instead.  "
   ]
  },
  {
   "cell_type": "code",
   "execution_count": null,
   "id": "cd0acb81-d412-480e-925c-b29bd407c68a",
   "metadata": {},
   "outputs": [],
   "source": [
    "library(GENESPACE)\n",
    "genomeRepo <- \"samap_directory/rawGenomes\"\n",
    "setwd('/mnt/mpistaff/Cranio_Lab/Louk_Seton/4_species_project')\n",
    "wd <- \"samap_directory/rawGenomes\""
   ]
  },
  {
   "cell_type": "code",
   "execution_count": null,
   "id": "2a7753e5-e5a9-4159-a4ba-3ab39d650f46",
   "metadata": {},
   "outputs": [],
   "source": [
    "system(paste(\"mkdir -p\", genomeRepo))"
   ]
  },
  {
   "cell_type": "code",
   "execution_count": null,
   "id": "033c4bb7-6045-44b0-94a7-3fa021fa4043",
   "metadata": {},
   "outputs": [],
   "source": [
    "urls <- c(\n",
    " mouse= '000/001/635/GCF_000001635.26_GRCm38.p6/GCF_000001635.26_GRCm38.p6_',\n",
    " catshark= '902/713/615/GCF_902713615.1_sScyCan1.1/GCF_902713615.1_sScyCan1.1_')\n",
    "\n",
    "genomes2run <- names(urls)\n",
    "urls <- file.path(\"https://ftp.ncbi.nlm.nih.gov/genomes/all/GCF\", urls)\n",
    "translatedCDS <- sprintf(\"%stranslated_cds.faa.gz\", urls)\n",
    "geneGff <- sprintf(\"%sgenomic.gff.gz\", urls)\n",
    "\n",
    "names(translatedCDS) <- genomes2run\n",
    "names(geneGff) <- genomes2run\n",
    "writeDirs <- file.path(genomeRepo, genomes2run)\n",
    "names(writeDirs) <- genomes2run\n",
    "for(i in genomes2run){\n",
    "  print(i)\n",
    "  if(!dir.exists(writeDirs[i]))\n",
    "    dir.create(writeDirs[i])\n",
    "  download.file(\n",
    "    url = geneGff[i], \n",
    "    destfile = file.path(writeDirs[i], basename(geneGff[i])))\n",
    "  download.file(\n",
    "    url = translatedCDS[i], \n",
    "    destfile = file.path(writeDirs[i], basename(translatedCDS[i])))\n",
    "}\n",
    "\n",
    "genomes2run <- genomes2run\n",
    "parsedPaths <- parse_annotations(\n",
    "  rawGenomeRepo = genomeRepo,\n",
    "  genomeDirs = genomes2run,\n",
    "  genomeIDs = genomes2run,\n",
    "  presets = \"ncbi\",\n",
    "  genespaceWd = wd)"
   ]
  },
  {
   "cell_type": "code",
   "execution_count": null,
   "id": "150eb3d3-ecd6-4037-bd2f-56885d0592e7",
   "metadata": {},
   "outputs": [],
   "source": [
    "system()"
   ]
  },
  {
   "cell_type": "code",
   "execution_count": null,
   "id": "06d0670d-13e7-43da-9270-a8e812216b2f",
   "metadata": {},
   "outputs": [],
   "source": [
    "##diamond blast \n",
    "setwd('/mnt/mpistaff/Cranio_Lab/Louk_Seton/4_species_project/samap_directory')\n",
    "mouse = 'rawGenomes/peptide/mouse.fa'\n",
    "mousedb = 'rawGenomes/peptide/mouse'\n",
    "mouse_n = 'mm'\n",
    "catshark = 'rawGenomes/peptide/catshark.fa'\n",
    "catsharkdb = 'rawGenomes/peptide/catshark'\n",
    "shark_n = 'sc'\n",
    "\n",
    "system('mkdir -p maps')\n",
    "system(paste('mkdir -p', paste0('maps/',mouse_n,shark_n)))\n",
    "\n",
    "threads = 16\n",
    "\n",
    "command = paste('diamond makedb --in',mouse, '--db',mousedb)\n",
    "system(command)\n",
    "\n",
    "command = paste('diamond makedb --in',catshark, '--db',catsharkdb)\n",
    "system(command)\n",
    "\n",
    "command = paste('diamond blastp',\n",
    "                '--query', mouse,\n",
    "                '--db', paste0(catsharkdb,'.dmnd'),\n",
    "                '--outfmt 6',\n",
    "                '--out', paste0(\"maps/\",mouse_n,shark_n,'/',mouse_n,'_to_',shark_n,\".txt\"),\n",
    "                '--ultra-sensitive',\n",
    "                '--threads', threads,\n",
    "                '--max-hsps 1', \n",
    "                '--evalue 1e-6')\n",
    "system(command)\n",
    "\n",
    "command = paste('diamond blastp',\n",
    "                '--query', catshark,\n",
    "                '--db', paste0(mousedb,'.dmnd'),\n",
    "                '--outfmt 6',\n",
    "                '--out', paste0(\"maps/\",mouse_n,shark_n,'/',shark_n,'_to_',mouse_n,\".txt\"),\n",
    "                '--ultra-sensitive',\n",
    "                '--threads', threads,\n",
    "                '--max-hsps 1', \n",
    "                '--evalue 1e-6')\n",
    "system(command)"
   ]
  },
  {
   "cell_type": "code",
   "execution_count": null,
   "id": "7755f6ac-1502-45ad-bb12-464641a9feca",
   "metadata": {},
   "outputs": [],
   "source": []
  }
 ],
 "metadata": {
  "kernelspec": {
   "display_name": "r_genespace",
   "language": "R",
   "name": "r_genespace"
  },
  "language_info": {
   "codemirror_mode": "r",
   "file_extension": ".r",
   "mimetype": "text/x-r-source",
   "name": "R",
   "pygments_lexer": "r",
   "version": "4.4.2"
  }
 },
 "nbformat": 4,
 "nbformat_minor": 5
}
