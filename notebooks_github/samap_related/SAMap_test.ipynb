{
 "cells": [
  {
   "cell_type": "code",
   "execution_count": null,
   "id": "85a2218c-b3af-4749-bedb-4377ba40a758",
   "metadata": {},
   "outputs": [],
   "source": [
    "import logging\n",
    "logging.getLogger('matplotlib.font_manager').setLevel(logging.ERROR)\n",
    "from samap.mapping import SAMAP\n",
    "from samap.analysis import (get_mapping_scores, GenePairFinder,\n",
    "                            sankey_plot, chord_plot, CellTypeTriangles, \n",
    "                            ParalogSubstitutions, FunctionalEnrichment,\n",
    "                            convert_eggnog_to_homologs, GeneTriangles)\n",
    "from samalg import SAM\n",
    "import pandas as pd\n",
    "\n",
    "import os\n",
    "import sys\n",
    "import time\n",
    "import warnings\n",
    "import gc\n",
    "os.environ['R_HOME'] = sys.exec_prefix+\"/lib/R/\"\n",
    "\n",
    "project_directory = '/Cranio_Lab/Louk_Seton/4_species_project'\n",
    "os.chdir(os.path.expanduser(\"~\")+project_directory)"
   ]
  },
  {
   "cell_type": "code",
   "execution_count": null,
   "id": "a7acdf5d-c81e-4be0-9d3a-99c038c582e2",
   "metadata": {},
   "outputs": [],
   "source": [
    "A=pd.read_csv('samap_directory/maps/mmsc/mm_to_sc.txt',sep='\\t',index_col=0,header=None)\n",
    "B=pd.read_csv('samap_directory/maps/mmsc/sc_to_mm.txt',sep='\\t',index_col=0,header=None)\n",
    "A.head()"
   ]
  },
  {
   "cell_type": "code",
   "execution_count": null,
   "id": "e48d941b-f424-480e-8846-a4e49e62d765",
   "metadata": {},
   "outputs": [],
   "source": [
    "B.head()"
   ]
  },
  {
   "cell_type": "code",
   "execution_count": null,
   "id": "29da8642-2bda-4c33-8e2d-5d4ebea7827b",
   "metadata": {},
   "outputs": [],
   "source": [
    "fn1 = 'h5ad_files/mouse/mm10/ME8_annotated_samap.h5ad'\n",
    "fn2 = '../../Elio/Projects/Sharks/Neural_crest/h5ad_files/shark89_samap.h5ad'\n",
    "filenames = {'mm':fn1,'sc':fn2}"
   ]
  },
  {
   "cell_type": "code",
   "execution_count": null,
   "id": "d157943f-93af-4c27-9bda-501121d0b4b2",
   "metadata": {},
   "outputs": [],
   "source": [
    "sm = SAMAP(\n",
    "        filenames,\n",
    "        f_maps = 'samap_directory/maps/',\n",
    "    )"
   ]
  },
  {
   "cell_type": "code",
   "execution_count": null,
   "id": "76de79ac-c987-4c35-8049-16d31e0b7d14",
   "metadata": {},
   "outputs": [],
   "source": [
    "sm.run(pairwise=True)\n",
    "samap = sm.samap # SAM object"
   ]
  },
  {
   "cell_type": "code",
   "execution_count": null,
   "id": "7557d51a-3f13-4fbc-96b3-3237dd3e7ed7",
   "metadata": {},
   "outputs": [],
   "source": [
    "keys={'mm':'annotation_ordered','sc':'annotation0.5',}"
   ]
  },
  {
   "cell_type": "code",
   "execution_count": null,
   "id": "dbc0c87d-6ca6-461f-be01-ff029fbbdaf4",
   "metadata": {},
   "outputs": [],
   "source": [
    "import scanpy as sc\n",
    "sc.pl.umap(sm.samap.adata, color = ['species','mm_Sox10','sc_sox10'])"
   ]
  },
  {
   "cell_type": "code",
   "execution_count": null,
   "id": "520a07fe-5965-4cd0-a552-3974aa1ebca0",
   "metadata": {},
   "outputs": [],
   "source": [
    "adata = sm.samap.adata.copy()\n"
   ]
  },
  {
   "cell_type": "code",
   "execution_count": null,
   "id": "5a3978f4-51eb-428c-aa6f-a6ff5a51e521",
   "metadata": {},
   "outputs": [],
   "source": [
    "warnings.filterwarnings('ignore')\n",
    "\n",
    "sc.pl.umap(adata[adata.obs['species']=='sc'],color = 'species')\n",
    "sc.pl.umap(adata[adata.obs['species']=='mm'],color = 'species')\n",
    "sc.pl.umap(adata[adata.obs['species']=='sc'],color = 'sc_annotation0.5',groups = ['C4'])\n",
    "sc.pl.umap(adata[adata.obs['species']=='sc'],color = 'sc_annotation0.5',)\n",
    "\n",
    "sc.pl.umap(adata[adata.obs['species']=='mm'],color = 'mm_annotation_ordered')\n"
   ]
  },
  {
   "cell_type": "code",
   "execution_count": null,
   "id": "10734e6e-a5d1-4965-89ce-ac0151e22428",
   "metadata": {},
   "outputs": [],
   "source": []
  },
  {
   "cell_type": "code",
   "execution_count": null,
   "id": "8c2145d8-f289-4b07-8b41-63ac1e77318b",
   "metadata": {},
   "outputs": [],
   "source": [
    "sm.samap.adata.var"
   ]
  },
  {
   "cell_type": "code",
   "execution_count": null,
   "id": "34e0d1e6-74a0-4976-9543-f9a264303ab6",
   "metadata": {},
   "outputs": [],
   "source": [
    "sm.scatter()\n"
   ]
  },
  {
   "cell_type": "code",
   "execution_count": null,
   "id": "09f4a3a5-cd1e-45a2-a137-f51d06ba6847",
   "metadata": {},
   "outputs": [],
   "source": [
    "D,MappingTable = get_mapping_scores(sm,keys,n_top = 0)\n",
    "D.head()\n"
   ]
  },
  {
   "cell_type": "code",
   "execution_count": null,
   "id": "369ecade-925c-4a23-a947-93a022181b1b",
   "metadata": {},
   "outputs": [],
   "source": [
    "sankey_plot(MappingTable, align_thr=0.3, species_order = ['mm','sc',])\n"
   ]
  },
  {
   "cell_type": "code",
   "execution_count": null,
   "id": "2f13ee30-2d04-436e-87a4-9f550a926fe3",
   "metadata": {},
   "outputs": [],
   "source": [
    "chord_plot(MappingTable, align_thr=0.05)"
   ]
  },
  {
   "cell_type": "code",
   "execution_count": null,
   "id": "e38b9b48-fe5d-4cc4-bea9-3fd1c394dae7",
   "metadata": {},
   "outputs": [],
   "source": [
    "gpf = GenePairFinder(sm,keys=keys)"
   ]
  },
  {
   "cell_type": "code",
   "execution_count": null,
   "id": "60403f44-3db3-4bac-a4b3-1005b45e12aa",
   "metadata": {},
   "outputs": [],
   "source": [
    "sm.plot_expression_overlap({'mm':'Sox10','sc':'sox10',},COLOR0='#808080', COLORC='#5db03c', COLORS={'mm':'#f7820f','sc':'#473c78'})\n"
   ]
  },
  {
   "cell_type": "code",
   "execution_count": null,
   "id": "b02a44cd-0542-4777-884e-28e88174d6de",
   "metadata": {},
   "outputs": [],
   "source": []
  }
 ],
 "metadata": {
  "kernelspec": {
   "display_name": "SAMap",
   "language": "python",
   "name": "samap"
  },
  "language_info": {
   "codemirror_mode": {
    "name": "ipython",
    "version": 3
   },
   "file_extension": ".py",
   "mimetype": "text/x-python",
   "name": "python",
   "nbconvert_exporter": "python",
   "pygments_lexer": "ipython3",
   "version": "3.9.21"
  }
 },
 "nbformat": 4,
 "nbformat_minor": 5
}
