{
 "cells": [
  {
   "cell_type": "code",
   "execution_count": null,
   "id": "8bfdf5cf-0710-4a20-97f0-e8125e021f55",
   "metadata": {},
   "outputs": [],
   "source": [
    "#ensure cuda is working\n",
    "import torch\n",
    "assert torch.cuda.is_available()\n",
    "print(torch.cuda.is_available())\n",
    "print(torch.cuda.device_count())\n",
    "print(torch.cuda.current_device())\n",
    "print(torch.cuda.device(0))\n",
    "print(torch.cuda.get_device_name(0))"
   ]
  },
  {
   "cell_type": "code",
   "execution_count": null,
   "id": "26216e54-b6a6-49ea-8841-afdd86669cb7",
   "metadata": {},
   "outputs": [],
   "source": [
    "import mira\n",
    "\n",
    "import anndata\n",
    "import scanpy as sc\n",
    "import numpy as np\n",
    "import pandas as pd\n",
    "import scvelo as scv\n",
    "\n",
    "import matplotlib.pyplot as plt\n",
    "plt.rcParams.update({'font.size': 14})\n",
    "import matplotlib\n",
    "import matplotlib as mpl\n",
    "from copy import copy\n",
    "reds = copy(mpl.cm.Reds)\n",
    "reds.set_under(\"lightgray\")\n",
    "\n",
    "import os\n",
    "import sys\n",
    "from pathlib import Path\n",
    "os.environ['R_HOME'] = sys.exec_prefix+\"/lib/R/\"\n",
    "\n",
    "project_directory = '/Cranio_Lab/Louk_Seton/4_species_project'\n",
    "os.chdir(os.path.expanduser(\"~\")+project_directory)"
   ]
  },
  {
   "cell_type": "code",
   "execution_count": null,
   "id": "97ea28ca-f2e7-4f96-837e-32a227793e1e",
   "metadata": {},
   "outputs": [],
   "source": [
    "seed = 666\n",
    "import random\n",
    "random.seed(seed)\n",
    "np.random.seed(seed)"
   ]
  },
  {
   "cell_type": "code",
   "execution_count": null,
   "id": "d636df07-2907-47ae-a3e2-8aabee7866ad",
   "metadata": {},
   "outputs": [],
   "source": [
    "adata = sc.read('h5ad_files/mouse/ecto_andrea/ecto_nasal_placode_derived_concat.h5ad')\n",
    "adata.X = adata.layers['original_counts'].copy()"
   ]
  },
  {
   "cell_type": "code",
   "execution_count": null,
   "id": "e54489cb-a093-4f3c-b514-3452c42ca98d",
   "metadata": {},
   "outputs": [],
   "source": [
    "##mira stuff\n",
    "model = mira.topics.make_model(\n",
    "    adata.n_obs, adata.n_vars, # helps MIRA choose reasonable values for some hyperparameters which are not tuned.\n",
    "    feature_type = 'expression',\n",
    "    #highly_variable_key='TF',\n",
    "    highly_variable_key = 'highly_variable',\n",
    "    counts_layer='original_counts',\n",
    "    categorical_covariates='batch',\n",
    "    continuous_covariates= ['S_score','G2M_score'],\n",
    "    #max_learning_rate = 0.1\n",
    ")"
   ]
  },
  {
   "cell_type": "code",
   "execution_count": null,
   "id": "284be0db-8cad-4509-9a7c-9a2dd07f2c5b",
   "metadata": {},
   "outputs": [],
   "source": [
    "model.get_learning_rate_bounds(adata)"
   ]
  },
  {
   "cell_type": "code",
   "execution_count": null,
   "id": "c3bf3366-bde2-4bec-849a-701111e4a398",
   "metadata": {},
   "outputs": [],
   "source": [
    "model.set_learning_rates(1e-3, 0.1) # for larger datasets, the default of 1e-3, 0.1 usually works well.\n",
    "model.plot_learning_rate_bounds(figsize=(7,3))"
   ]
  },
  {
   "cell_type": "code",
   "execution_count": null,
   "id": "62fa295e-8435-429e-a66e-e3f090fc800e",
   "metadata": {},
   "outputs": [],
   "source": [
    "# ## quick loop to try out some different parameters\n",
    "# from matplotlib.backends.backend_pdf import PdfPages\n",
    "\n",
    "# topics = [4,5,6,8,9,11]\n",
    "# epochs = [50,75,100,125,150]\n",
    "# output_dir = 'figures_ignore/mouse/mm39/mira_integration_tuning/andrea_ecto/'\n",
    "# for topic in topics:\n",
    "#     with PdfPages(output_dir+str(topic)+'_trials.pdf') as pdf:\n",
    "#         for epoch in epochs:\n",
    "#             model = model.set_params(num_topics = topic,num_epochs = epoch).fit(adata)\n",
    "#             model.predict(adata,)\n",
    "#             sc.pp.neighbors(adata, use_rep = 'X_umap_features', metric = 'manhattan',n_neighbors=15)\n",
    "#             sc.tl.umap(adata, )\n",
    "\n",
    "#             plt.rcParams['figure.figsize'] = [5,4]\n",
    "#             ax = sc.pl.umap(adata, color = ['sample','phase','Fezf2','Aldh1a3','Foxa1','Ascl1','Maob','Pcp4','Fgf8'], cmap = reds,ncols = 2, vmin = 0.05, show = False)\n",
    "#             for p in ax:\n",
    "#                 p.set_rasterized(True)\n",
    "#             pdf.savefig(dpi=150,bbox_inches='tight')\n",
    "#             plt.close()"
   ]
  },
  {
   "cell_type": "code",
   "execution_count": null,
   "id": "d9453bce-7d9a-4a89-8eea-bfca4c9ae85d",
   "metadata": {},
   "outputs": [],
   "source": [
    "topic_contributions = mira.topics.gradient_tune(model, adata)"
   ]
  },
  {
   "cell_type": "code",
   "execution_count": null,
   "id": "0b2156e4-0e4c-4b61-ab2a-6e7f4c6668b9",
   "metadata": {},
   "outputs": [],
   "source": [
    "NUM_TOPICS = 8\n",
    "\n",
    "mira.pl.plot_topic_contributions(topic_contributions, NUM_TOPICS)"
   ]
  },
  {
   "cell_type": "code",
   "execution_count": null,
   "id": "4d1cddd9-4b73-4e89-9eba-304bd9d14497",
   "metadata": {},
   "outputs": [],
   "source": [
    "NUM_TOPICS = 6 #8 and no cell cycle correction\n",
    "model = model.set_params(num_topics = NUM_TOPICS,num_epochs = 100).fit(adata)#85\n",
    "#model = model.set_params(num_topics = NUM_TOPICS).fit(adata)\n"
   ]
  },
  {
   "cell_type": "code",
   "execution_count": null,
   "id": "5f751129-fd2d-47c3-a28d-2f68cff2f97e",
   "metadata": {},
   "outputs": [],
   "source": [
    "model.predict(adata,)"
   ]
  },
  {
   "cell_type": "code",
   "execution_count": null,
   "id": "fb29e8d4-647b-44b4-bea0-8cf695242f48",
   "metadata": {},
   "outputs": [],
   "source": [
    "sc.pp.neighbors(adata, use_rep = 'X_umap_features', metric = 'manhattan',n_neighbors=15)\n",
    "#sc.tl.umap(adata, min_dist=0.1, negative_sample_rate=0.05,)\n",
    "#sc.tl.umap(adata, min_dist=0.3, negative_sample_rate=0.05,n_components =3)\n",
    "sc.tl.umap(adata, )\n",
    "\n"
   ]
  },
  {
   "cell_type": "code",
   "execution_count": null,
   "id": "5ff63079-f95d-4244-a4b4-d8a9a347394f",
   "metadata": {},
   "outputs": [],
   "source": [
    "sc.tl.leiden(adata)\n",
    "#sc.tl.leiden(adata,resolution = 2, key_added = 'leiden_high')\n"
   ]
  },
  {
   "cell_type": "code",
   "execution_count": null,
   "id": "2fbbb3d7-6f50-42ba-a1e5-2396334d9ef7",
   "metadata": {},
   "outputs": [],
   "source": [
    "sc.pl.umap(adata, color = ['sample','batch','phase'],)"
   ]
  },
  {
   "cell_type": "code",
   "execution_count": null,
   "id": "96dff9b5-6a96-499d-a702-b7acad1a17b9",
   "metadata": {},
   "outputs": [],
   "source": [
    "adata.X = adata.layers['original_counts'].copy()\n",
    "sc.pp.normalize_total(adata) # Normalizing to median total counts\n",
    "sc.pp.log1p(adata) # Logarithmize the data\n",
    "adata.layers[\"normalized_counts\"] = adata.X.copy()"
   ]
  },
  {
   "cell_type": "code",
   "execution_count": null,
   "id": "96c26d75-c5d2-405a-a04d-d90210ec7b91",
   "metadata": {},
   "outputs": [],
   "source": [
    "\n",
    "sc.pl.umap(adata,color = ['Dlx5','Fezf2','Fgf8','Casr','Prnp','Ascl1','Neurog1','Maob','Pcp4','Aldh1a3','Fgf17','Wnt6',\n",
    "                          'Foxa1','Reg3g',\n",
    "                          'leiden',\n",
    "                         ], ncols = 3, size = 50,legend_loc = 'on data',\n",
    "           \n",
    "           cmap = reds, vmin = 0.05)"
   ]
  },
  {
   "cell_type": "code",
   "execution_count": null,
   "id": "18e6866f-c266-427d-9f05-7897bf4b2663",
   "metadata": {},
   "outputs": [],
   "source": [
    "adata.write('h5ad_files/mouse/ecto_andrea/ecto_nasal_placode_derived_concat_integrated.h5ad')"
   ]
  },
  {
   "cell_type": "code",
   "execution_count": null,
   "id": "45503248-cdea-4f52-8a66-216438457507",
   "metadata": {},
   "outputs": [],
   "source": []
  },
  {
   "cell_type": "code",
   "execution_count": null,
   "id": "c12910d0-7e23-4435-9486-acb72eb572c8",
   "metadata": {},
   "outputs": [],
   "source": []
  },
  {
   "cell_type": "code",
   "execution_count": null,
   "id": "63f37800-8c51-4144-b4cb-ba3d7c68e0e8",
   "metadata": {},
   "outputs": [],
   "source": []
  },
  {
   "cell_type": "code",
   "execution_count": null,
   "id": "df53a731-82b8-4d66-98ec-9ece59e1c115",
   "metadata": {},
   "outputs": [],
   "source": [
    "adata = sc.read('h5ad_files/mouse/ecto_andrea/ecto_nasal_placode_derived_concat.h5ad')\n",
    "adata.X = adata.layers['original_counts'].copy()"
   ]
  },
  {
   "cell_type": "code",
   "execution_count": null,
   "id": "d37febf2-3a5a-4cbd-9e58-f39ae8262fd1",
   "metadata": {},
   "outputs": [],
   "source": []
  },
  {
   "cell_type": "code",
   "execution_count": null,
   "id": "008b1633-68a1-495f-a480-178e6dd08e56",
   "metadata": {},
   "outputs": [],
   "source": [
    "sc.pp.normalize_total(adata) # Normalizing to median total counts\n",
    "sc.pp.log1p(adata) # Logarithmize the data"
   ]
  },
  {
   "cell_type": "code",
   "execution_count": null,
   "id": "27639fe3-9f96-44c9-89b1-7665821c50da",
   "metadata": {},
   "outputs": [],
   "source": [
    "##do linear regression for genes and obs variable\n",
    "#mostly made this to identify other cell cycle genes\n",
    "from sklearn.linear_model import LinearRegression\n",
    "def do_reg(gene,variable):\n",
    "    X = adata[:,gene].X.toarray() #get the gene expression value\n",
    "    y = adata[:,gene].obs[variable] #get the variable obs value\n",
    "    reg = LinearRegression().fit(X, y) #fit linear regression for gene expression and variable value\n",
    "    #return (variable, gene, reg.score(X, y))\n",
    "    return reg.score(X, y) #return the r2 score of the linear regression\n",
    "\n",
    "#now parallelize the function\n",
    "from multiprocessing import Pool\n",
    "import itertools\n",
    "\n",
    "def do_reg_parallel(gene_list,variable,n_threads): #supply the function with a list of genes and a column in adata.obs with your variable you want to fit gene expression to\n",
    "    with Pool(n_threads) as p: #if you use too many threads and launching them requires more memory than is available, the processes won't launch\n",
    "        return p.starmap(do_reg, #use starmap to be able to call both vars required for the do_reg function\n",
    "                         zip(gene_list, #list of genes\n",
    "                             itertools.repeat(variable) #repeat the column name for each gene\n",
    "                            ))\n",
    "        p.close()\n",
    "        # wait for all tasks to complete\n",
    "        p.join()"
   ]
  },
  {
   "cell_type": "code",
   "execution_count": null,
   "id": "36668ed7-1781-4d63-860d-7ad063739385",
   "metadata": {},
   "outputs": [],
   "source": [
    "adata.obs['G2M_score'].isnull().any().any()"
   ]
  },
  {
   "cell_type": "code",
   "execution_count": null,
   "id": "63c880cb-d45c-465c-9f71-3fff19a5123c",
   "metadata": {},
   "outputs": [],
   "source": [
    "for var in ['G2M_score','S_score']:\n",
    "    adata.var[var] = do_reg_parallel(adata.var.index,var,20)"
   ]
  },
  {
   "cell_type": "code",
   "execution_count": null,
   "id": "543bfc8a-5ffe-4336-bd5e-499d8ecbb339",
   "metadata": {},
   "outputs": [],
   "source": [
    "adata.var['highly_variable'].value_counts()"
   ]
  },
  {
   "cell_type": "code",
   "execution_count": null,
   "id": "fe3638e0-4e67-4e61-9677-1d9edb2eeb7f",
   "metadata": {},
   "outputs": [],
   "source": [
    "adata.var.loc[adata.var['G2M_score'] > .1, 'highly_variable'] = False\n",
    "adata.var['highly_variable'].value_counts()"
   ]
  },
  {
   "cell_type": "code",
   "execution_count": null,
   "id": "c34ad3b7-5670-4e20-a920-9edb843db63e",
   "metadata": {},
   "outputs": [],
   "source": [
    "adata.var.loc[adata.var['S_score'] > .1, 'highly_variable'] = False\n",
    "adata.var['highly_variable'].value_counts()"
   ]
  },
  {
   "cell_type": "code",
   "execution_count": null,
   "id": "51e16b5f-fd96-406c-a8a4-9e6dbe9d3b74",
   "metadata": {},
   "outputs": [],
   "source": []
  },
  {
   "cell_type": "code",
   "execution_count": null,
   "id": "51b26019-c354-41ab-8055-3a668410a9ec",
   "metadata": {},
   "outputs": [],
   "source": [
    "##mira stuff\n",
    "model = mira.topics.make_model(\n",
    "    adata.n_obs, adata.n_vars, # helps MIRA choose reasonable values for some hyperparameters which are not tuned.\n",
    "    feature_type = 'expression',\n",
    "    #highly_variable_key='TF',\n",
    "    highly_variable_key = 'highly_variable',\n",
    "    counts_layer='original_counts',\n",
    "    categorical_covariates='batch',\n",
    "    #continuous_covariates= ['S_score','G2M_score'],\n",
    "    #max_learning_rate = 0.1\n",
    ")"
   ]
  },
  {
   "cell_type": "code",
   "execution_count": null,
   "id": "4071061d-35fc-4b41-8aeb-48ed5826ef90",
   "metadata": {},
   "outputs": [],
   "source": [
    "model.get_learning_rate_bounds(adata)"
   ]
  },
  {
   "cell_type": "code",
   "execution_count": null,
   "id": "85e4570c-8892-4b62-9c85-c0a946f87fa5",
   "metadata": {},
   "outputs": [],
   "source": [
    "model.set_learning_rates(1e-3, 0.1) # for larger datasets, the default of 1e-3, 0.1 usually works well.\n",
    "model.plot_learning_rate_bounds(figsize=(7,3))"
   ]
  },
  {
   "cell_type": "code",
   "execution_count": null,
   "id": "5724c404-3d3c-446e-89f3-3b7a45c9394e",
   "metadata": {
    "jupyter": {
     "outputs_hidden": true
    }
   },
   "outputs": [],
   "source": [
    "## quick loop to try out some different parameters\n",
    "from matplotlib.backends.backend_pdf import PdfPages\n",
    "\n",
    "topics = [7,8,9]\n",
    "epochs = [80,90,100,110,125,150,175]\n",
    "output_dir = 'figures_ignore/mouse/mm39/mira_integration_tuning/andrea_ecto/'\n",
    "for topic in topics:\n",
    "    with PdfPages(output_dir+str(topic)+'_trials.pdf') as pdf:\n",
    "        for epoch in epochs:\n",
    "            model = model.set_params(num_topics = topic,num_epochs = epoch).fit(adata)\n",
    "            model.predict(adata,)\n",
    "            sc.pp.neighbors(adata, use_rep = 'X_umap_features', metric = 'manhattan',n_neighbors=15)\n",
    "            sc.tl.umap(adata, )\n",
    "\n",
    "            plt.rcParams['figure.figsize'] = [5,4]\n",
    "            ax = sc.pl.umap(adata, color = ['sample','phase','Fezf2','Aldh1a3','Foxa1','Ascl1','Maob','Pcp4','Fgf8'], cmap = reds,ncols = 2, vmin = 0.05, show = False)\n",
    "            for p in ax:\n",
    "                p.set_rasterized(True)\n",
    "            pdf.savefig(dpi=150,bbox_inches='tight')\n",
    "            plt.close()"
   ]
  },
  {
   "cell_type": "code",
   "execution_count": null,
   "id": "c9457a49-006f-44a9-a635-3408b7dca6d6",
   "metadata": {},
   "outputs": [],
   "source": [
    "topic_contributions = mira.topics.gradient_tune(model, adata)"
   ]
  },
  {
   "cell_type": "code",
   "execution_count": null,
   "id": "8dc4444c-ba21-4e20-86e9-8e596c10aa2f",
   "metadata": {},
   "outputs": [],
   "source": [
    "NUM_TOPICS = 8\n",
    "\n",
    "mira.pl.plot_topic_contributions(topic_contributions, NUM_TOPICS)"
   ]
  },
  {
   "cell_type": "code",
   "execution_count": null,
   "id": "890a8b13-4cf0-47de-9396-aeab4daddae7",
   "metadata": {},
   "outputs": [],
   "source": [
    "NUM_TOPICS = 8 #8 and no cell cycle correction\n",
    "model = model.set_params(num_topics = NUM_TOPICS,num_epochs = 100).fit(adata)#85\n",
    "#model = model.set_params(num_topics = NUM_TOPICS).fit(adata)\n"
   ]
  },
  {
   "cell_type": "code",
   "execution_count": null,
   "id": "a1798bad-fc13-4b95-ab33-fa4ea5c98c15",
   "metadata": {},
   "outputs": [],
   "source": [
    "model.predict(adata,)"
   ]
  },
  {
   "cell_type": "code",
   "execution_count": null,
   "id": "da2c5090-6afd-4fe2-aa9d-4280f57b52da",
   "metadata": {},
   "outputs": [],
   "source": [
    "sc.pp.neighbors(adata, use_rep = 'X_umap_features', metric = 'manhattan',n_neighbors=15)\n",
    "#sc.tl.umap(adata, min_dist=0.1, negative_sample_rate=0.05,)\n",
    "#sc.tl.umap(adata, min_dist=0.3, negative_sample_rate=0.05,n_components =3)\n",
    "sc.tl.umap(adata, )\n",
    "\n"
   ]
  },
  {
   "cell_type": "code",
   "execution_count": null,
   "id": "213e1d40-5207-469a-bf3f-2c497a320e7f",
   "metadata": {},
   "outputs": [],
   "source": [
    "sc.tl.leiden(adata)\n",
    "#sc.tl.leiden(adata,resolution = 2, key_added = 'leiden_high')\n"
   ]
  },
  {
   "cell_type": "code",
   "execution_count": null,
   "id": "105674da-4caf-4b8a-866f-239864bd6ea2",
   "metadata": {},
   "outputs": [],
   "source": [
    "sc.pl.umap(adata, color = ['sample','batch','phase'],)"
   ]
  },
  {
   "cell_type": "code",
   "execution_count": null,
   "id": "028c8337-44f4-4742-a73f-05a358de8caf",
   "metadata": {},
   "outputs": [],
   "source": [
    "sc.pl.umap(adata, color = ['sample'],groups = ['14'])"
   ]
  },
  {
   "cell_type": "code",
   "execution_count": null,
   "id": "afca1bd9-edf6-4084-9fd5-8d70e138261c",
   "metadata": {},
   "outputs": [],
   "source": [
    "sc.pl.umap(adata, color = ['Bmp4','Fgf8','Aldh1a3','Acsm4',],cmap = reds, vmin = 0.05)"
   ]
  },
  {
   "cell_type": "code",
   "execution_count": null,
   "id": "ce600048-637d-452c-9b7b-d19d9d87f5a5",
   "metadata": {},
   "outputs": [],
   "source": [
    "adata.write('h5ad_files/mouse/ecto_andrea/ecto_nasal_placode_derived_concat_integrated_nocycle.h5ad')"
   ]
  },
  {
   "cell_type": "code",
   "execution_count": null,
   "id": "8c50bc8f-430d-45b5-bd3f-45407af5f049",
   "metadata": {},
   "outputs": [],
   "source": []
  },
  {
   "cell_type": "code",
   "execution_count": null,
   "id": "174c9262-027c-4677-a1a1-879c00971916",
   "metadata": {},
   "outputs": [],
   "source": []
  },
  {
   "cell_type": "code",
   "execution_count": null,
   "id": "ad71a1e3-9cdd-472c-8682-f639b5711ba0",
   "metadata": {},
   "outputs": [],
   "source": []
  },
  {
   "cell_type": "code",
   "execution_count": null,
   "id": "01b6449f-e1d2-4089-b0ec-4e7144da8cd0",
   "metadata": {},
   "outputs": [],
   "source": [
    "#This cluster 28 is Oc90 positive, clearly some inner ear cells\n",
    "sc.tl.leiden(adata, resolution = 2)\n",
    "sc.pl.umap(adata, color = 'leiden')"
   ]
  },
  {
   "cell_type": "code",
   "execution_count": null,
   "id": "657ebdec-7568-4b42-b81b-fcf5155fe78a",
   "metadata": {},
   "outputs": [],
   "source": [
    "sc.pl.umap(adata, color = 'Oc90',cmap = reds, vmin = 0.05)"
   ]
  },
  {
   "cell_type": "code",
   "execution_count": null,
   "id": "054035f3-4f0e-4507-8aa1-88c840fdf278",
   "metadata": {},
   "outputs": [],
   "source": [
    "sc.tl.rank_genes_groups(adata,groupby='leiden',method='wilcoxon')\n",
    "sc.tl.dendrogram(adata,groupby='leiden')\n",
    "sc.pl.rank_genes_groups_dotplot(adata,\n",
    "                                \n",
    "                                groups = ['28',],\n",
    "                                n_genes = 10, \n",
    "                                values_to_plot = 'logfoldchanges',\n",
    "                                cmap='bwr',vmin=-4,vmax=4,min_logfoldchange = 2,\n",
    "                                \n",
    "                               )"
   ]
  },
  {
   "cell_type": "code",
   "execution_count": null,
   "id": "a8d77fe3-4dfb-407c-ad3c-fb5b0448c466",
   "metadata": {},
   "outputs": [],
   "source": []
  }
 ],
 "metadata": {
  "kernelspec": {
   "display_name": "mira_env",
   "language": "python",
   "name": "mira_env"
  },
  "language_info": {
   "codemirror_mode": {
    "name": "ipython",
    "version": 3
   },
   "file_extension": ".py",
   "mimetype": "text/x-python",
   "name": "python",
   "nbconvert_exporter": "python",
   "pygments_lexer": "ipython3",
   "version": "3.11.8"
  }
 },
 "nbformat": 4,
 "nbformat_minor": 5
}
