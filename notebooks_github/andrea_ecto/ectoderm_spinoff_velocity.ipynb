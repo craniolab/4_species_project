{
 "cells": [
  {
   "cell_type": "code",
   "execution_count": null,
   "id": "073ae698-2ccb-44ae-97f9-e5277201bd18",
   "metadata": {},
   "outputs": [],
   "source": [
    "import logging\n",
    "logging.getLogger('matplotlib.font_manager').setLevel(logging.ERROR)\n",
    "import scanpy as sc\n",
    "import anndata as ad\n",
    "import scvelo as scv\n",
    "import scvi\n",
    "import seaborn as sns\n",
    "import plotly.express as px\n",
    "import numpy as np\n",
    "from dash import Dash, dcc, html, Input, Output,dash_table, ctx\n",
    "\n",
    "import pandas as pd\n",
    "\n",
    "import os\n",
    "import sys\n",
    "import time\n",
    "import warnings\n",
    "import gc\n",
    "os.environ['R_HOME'] = sys.exec_prefix+\"/lib/R/\"\n",
    "\n",
    "# Plotting\n",
    "import matplotlib\n",
    "import matplotlib.pyplot as plt\n",
    "import matplotlib as mpl\n",
    "from matplotlib.backends.backend_pdf import PdfPages\n",
    "from matplotlib.colors import LinearSegmentedColormap, ListedColormap\n",
    "from matplotlib.lines import Line2D \n",
    "\n",
    "from copy import copy\n",
    "reds = copy(mpl.cm.Reds)\n",
    "reds.set_under(\"lightgray\")\n",
    "\n",
    "project_directory = '/Cranio_Lab/Louk_Seton/4_species_project'\n",
    "os.chdir(os.path.expanduser(\"~\")+project_directory)"
   ]
  },
  {
   "cell_type": "code",
   "execution_count": null,
   "id": "7c511c12-88df-4cd9-9e1a-5c30085a8d49",
   "metadata": {},
   "outputs": [],
   "source": [
    "adata = sc.read('h5ad_files/mouse/ecto_andrea/ecto_combined_all_integrated.h5ad')"
   ]
  },
  {
   "cell_type": "code",
   "execution_count": null,
   "id": "12fa7abd-3eb6-4b9b-9cac-f804b920bed6",
   "metadata": {},
   "outputs": [],
   "source": [
    "sc.pl.umap(adata,color =['leiden_high'])"
   ]
  },
  {
   "cell_type": "code",
   "execution_count": null,
   "id": "1258e993-f0ca-4006-bf8c-2557758ef6fa",
   "metadata": {},
   "outputs": [],
   "source": [
    "scv.pl.proportions(adata,groupby = 'leiden_high',figsize =  (10,8))"
   ]
  },
  {
   "cell_type": "code",
   "execution_count": null,
   "id": "5c6cf17f-60de-4a31-8eab-9dbbcc836267",
   "metadata": {},
   "outputs": [],
   "source": [
    "warnings.filterwarnings('ignore')\n",
    "\n",
    "scv.pp.moments(adata, use_rep = 'X_umap_features',\n",
    "               #use_highly_variable=True,\n",
    "               n_neighbors=15)\n",
    "scv.tl.velocity(adata)\n",
    "scv.tl.velocity_graph(adata,n_jobs = 10)\n"
   ]
  },
  {
   "cell_type": "code",
   "execution_count": null,
   "id": "042656de-6f66-41af-adf6-0f063a88b2b1",
   "metadata": {},
   "outputs": [],
   "source": [
    "warnings.filterwarnings('ignore')\n",
    "\n",
    "scv.pl.velocity_embedding_stream(adata, color = 'sample',min_mass = 0,density=2.5,legend_loc = 'right margin',size=13, alpha=1,)"
   ]
  },
  {
   "cell_type": "code",
   "execution_count": null,
   "id": "49b5c3b0-225a-4b54-9a23-c9de0e2ef4bc",
   "metadata": {},
   "outputs": [],
   "source": [
    "warnings.filterwarnings('ignore')\n",
    "\n",
    "scv.pl.velocity_embedding_stream(adata, color = 'leiden_high',min_mass = 0,density=2.5,legend_loc = 'right margin',size=13, alpha=1,)"
   ]
  },
  {
   "cell_type": "code",
   "execution_count": null,
   "id": "c7bd2fca-9366-4e47-b17f-5fe5b2d8754f",
   "metadata": {},
   "outputs": [],
   "source": [
    "warnings.filterwarnings('ignore')\n",
    "\n",
    "scv.pl.velocity_embedding_stream(adata, color = 'annotation_ecto',min_mass = 0,density=2.5,legend_loc = 'right margin',size=13, alpha=1,)"
   ]
  },
  {
   "cell_type": "code",
   "execution_count": null,
   "id": "2b1368f1-c71a-4d1d-941a-e9525a868f4a",
   "metadata": {},
   "outputs": [],
   "source": [
    "scv.pl.velocity_embedding_stream(adata, color = 'sample',min_mass = 0,density=2.5,legend_loc = 'right margin',size=13, alpha=1,\n",
    "                                 groups='ME8')"
   ]
  },
  {
   "cell_type": "code",
   "execution_count": null,
   "id": "0a1085ca-16c9-4f4c-9a70-54b364a873d8",
   "metadata": {},
   "outputs": [],
   "source": [
    "scv.pl.velocity_embedding_stream(adata, color = 'sample',min_mass = 0,density=2.5,legend_loc = 'right margin',size=13, alpha=1,\n",
    "                                 groups='ME9')"
   ]
  },
  {
   "cell_type": "code",
   "execution_count": null,
   "id": "1f7a5353-7edd-4ea4-b921-0b54e11645a7",
   "metadata": {},
   "outputs": [],
   "source": [
    "scv.pl.velocity_embedding_stream(adata, color = 'sample',min_mass = 0,density=2.5,legend_loc = 'right margin',size=13, alpha=1,\n",
    "                                 groups='ME10')\n",
    "scv.pl.velocity_embedding_stream(adata, color = 'sample',min_mass = 0,density=2.5,legend_loc = 'right margin',size=13, alpha=1,\n",
    "                                 groups=['ME10','10'])"
   ]
  },
  {
   "cell_type": "code",
   "execution_count": null,
   "id": "303baac0-6a0a-4f8e-826e-cf3c8589d381",
   "metadata": {},
   "outputs": [],
   "source": [
    "scv.pl.velocity_embedding_stream(adata, color = 'sample',min_mass = 0,density=2.5,legend_loc = 'right margin',size=13, alpha=1,\n",
    "                                 groups=['11'])\n",
    "scv.pl.velocity_embedding_stream(adata, color = 'sample',min_mass = 0,density=2.5,legend_loc = 'right margin',size=13, alpha=1,\n",
    "                                 groups=['ME11',])\n",
    "scv.pl.velocity_embedding_stream(adata, color = 'sample',min_mass = 0,density=2.5,legend_loc = 'right margin',size=13, alpha=1,\n",
    "                                 groups=['ME11','11'])"
   ]
  },
  {
   "cell_type": "code",
   "execution_count": null,
   "id": "3a4e8d26-356c-441d-b1fd-d3b2082e1c06",
   "metadata": {},
   "outputs": [],
   "source": [
    "scv.pl.velocity_embedding_stream(adata, color = 'sample',min_mass = 0,density=2.5,legend_loc = 'right margin',size=13, alpha=1,\n",
    "                                 groups=['12'])\n",
    "scv.pl.velocity_embedding_stream(adata, color = 'sample',min_mass = 0,density=2.5,legend_loc = 'right margin',size=13, alpha=1,\n",
    "                                 groups=['ME12',])\n",
    "scv.pl.velocity_embedding_stream(adata, color = 'sample',min_mass = 0,density=2.5,legend_loc = 'right margin',size=13, alpha=1,\n",
    "                                 groups=['ME12','12'])"
   ]
  },
  {
   "cell_type": "code",
   "execution_count": null,
   "id": "94254f96-8ccf-4685-9f9d-66bd548754a3",
   "metadata": {},
   "outputs": [],
   "source": [
    "scv.pl.velocity_embedding_stream(adata, color = 'sample',min_mass = 0,density=2.5,legend_loc = 'right margin',size=13, alpha=1,\n",
    "                                 groups=['13'])\n",
    "scv.pl.velocity_embedding_stream(adata, color = 'sample',min_mass = 0,density=2.5,legend_loc = 'right margin',size=13, alpha=1,\n",
    "                                 groups=['14'])\n"
   ]
  },
  {
   "cell_type": "code",
   "execution_count": null,
   "id": "7b6d8112-2090-4880-adb4-6a4bf3d900e6",
   "metadata": {},
   "outputs": [],
   "source": []
  },
  {
   "cell_type": "code",
   "execution_count": null,
   "id": "902af838-9beb-4413-b9b5-0d62962ded57",
   "metadata": {},
   "outputs": [],
   "source": [
    "adata_early = adata[adata.obs['sample'].isin(['ME8','ME9','ME10'])].copy()"
   ]
  },
  {
   "cell_type": "code",
   "execution_count": null,
   "id": "283b4db1-006c-4cc4-a23e-1d294c0c941b",
   "metadata": {},
   "outputs": [],
   "source": [
    "adata_early.write('h5ad_files/mouse/ecto_andrea/adata_ecto_ME8_9_10.h5ad')"
   ]
  },
  {
   "cell_type": "code",
   "execution_count": null,
   "id": "20f72df8-6706-4c11-8b5e-0a259e538466",
   "metadata": {},
   "outputs": [],
   "source": [
    "sc.pp.neighbors(adata_early, use_rep = 'X_umap_features', metric = 'manhattan',n_neighbors=15)\n",
    "#sc.tl.umap(adata, min_dist=0.1, negative_sample_rate=0.05,)\n",
    "#sc.tl.umap(adata, min_dist=0.3, negative_sample_rate=0.05,n_components =3)\n",
    "sc.tl.umap(adata_early, )"
   ]
  },
  {
   "cell_type": "code",
   "execution_count": null,
   "id": "7ef8290f-f02c-4ea7-99ec-5576dc3ecf07",
   "metadata": {},
   "outputs": [],
   "source": [
    "sc.pl.umap(adata, color = ['sample','Cryab','Cryaa','Hesx1','Six1','Aldh1a3','Thrb','Sox10','Dlx5','Fezf1','Fezf2'],cmap = reds, vmin = 0.05, ncols =3)"
   ]
  },
  {
   "cell_type": "code",
   "execution_count": null,
   "id": "1f534b6f-e2ac-46f8-8a30-d1a2da8a52a7",
   "metadata": {},
   "outputs": [],
   "source": [
    "sc.pl.umap(adata_early, color = ['sample','Etv5','Hmx1','Aldh1a7','Thrb','Lgr5','Cdh6','Sox2','Six3','Cryab','Cryaa','Hesx1','Six1','Aldh1a3','Sox10','Dlx5','Fezf1','Fezf2'],cmap = reds, vmin = 0.05, ncols =3)"
   ]
  },
  {
   "cell_type": "code",
   "execution_count": null,
   "id": "55bafd47-071b-4a64-a931-cb5eb5efe0f5",
   "metadata": {},
   "outputs": [],
   "source": []
  },
  {
   "cell_type": "code",
   "execution_count": null,
   "id": "612df443-d37d-42a6-b924-0686076fe156",
   "metadata": {},
   "outputs": [],
   "source": []
  },
  {
   "cell_type": "code",
   "execution_count": null,
   "id": "c6704e5d-c417-4665-89ec-147e2461ea96",
   "metadata": {},
   "outputs": [],
   "source": [
    "adata = sc.read('h5ad_files/mouse/ecto_andrea/ecto_early_integrated.h5ad')"
   ]
  },
  {
   "cell_type": "code",
   "execution_count": null,
   "id": "fcaf1eea-6aa1-4ec7-80f3-9fd0552ea7f5",
   "metadata": {},
   "outputs": [],
   "source": [
    "sc.pl.umap(adata,color =['Hesx1','leiden_high','Pax3','Sp5',],cmap = reds,legend_loc = 'on data', vmin = 0.05)"
   ]
  },
  {
   "cell_type": "code",
   "execution_count": null,
   "id": "f7f7d78b-6c66-4af6-b7b6-dcf8914285fc",
   "metadata": {},
   "outputs": [],
   "source": [
    "sc.tl.rank_genes_groups(adata, groupby = 'leiden_high', method = 'wilcoxon')"
   ]
  },
  {
   "cell_type": "code",
   "execution_count": null,
   "id": "d78d6268-f42a-43e0-a735-b23ba7e73480",
   "metadata": {},
   "outputs": [],
   "source": [
    "sc.pl.rank_genes_groups_dotplot(adata, n_genes=8,\n",
    "                                groups = ['17','8','2','12','14','23'],\n",
    "                                values_to_plot=\"logfoldchanges\", cmap='bwr',\n",
    "                                vmin=-4, vmax=4,\n",
    "                                min_logfoldchange=2.5,\n",
    "                                colorbar_title='log fold change'\n",
    "                               )"
   ]
  },
  {
   "cell_type": "code",
   "execution_count": null,
   "id": "0f372a67-1041-45f4-8014-9e2e9a620cce",
   "metadata": {},
   "outputs": [],
   "source": [
    "scv.pl.proportions(adata,groupby = 'leiden_high',figsize =  (10,8))"
   ]
  },
  {
   "cell_type": "code",
   "execution_count": null,
   "id": "fb7cea15-a872-42bc-ad86-5b1c3aee5539",
   "metadata": {},
   "outputs": [],
   "source": [
    "warnings.filterwarnings('ignore')\n",
    "\n",
    "scv.pp.moments(adata, use_rep = 'X_umap_features',\n",
    "               #use_highly_variable=True,\n",
    "               n_neighbors=15)\n",
    "scv.tl.velocity(adata)\n",
    "scv.tl.velocity_graph(adata,n_jobs = 10)\n"
   ]
  },
  {
   "cell_type": "code",
   "execution_count": null,
   "id": "93b72fa0-68df-4295-993a-1426d1d6a65f",
   "metadata": {},
   "outputs": [],
   "source": [
    "warnings.filterwarnings('ignore')\n",
    "\n",
    "scv.pl.velocity_embedding_stream(adata, color = 'sample',min_mass = 0,density=2.5,legend_loc = 'right margin',size=13, alpha=1,)"
   ]
  },
  {
   "cell_type": "code",
   "execution_count": null,
   "id": "54f3ea1d-b2bc-4681-83f4-5d26ec41e439",
   "metadata": {},
   "outputs": [],
   "source": [
    "warnings.filterwarnings('ignore')\n",
    "\n",
    "scv.pl.velocity_embedding_stream(adata, color = 'leiden_high',min_mass = 0,density=2.5,legend_loc = 'right margin',size=13, alpha=1,)"
   ]
  },
  {
   "cell_type": "code",
   "execution_count": null,
   "id": "de0df398-6c55-429d-99e3-91730c99347a",
   "metadata": {},
   "outputs": [],
   "source": [
    "warnings.filterwarnings('ignore')\n",
    "\n",
    "scv.pl.velocity_embedding_stream(adata, color = 'sample',min_mass = 0,density=2.5,legend_loc = 'right margin',size=13, alpha=1,)"
   ]
  },
  {
   "cell_type": "code",
   "execution_count": null,
   "id": "ae299dd3-d40a-4c6f-b02c-92d80fed1c33",
   "metadata": {},
   "outputs": [],
   "source": [
    "scv.pl.velocity_embedding_stream(adata, color = 'sample',min_mass = 0,density=2.5,legend_loc = 'right margin',size=13, alpha=1,\n",
    "                                 groups='ME8')"
   ]
  },
  {
   "cell_type": "code",
   "execution_count": null,
   "id": "da3dfb21-99db-4bd9-99da-20c48e277d62",
   "metadata": {},
   "outputs": [],
   "source": [
    "scv.pl.velocity_embedding_stream(adata, color = 'sample',min_mass = 0,density=2.5,legend_loc = 'right margin',size=13, alpha=1,\n",
    "                                 groups='ME9')"
   ]
  },
  {
   "cell_type": "code",
   "execution_count": null,
   "id": "5af1bb00-d79d-4061-8d9a-eb94e1f00507",
   "metadata": {},
   "outputs": [],
   "source": [
    "scv.pl.velocity_embedding_stream(adata, color = 'sample',min_mass = 0,density=2.5,legend_loc = 'right margin',size=13, alpha=1,\n",
    "                                 groups='ME10')"
   ]
  },
  {
   "cell_type": "code",
   "execution_count": null,
   "id": "e6363775-7904-40c9-bca3-1ca315a11f87",
   "metadata": {},
   "outputs": [],
   "source": [
    "scv.tl.recover_dynamics(adata)"
   ]
  },
  {
   "cell_type": "code",
   "execution_count": null,
   "id": "9b92a9a5-2308-41c4-b1f0-6c874319ae58",
   "metadata": {},
   "outputs": [],
   "source": [
    "scv.tl.velocity(adata, mode='dynamical')\n",
    "scv.tl.velocity_graph(adata)"
   ]
  },
  {
   "cell_type": "code",
   "execution_count": null,
   "id": "b07418a8-ee72-4e6e-89b8-5eda9fc4d96c",
   "metadata": {},
   "outputs": [],
   "source": [
    "warnings.filterwarnings('ignore')\n",
    "\n",
    "scv.pl.velocity_embedding_stream(adata, color = 'sample',min_mass = 0,density=2.5,legend_loc = 'right margin',size=20, alpha=1,)"
   ]
  },
  {
   "cell_type": "code",
   "execution_count": null,
   "id": "2b28af9d-8c72-43b2-89b1-d4c8a3810a57",
   "metadata": {},
   "outputs": [],
   "source": [
    "scv.tl.latent_time(adata )\n",
    "scv.pl.scatter(adata, color=\"latent_time\", color_map=\"gnuplot\")"
   ]
  },
  {
   "cell_type": "code",
   "execution_count": null,
   "id": "5456213e-061e-44d4-b219-ebc5f1f22a6f",
   "metadata": {},
   "outputs": [],
   "source": []
  },
  {
   "cell_type": "code",
   "execution_count": null,
   "id": "f8819b71-bdd8-4f66-a7f3-9c9e3da97216",
   "metadata": {},
   "outputs": [],
   "source": []
  },
  {
   "cell_type": "code",
   "execution_count": null,
   "id": "59c37685-39cc-4d13-a9c7-7cf985fb7b84",
   "metadata": {},
   "outputs": [],
   "source": [
    "# leiden_res = [0.5,0.6,0.7,0.8,0.9,1,1.2,1.4,1.6,1.8,2,2.2,2.4,2.6,2.8,3]\n",
    "# for i in leiden_res:\n",
    "#     sc.tl.leiden(adata, resolution = i, key_added = 'leiden'+str(i))\n",
    "# try:\n",
    "#     del adata.uns['log1p']\n",
    "# except: print('no log1p')\n",
    "# leiden_res = [0.5,0.6,0.7,0.8,0.9,1,1.2,1.4,1.6,1.8,2,2.2,2.4,2.6,2.8,3]\n",
    "# for i in leiden_res:\n",
    "#     sc.tl.rank_genes_groups(adata, 'leiden'+str(i), method='wilcoxon', \n",
    "#                             key_added = \"wilcoxon_\"+'leiden'+str(i))\n",
    "\n",
    "# sc.tl.rank_genes_groups(adata, 'leiden_high', method='wilcoxon', \n",
    "#                             key_added = \"wilcoxon_\"+'leiden_high')"
   ]
  },
  {
   "cell_type": "code",
   "execution_count": null,
   "id": "357c97b4-5120-4786-8deb-043b33f260e7",
   "metadata": {},
   "outputs": [],
   "source": [
    "# def matplotlib_to_plotly(cmap, pl_entries):\n",
    "#     h = 1.0/(pl_entries-1)\n",
    "#     pl_colorscale = []\n",
    "\n",
    "#     for k in range(pl_entries):\n",
    "#         C = list(map(np.uint8, np.array(cmap(k * h)[:3]) * 255))\n",
    "#         pl_colorscale.append([k*h, 'rgb'+str((C[0], C[1], C[2]))])\n",
    "\n",
    "#     return pl_colorscale\n",
    "\n",
    "# plotly_reds = matplotlib_to_plotly(reds, 255)\n",
    "# plotly_reds[0] = [0.0, 'rgb(211, 211, 211)']"
   ]
  },
  {
   "cell_type": "code",
   "execution_count": null,
   "id": "3636d91e-fb13-4652-8fb8-34588e0c9a13",
   "metadata": {},
   "outputs": [],
   "source": [
    "# adata.var['gene_symbol'] = adata.var['gene_name']"
   ]
  },
  {
   "cell_type": "code",
   "execution_count": null,
   "id": "471bb73d-db56-422c-83a0-c03548d85f83",
   "metadata": {},
   "outputs": [],
   "source": [
    "# adata.write('h5ad_files/mouse/ecto_andrea/ecto_interactive.h5ad')\n",
    "# #adata = sc.read('h5ad_files/mouse/ecto_andrea/ecto_interactive.h5ad')"
   ]
  },
  {
   "cell_type": "code",
   "execution_count": null,
   "id": "1469c74f-3a51-4fa4-8e03-da9c2f2b1c30",
   "metadata": {},
   "outputs": [],
   "source": [
    "# #Interactive dash app to view 3D plot\n",
    "# #create quick dataframe\n",
    "# tmp_df = pd.DataFrame(adata.obsm['X_umap'], columns = ['X','Y'])\n",
    "# tmp_df.index = adata.obs.index\n",
    "# tmp_df = tmp_df.join(adata.obs)\n",
    "# tmp_df['barcode'] = list(tmp_df.index) \n",
    "# port = 11188\n",
    "# app = Dash(__name__)\n",
    "\n",
    "# app.layout = html.Div([\n",
    "#     html.Div([\n",
    "#         html.Div([\n",
    "#             html.Label(\"Select gene\"),\n",
    "#             dcc.Dropdown(adata.var.index.tolist(), \n",
    "#                          value='Sox10',\n",
    "#                          id=\"dropdown_var\",\n",
    "#                         ),\n",
    "#             html.Label(id='gene_id'),\n",
    "#             html.Br(),\n",
    "#             html.Label(id='gene_product'),\n",
    "#             html.Br(),\n",
    "#             html.Div([],id='db_xref'),\n",
    "#             html.Br(),\n",
    "#             html.Label(\"Point size\"),\n",
    "#             dcc.Slider(1, 10,\n",
    "#                        marks = None,\n",
    "#                        value=2,\n",
    "#                        id='slider_marker_size',\n",
    "#                        tooltip={\"placement\": \"bottom\", \"always_visible\": True},\n",
    "#                       ),\n",
    "#         ],\n",
    "#             style={'width': '49%', 'display': 'inline-block'}),\n",
    "#         html.Div([\n",
    "#             html.Label(\"Select obs\"),\n",
    "#             dcc.Dropdown(adata.obs.columns.tolist(), \n",
    "#                          value='leiden_high',\n",
    "#                          id=\"dropdown_obs\",\n",
    "#                         ),\n",
    "            \n",
    "#         ],\n",
    "#            style={'width': '49%', 'float': 'right', 'display': 'inline-block'}),\n",
    "#     ],\n",
    "#         style={'padding': '10px 5px'}),\n",
    "#     html.Div([\n",
    "#       dcc.Graph(id=\"graph1\"),\n",
    "        \n",
    "#     ],\n",
    "#         style={'width': '49%', 'display': 'inline-block'}),\n",
    "#      html.Div([\n",
    "#       dcc.Graph(id=\"graph2\")\n",
    "#     ],\n",
    "#         style={'width': '49%', 'display': 'inline-block'}),\n",
    "#     html.Div(id=\"cluster_select\",\n",
    "#         style={'width': '49%', 'display': 'inline-block'},),\n",
    "#     html.Div(id='deg_table'),\n",
    "#     html.Div(dcc.Store(id='gene_plotted')),\n",
    "# ])\n",
    "    \n",
    "                \n",
    "            \n",
    "\n",
    "# @app.callback(\n",
    "#     Output(\"graph1\", \"figure\"),\n",
    "#     Output('gene_plotted','data'),\n",
    "#     Input(\"slider_marker_size\", \"value\"),\n",
    "#     Input('deg_table_callback', 'active_cell'),\n",
    "#     Input(\"dropdown_var\", \"value\"),\n",
    "#     Input('deg_table_callback', 'derived_viewport_data'),\n",
    "# )\n",
    "# def update_graph_1(size_var,active_cell,dropdown_var,data_deg):\n",
    "#     callback_id = ctx.triggered_id if not None else 'dropdown_var'\n",
    "#     if callback_id == 'dropdown_var':\n",
    "#         color_var = dropdown_var\n",
    "#     elif callback_id == 'deg_table_callback':\n",
    "#         try:\n",
    "#             color_var = data_deg[active_cell['row']]['names']\n",
    "#         except:\n",
    "#             color_var = dropdown_var\n",
    "        \n",
    "#     else:\n",
    "#         color_var = dropdown_var\n",
    "#     plot_df = tmp_df\n",
    "#     fig = px.scatter(plot_df, x='X', y='Y',\n",
    "#                         color = adata[:,color_var].X.toarray().flatten(),\n",
    "#                         hover_data={'X':False,\n",
    "#                                     'Y':False,\n",
    "#                                     'barcode':True,\n",
    "#                                     'stage':True,\n",
    "#                                     'phase':True,},\n",
    "#                         color_continuous_scale = plotly_reds,\n",
    "#                         labels = {'color':color_var},\n",
    "#                         width=700, height=700,\n",
    "#                        )\n",
    "#     fig.update_traces(marker={'size': size_var,\n",
    "#                          'line': {'width':.02,'color':'DarkSlateGrey'},\n",
    "#                          })\n",
    "#     fig.update_layout(uirevision='constant')\n",
    "#     return fig, color_var\n",
    "\n",
    "# @app.callback(\n",
    "#     Output(\"graph2\", \"figure\"),\n",
    "#     Input(\"dropdown_obs\", \"value\"),\n",
    "#     Input(\"slider_marker_size\", \"value\"),\n",
    "# )\n",
    "# def update_graph_2(color_var, size_var):\n",
    "#     plot_df = tmp_df\n",
    "#     sorted_list = []\n",
    "#     for i in plot_df:\n",
    "#         if pd.api.types.is_categorical_dtype(plot_df[i]):\n",
    "#             plot_df[i] = plot_df[i].cat.remove_unused_categories()\n",
    "#     if pd.api.types.is_categorical_dtype(plot_df[color_var]):\n",
    "#         try:\n",
    "#             sorted_list = sorted(list(plot_df[color_var].unique().categories), key = int)\n",
    "#         except:\n",
    "#             sorted_list = sorted(list(plot_df[color_var].unique().categories))\n",
    "                             \n",
    "     \n",
    "#     fig = px.scatter(plot_df, x='X', y='Y',\n",
    "#                         color = plot_df[color_var],\n",
    "#                         hover_data={'X':False,\n",
    "#                                     'Y':False,\n",
    "#                                     'barcode':True,\n",
    "#                                     'stage':True,\n",
    "#                                     'phase':True,},\n",
    "#                         #color='leiden_0.5',\n",
    "#                         color_continuous_scale = plotly_reds,\n",
    "#                         category_orders={color_var: sorted_list},\n",
    "#                         width=800, height=700,\n",
    "#                        )\n",
    "    \n",
    "#     fig.update_traces(marker={'size': size_var,\n",
    "#                          'line': {'width':.02,'color':'DarkSlateGrey'},\n",
    "#                          })\n",
    "#     fig.update_layout(legend= {'itemsizing': 'constant'})\n",
    "\n",
    "#     fig.update_layout(uirevision='constant')\n",
    "#     return fig\n",
    "\n",
    "\n",
    "# @app.callback(\n",
    "#     Output(\"gene_id\", \"children\"),\n",
    "#     Input(\"gene_plotted\", \"data\"),\n",
    "# )\n",
    "# def update_gene_id(gene_selected):\n",
    "#     gene_id = adata.var.loc[gene_selected,'gene_symbol']\n",
    "#     return f'{gene_id}'\n",
    "\n",
    "\n",
    "\n",
    "# @app.callback(Output('cluster_select','children'),\n",
    "#               Input('dropdown_obs','value'),\n",
    "#              )\n",
    "# def cluster_dropdown(leiden_res):\n",
    "#     if 'leiden' in leiden_res or 'annotation_paper_coarse' in leiden_res or 'annotation_2024' in leiden_res:\n",
    "#         return dcc.Dropdown(list(adata.obs[leiden_res].cat.categories), \n",
    "#                            value=list(adata.obs[leiden_res].cat.categories)[0],id = 'cluster_select2')\n",
    "\n",
    "# @app.callback(Output('deg_table','children'),\n",
    "#               Input('dropdown_obs','value'),\n",
    "#               Input('cluster_select2','value'),\n",
    "#              )\n",
    "# def update_datatable(leiden_res,cluster_select):            \n",
    "#     if 'leiden' in leiden_res or 'annotation_paper_coarse' in leiden_res or 'annotation_2024' in leiden_res:\n",
    "#         deg_df = sc.get.rank_genes_groups_df(adata, group=None, key='wilcoxon_'+leiden_res)\n",
    "#         deg_df = deg_df[deg_df['group']==cluster_select].iloc[:,1:6]\n",
    "#         data_deg = deg_df.to_dict('records')\n",
    "#         columns =  [{\"name\": i, \"id\": i,} for i in (deg_df.columns)]\n",
    "#         return dash_table.DataTable(data=data_deg, \n",
    "#                                     columns=columns,\n",
    "#                                     filter_action=\"native\",\n",
    "#                                     sort_action=\"native\",\n",
    "#                                     sort_mode=\"multi\",\n",
    "#                                     column_selectable=\"single\",\n",
    "#                                     page_action=\"native\",\n",
    "#                                     page_current= 0,\n",
    "#                                     page_size= 10,\n",
    "#                                     id = 'deg_table_callback',\n",
    "#                                    )\n",
    "\n",
    "# app.run(jupyter_mode=\"tab\",host='0.0.0.0', port = port ,debug=False)\n",
    "# print('Use this link: '+'http://cranio213:'+str(port))"
   ]
  },
  {
   "cell_type": "code",
   "execution_count": null,
   "id": "7d27e0df-999b-4fa7-b977-c721fd8c9492",
   "metadata": {},
   "outputs": [],
   "source": []
  }
 ],
 "metadata": {
  "kernelspec": {
   "display_name": "scanpy_2025",
   "language": "python",
   "name": "scanpy_2025"
  },
  "language_info": {
   "codemirror_mode": {
    "name": "ipython",
    "version": 3
   },
   "file_extension": ".py",
   "mimetype": "text/x-python",
   "name": "python",
   "nbconvert_exporter": "python",
   "pygments_lexer": "ipython3",
   "version": "3.11.11"
  }
 },
 "nbformat": 4,
 "nbformat_minor": 5
}
