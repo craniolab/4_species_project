{
 "cells": [
  {
   "cell_type": "code",
   "execution_count": null,
   "id": "f9bc7484-1d89-4ff5-870d-b7f7ca607cbf",
   "metadata": {},
   "outputs": [],
   "source": []
  },
  {
   "cell_type": "code",
   "execution_count": null,
   "id": "b6ce9f77-6ef1-4264-9604-ff4f08d1c731",
   "metadata": {},
   "outputs": [],
   "source": [
    "import logging\n",
    "logging.getLogger('matplotlib.font_manager').setLevel(logging.ERROR)\n",
    "import scanpy as sc\n",
    "import anndata as ad\n",
    "import scvelo as scv\n",
    "import scvi\n",
    "import seaborn as sns\n",
    "import plotly.express as px\n",
    "import numpy as np\n",
    "from dash import Dash, dcc, html, Input, Output\n",
    "\n",
    "import pandas as pd\n",
    "import warnings\n",
    "import os\n",
    "import sys\n",
    "import time\n",
    "import gc\n",
    "os.environ['R_HOME'] = sys.exec_prefix+\"/lib/R/\"\n",
    "\n",
    "# Plotting\n",
    "import matplotlib\n",
    "import matplotlib.pyplot as plt\n",
    "import matplotlib as mpl\n",
    "from matplotlib.backends.backend_pdf import PdfPages\n",
    "from matplotlib.colors import LinearSegmentedColormap, ListedColormap\n",
    "from matplotlib.lines import Line2D \n",
    "\n",
    "from copy import copy\n",
    "reds = copy(mpl.cm.Reds)\n",
    "reds.set_under(\"lightgray\")\n",
    "\n",
    "project_directory = '/Cranio_Lab/Louk_Seton/4_species_project'\n",
    "os.chdir(os.path.expanduser(\"~\")+project_directory)"
   ]
  },
  {
   "cell_type": "code",
   "execution_count": null,
   "id": "709de9c8-4bf9-41de-9ce4-e519c715559e",
   "metadata": {},
   "outputs": [],
   "source": [
    "adata = sc.read('h5ad_files/mouse/ecto_andrea/ecto_nasal_placode_derived_2024.h5ad')"
   ]
  },
  {
   "cell_type": "code",
   "execution_count": null,
   "id": "2a27e9e6-6b92-47cf-b487-22178e61e0bb",
   "metadata": {},
   "outputs": [],
   "source": [
    "adata.X = adata.layers['original_counts'].copy()\n"
   ]
  },
  {
   "cell_type": "code",
   "execution_count": null,
   "id": "a8304766-32c3-4015-aab7-c4d1925c8f39",
   "metadata": {},
   "outputs": [],
   "source": [
    "adata = adata[adata[:,'Foxe1'].X<1]\n",
    "adata = adata[adata[:,'Nkx2-3'].X<1]\n"
   ]
  },
  {
   "cell_type": "code",
   "execution_count": null,
   "id": "912cbb31-8539-47fa-975a-6febb1e71e6c",
   "metadata": {},
   "outputs": [],
   "source": []
  },
  {
   "cell_type": "code",
   "execution_count": null,
   "id": "be7ab867-258a-4a85-bafc-6630fb1abefe",
   "metadata": {},
   "outputs": [],
   "source": [
    "adata.X = adata.layers['original_counts'].copy()\n",
    "sc.pp.normalize_total(adata) # Normalizing to median total counts\n",
    "sc.pp.log1p(adata) # Logarithmize the data\n",
    "adata.layers[\"normalized_counts\"] = adata.X.copy()\n",
    "\n",
    "##highly variable genes\n",
    "sc.pp.highly_variable_genes(adata, n_top_genes=500,batch_key = 'sample')\n",
    "\n",
    "##dimensionality reduction and clustering\n",
    "sc.tl.pca(adata)\n",
    "sc.pl.pca_variance_ratio(adata,log = True)\n"
   ]
  },
  {
   "cell_type": "code",
   "execution_count": null,
   "id": "cba0332f-e498-4e9d-86a1-ec43914cd5c1",
   "metadata": {},
   "outputs": [],
   "source": [
    "sc.pp.neighbors(adata,n_pcs = 8)\n",
    "sc.tl.umap(adata)\n",
    "sc.tl.leiden(adata,resolution = 1, key_added = 'leiden_post_QC')\n",
    "\n",
    "sc.pl.umap(adata,color = ['sample','phase','leiden_post_QC',\n",
    "                         ], ncols = 3, size = 50,legend_loc = 'on data',\n",
    "           \n",
    "           cmap = reds, vmin = 0.05)"
   ]
  },
  {
   "cell_type": "code",
   "execution_count": null,
   "id": "3c6c0b9b-7e38-44e8-a8dc-21582c966a5f",
   "metadata": {},
   "outputs": [],
   "source": [
    "# adata = adata[adata.obs['leiden_post_QC'].isin(['0','1','2','3','4','7','8','9','10','12'])]\n"
   ]
  },
  {
   "cell_type": "code",
   "execution_count": null,
   "id": "61a26b99-4520-4b1f-8e4f-cbce44cc5673",
   "metadata": {},
   "outputs": [],
   "source": [
    "# adata.X = adata.layers['original_counts'].copy()\n",
    "# sc.pp.normalize_total(adata) # Normalizing to median total counts\n",
    "# sc.pp.log1p(adata) # Logarithmize the data\n",
    "# adata.layers[\"normalized_counts\"] = adata.X.copy()\n",
    "\n",
    "# ##highly variable genes\n",
    "# sc.pp.highly_variable_genes(adata, n_top_genes=300,)\n",
    "\n",
    "# ##dimensionality reduction and clustering\n",
    "# sc.tl.pca(adata)\n",
    "# sc.pl.pca_variance_ratio(adata,log = True)\n"
   ]
  },
  {
   "cell_type": "code",
   "execution_count": null,
   "id": "885a3dc7-ac01-4ae0-a70a-986acc91a1e9",
   "metadata": {},
   "outputs": [],
   "source": [
    "# sc.pp.neighbors(adata,n_pcs = 6)\n",
    "# sc.tl.umap(adata)\n",
    "# sc.tl.leiden(adata,resolution = 1, key_added = 'leiden_post_QC')\n",
    "\n",
    "# sc.pl.umap(adata,color = ['sample','phase','leiden_post_QC',\n",
    "#                          ], ncols = 3, size = 50,legend_loc = 'on data',\n",
    "           \n",
    "#            cmap = reds, vmin = 0.05)"
   ]
  },
  {
   "cell_type": "code",
   "execution_count": null,
   "id": "d951bea0-3ce8-452d-8d3d-f0625f9027b0",
   "metadata": {},
   "outputs": [],
   "source": [
    "sc.pl.umap(adata,color = ['Xist','Dlx5','Fezf2','Fgf8','Casr','Prnp','Ascl1','Neurog1','Maob','Pcp4','Aldh1a3','Fgf17','Wnt6',\n",
    "                          'leiden_post_QC',\n",
    "                         ], ncols = 3, size = 50,legend_loc = 'on data',\n",
    "           \n",
    "           cmap = reds, vmin = 0.05)"
   ]
  },
  {
   "cell_type": "code",
   "execution_count": null,
   "id": "a85d27e7-0b4c-422a-8884-32d13ff25057",
   "metadata": {},
   "outputs": [],
   "source": [
    "sc.tl.rank_genes_groups(adata,groupby='leiden_post_QC',method='wilcoxon')\n",
    "sc.tl.dendrogram(adata,groupby='leiden_post_QC')\n",
    "sc.pl.rank_genes_groups_dotplot(adata,\n",
    "                                #groups = ['2','4','5','6','8','9','10','12','14','15','18',],\n",
    "                                n_genes = 10, values_to_plot = 'logfoldchanges',\n",
    "                                cmap='bwr',vmin=-4,vmax=4,min_logfoldchange = 3)"
   ]
  },
  {
   "cell_type": "code",
   "execution_count": null,
   "id": "88ca3399-bdc1-4832-941b-30c1dd9a7d13",
   "metadata": {},
   "outputs": [],
   "source": [
    "sc.pl.rank_genes_groups_dotplot(adata,\n",
    "                                groups = ['9',],\n",
    "                                n_genes = 30, values_to_plot = 'logfoldchanges',\n",
    "                                cmap='bwr',vmin=-4,vmax=4,min_logfoldchange = 2)"
   ]
  },
  {
   "cell_type": "code",
   "execution_count": null,
   "id": "bf512626-cc24-4c41-aff3-4f28ac8cc975",
   "metadata": {},
   "outputs": [],
   "source": [
    "sc.pl.umap(adata,color = ['Pitx2','Bmp4','Mgp','Grm7','Sp8','Hes1','Olfm5','Foxa1',\n",
    "                          'leiden_post_QC',\n",
    "                         ], ncols = 3, size = 50,legend_loc = 'on data',\n",
    "           \n",
    "           cmap = reds, vmin = 0.05)"
   ]
  },
  {
   "cell_type": "code",
   "execution_count": null,
   "id": "08179a5c-0800-4446-9813-c986e2c6d572",
   "metadata": {},
   "outputs": [],
   "source": [
    "scv.pp.filter_genes(adata, min_counts = 5, min_counts_u = 1)\n",
    "adata = adata[:,(adata.layers['spliced'].sum(axis=0)/adata.layers['unspliced'].sum(axis=0))>.8]"
   ]
  },
  {
   "cell_type": "code",
   "execution_count": null,
   "id": "390db239-f6d2-42ef-b620-16d360eba0fc",
   "metadata": {},
   "outputs": [],
   "source": [
    "adata.X = adata.layers['original_counts'].copy()\n",
    "del adata.uns['log1p']\n",
    "scv.pp.filter_and_normalize(adata, min_shared_counts=20, n_top_genes=1000)"
   ]
  },
  {
   "cell_type": "code",
   "execution_count": null,
   "id": "8d8ecc36-4d79-4497-a94a-b572d7c32c23",
   "metadata": {},
   "outputs": [],
   "source": [
    "scv.pl.proportions(adata,groupby = 'leiden_post_QC',figsize =  (10,8))"
   ]
  },
  {
   "cell_type": "code",
   "execution_count": null,
   "id": "b063e123-5d13-408a-a129-637b8fe3a510",
   "metadata": {},
   "outputs": [],
   "source": [
    "warnings.filterwarnings('ignore')\n",
    "\n",
    "scv.pp.moments(adata,\n",
    "               use_highly_variable=True,\n",
    "               n_neighbors=15)\n",
    "scv.tl.velocity(adata)\n",
    "scv.tl.velocity_graph(adata,n_jobs = 10)\n"
   ]
  },
  {
   "cell_type": "code",
   "execution_count": null,
   "id": "3f55d41c-0d94-483c-9ffd-907687483793",
   "metadata": {},
   "outputs": [],
   "source": [
    "warnings.filterwarnings('ignore')\n",
    "\n",
    "scv.pl.velocity_embedding_stream(adata, color = 'sample',min_mass = 0,density=2.5,legend_loc = 'right margin',size=13, alpha=1,)"
   ]
  },
  {
   "cell_type": "code",
   "execution_count": null,
   "id": "27f967d8-cd67-4403-a421-09f767049fc9",
   "metadata": {},
   "outputs": [],
   "source": [
    "scv.pl.velocity(adata, ['Maob','Pcp4','Aldh1a3','Ascl1','Grm7'], color = 'leiden_post_QC',ncols=2)"
   ]
  },
  {
   "cell_type": "code",
   "execution_count": null,
   "id": "d0855d1b-85bf-452c-9d0e-d91a595b2a50",
   "metadata": {},
   "outputs": [],
   "source": [
    "scv.tl.rank_velocity_genes(adata, groupby='leiden_post_QC', min_corr=.3)\n",
    "\n",
    "df = pd.DataFrame(adata.uns['rank_velocity_genes']['names'])"
   ]
  },
  {
   "cell_type": "code",
   "execution_count": null,
   "id": "46195d0a-afe0-470a-bbf0-652c596afbb6",
   "metadata": {},
   "outputs": [],
   "source": [
    "\n",
    "scv.pl.velocity(adata, df['2'][:10], color = 'leiden_post_QC',ncols=2)"
   ]
  },
  {
   "cell_type": "code",
   "execution_count": null,
   "id": "091c059a-4c01-46bb-b2f4-dd9585b37f11",
   "metadata": {},
   "outputs": [],
   "source": []
  },
  {
   "cell_type": "code",
   "execution_count": null,
   "id": "b46f2253-b84f-4b95-aa4e-39c50c1635de",
   "metadata": {},
   "outputs": [],
   "source": [
    "adata[:,adata.var['highly_variable']==True].var.index"
   ]
  },
  {
   "cell_type": "code",
   "execution_count": null,
   "id": "4aae7707-fdfb-46be-9545-c50ed51ed00c",
   "metadata": {},
   "outputs": [],
   "source": [
    "adata_2023 = sc.read('h5ad_files/mouse/ecto_andrea/ecto_nasal_placode_derived_2023.h5ad')"
   ]
  },
  {
   "cell_type": "code",
   "execution_count": null,
   "id": "dcc8e394-2ca3-4b54-b499-0262e3e53df1",
   "metadata": {},
   "outputs": [],
   "source": [
    "adata_2023.var['highly_variable'] = np.where(adata_2023.var.index.isin(list(adata[:,adata.var['highly_variable']==True].var.index)),True,False)"
   ]
  },
  {
   "cell_type": "code",
   "execution_count": null,
   "id": "efdc8d3a-9b78-4c9f-bf2a-6cfee7a8fbcb",
   "metadata": {},
   "outputs": [],
   "source": [
    "adata_2023 = adata_2023[:,adata[:,adata.var.index.isin(adata_2023.var.index)].var.index].copy()\n",
    "adata = adata[:,adata_2023[:,adata_2023.var.index.isin(adata_2023.var.index)].var.index].copy()"
   ]
  },
  {
   "cell_type": "code",
   "execution_count": null,
   "id": "1ba4cead-dde2-45c0-a603-772a842ffd33",
   "metadata": {},
   "outputs": [],
   "source": [
    "adata_2023.obs['batch']='2023'\n",
    "adata.obs['batch']='2024'"
   ]
  },
  {
   "cell_type": "code",
   "execution_count": null,
   "id": "bf3c3853-81f0-42ec-940a-0ad1426e3997",
   "metadata": {},
   "outputs": [],
   "source": [
    "adata"
   ]
  },
  {
   "cell_type": "code",
   "execution_count": null,
   "id": "40ac3178-9541-4d79-bd59-8806905f95d9",
   "metadata": {},
   "outputs": [],
   "source": [
    "adata_concat = ad.concat([adata,adata_2023],join = 'outer')"
   ]
  },
  {
   "cell_type": "code",
   "execution_count": null,
   "id": "794a3f86-932e-42c1-86a4-1d64463cd76c",
   "metadata": {},
   "outputs": [],
   "source": [
    "adata_concat.obs['batch'] = adata_concat.obs['batch'].astype('category')\n",
    "adata_concat.obs['batch']"
   ]
  },
  {
   "cell_type": "code",
   "execution_count": null,
   "id": "f18b4763-1c28-44df-8da2-7ad268ec9721",
   "metadata": {},
   "outputs": [],
   "source": [
    "adata_concat.var = adata.var"
   ]
  },
  {
   "cell_type": "code",
   "execution_count": null,
   "id": "1db8a414-f390-4ed1-bc8b-505cc59e9a04",
   "metadata": {},
   "outputs": [],
   "source": [
    "#adata_concat.write('h5ad_files/mouse/ecto_andrea/ecto_nasal_placode_derived_concat.h5ad')"
   ]
  },
  {
   "cell_type": "code",
   "execution_count": null,
   "id": "2bc27ea5-0074-4f4c-b7eb-112d49c45afc",
   "metadata": {},
   "outputs": [],
   "source": [
    "adata_concat.X = adata_concat.layers['original_counts'].copy()\n",
    "sc.pp.normalize_total(adata_concat) # Normalizing to median total counts\n",
    "sc.pp.log1p(adata_concat) # Logarithmize the data\n",
    "adata_concat.layers[\"normalized_counts\"] = adata_concat.X.copy()\n",
    "\n",
    "##highly variable genes\n",
    "#sc.pp.highly_variable_genes(adata, n_top_genes=500,batch_key = 'sample')\n",
    "\n",
    "##dimensionality reduction and clustering\n",
    "sc.tl.pca(adata_concat)\n",
    "sc.pl.pca_variance_ratio(adata_concat,log = True)\n"
   ]
  },
  {
   "cell_type": "code",
   "execution_count": null,
   "id": "2b816a9a-2511-4178-9955-ff3016ff55af",
   "metadata": {},
   "outputs": [],
   "source": [
    "sc.pp.neighbors(adata_concat,n_pcs = 8)\n",
    "sc.tl.umap(adata_concat)\n",
    "sc.tl.leiden(adata_concat,resolution = 1, key_added = 'leiden_post_QC')\n",
    "\n",
    "sc.pl.umap(adata_concat,color = ['sample','phase','leiden_post_QC','Mecom',\n",
    "                         ], ncols = 3, size = 50,legend_loc = 'on data',\n",
    "           \n",
    "           cmap = reds, vmin = 0.05)"
   ]
  },
  {
   "cell_type": "code",
   "execution_count": null,
   "id": "5da37c87-a124-4a46-836f-da9483c21f7a",
   "metadata": {},
   "outputs": [],
   "source": [
    "sc.external.pp.harmony_integrate(adata_concat, key='batch', basis='X_pca', adjusted_basis='X_pca_harmony', )"
   ]
  },
  {
   "cell_type": "code",
   "execution_count": null,
   "id": "6e9c6119-acd4-4f92-98fe-c5f31171aa5e",
   "metadata": {},
   "outputs": [],
   "source": [
    "sc.pp.neighbors(adata_concat,n_pcs = 12,use_rep = 'X_pca_harmony')\n",
    "sc.tl.umap(adata_concat)\n",
    "sc.tl.leiden(adata_concat,resolution = 1, key_added = 'leiden_post_QC')\n",
    "\n",
    "sc.pl.umap(adata_concat,color = ['sample','phase','leiden_post_QC','Mecom',\n",
    "                         ], ncols = 3, size = 50,legend_loc = 'on data',\n",
    "           \n",
    "           cmap = reds, vmin = 0.05)"
   ]
  },
  {
   "cell_type": "code",
   "execution_count": null,
   "id": "66841397-b6fb-450c-a94c-6f785cd17b86",
   "metadata": {},
   "outputs": [],
   "source": [
    "sc.pl.embedding(adata_concat,basis = 'X_pca_harmony', color = 'sample')"
   ]
  },
  {
   "cell_type": "code",
   "execution_count": null,
   "id": "326fdf3b-ebbf-43ef-8e7b-90a6ed958015",
   "metadata": {},
   "outputs": [],
   "source": [
    "adata_concat"
   ]
  },
  {
   "cell_type": "code",
   "execution_count": null,
   "id": "b334befd-d627-48d3-ac88-3732f6d76d7d",
   "metadata": {},
   "outputs": [],
   "source": [
    "sc.pl.pca_loadings(adata_concat,components = '1,2')"
   ]
  },
  {
   "cell_type": "code",
   "execution_count": null,
   "id": "a4d94382-292d-451f-9db3-7f4dd3e951db",
   "metadata": {},
   "outputs": [],
   "source": []
  },
  {
   "cell_type": "code",
   "execution_count": null,
   "id": "932c7619-3274-426a-898d-9301472df51f",
   "metadata": {},
   "outputs": [],
   "source": [
    "adata_int=sc.read('h5ad_files/mouse/ecto_andrea/ecto_nasal_placode_derived_concat_integrated.h5ad')"
   ]
  },
  {
   "cell_type": "code",
   "execution_count": null,
   "id": "59a1c950-4dd5-4b4a-8641-bd6c1350bc67",
   "metadata": {},
   "outputs": [],
   "source": [
    "image_folder = 'figures_ignore/mouse/mm39/andrea_ecto/'"
   ]
  },
  {
   "cell_type": "code",
   "execution_count": null,
   "id": "6460b26a-4a75-40e3-bf65-35b6db90c40b",
   "metadata": {},
   "outputs": [],
   "source": [
    "genes = ['Casr','Prnp','Neurod1','Neurog1','Ada','Gng8','Fstl5',\n",
    " 'Gng13','Calb2',\n",
    " 'S100z','Padi2',\n",
    " 'Ascl1','Smoc2',\n",
    " 'Kit','Mybl1', #9\n",
    " 'Flrt2','Fezf2', #6\n",
    " 'Acsm4','Pcp4','Maob', #0\n",
    " 'Wnt4','Six3', #7\n",
    " 'Dlk1','Sox2ot','Sox6',#12\n",
    " 'Aldh1a3',#2\n",
    " 'Trpm3',#3\n",
    " 'Mgp','Krt14','Foxa1',#15\n",
    " 'Olfm5',#8\n",
    " 'Dok5','Bmp4',#13\n",
    " 'Fxyd3','Pax3',#5\n",
    " 'Fgf8','Pax7',#10\n",
    " 'Reg3g','Fmo2',#4\n",
    " 'Car2','Car4','Sall4','Dlx5',#16\n",
    "]"
   ]
  },
  {
   "cell_type": "code",
   "execution_count": null,
   "id": "5ee29e80-d581-46d2-b4f3-b3f68587e5c0",
   "metadata": {},
   "outputs": [],
   "source": [
    "from pathlib import Path\n",
    "plt.rcParams[\"figure.figsize\"] = [10, 7] \n",
    "sc._settings.ScanpyConfig.figdir=Path(image_folder) #set figdir\n",
    "sc.pl.umap(adata_int,color = genes, ncols = 3, size = 50,legend_loc = 'on data',\n",
    "           \n",
    "           cmap = reds, vmin = 0.05,save = '_markers.png')"
   ]
  },
  {
   "cell_type": "code",
   "execution_count": null,
   "id": "2387075e-4081-4766-96fa-191db09f6b88",
   "metadata": {},
   "outputs": [],
   "source": [
    "plt.rcParams[\"figure.figsize\"] = [10, 7] \n",
    "\n",
    "sc.pl.umap(adata_int,color = ['sample',\n",
    "                              'phase',\n",
    "                          'leiden',\n",
    "                         ], ncols = 3, size = 50,\n",
    "           \n",
    "           cmap = reds, vmin = 0.05,save = '_dimplot.png')"
   ]
  },
  {
   "cell_type": "code",
   "execution_count": null,
   "id": "f283c0e4-439b-4724-a222-bd19ce4750e0",
   "metadata": {},
   "outputs": [],
   "source": [
    "sc.tl.rank_genes_groups(adata_int,groupby='leiden',method='wilcoxon')\n",
    "sc.tl.dendrogram(adata_int,groupby='leiden')\n",
    "sc.pl.rank_genes_groups_dotplot(adata_int,\n",
    "                                var_names = genes,\n",
    "                                #groups = ['13','1',],\n",
    "                                #n_genes = 10, \n",
    "                                values_to_plot = 'logfoldchanges',\n",
    "                                cmap='bwr',vmin=-4,vmax=4,min_logfoldchange = 2,save = 'markers.png')"
   ]
  },
  {
   "cell_type": "code",
   "execution_count": null,
   "id": "602dea10-e90e-4261-b630-4b3368ce27f4",
   "metadata": {},
   "outputs": [],
   "source": [
    "# #DEG between two clusters\n",
    "# cluster_of_interest = '5'\n",
    "# reference_cluster = '10'\n",
    "# cat_name = 'leiden'\n",
    "# sc.set_figure_params(dpi=50,figsize=[6,4])\n",
    "\n",
    "# sc.tl.rank_genes_groups(adata_int, cat_name, groups=[cluster_of_interest], reference=reference_cluster, method='wilcoxon')\n",
    "# df = sc.get.rank_genes_groups_df(adata_int, group=None,)\n",
    "# df = df[df['logfoldchanges']>2]\n",
    "# sc.tl.rank_genes_groups(adata_int, groupby = 'leiden', method = 'wilcoxon')\n",
    "# sc.pl.rank_genes_groups_dotplot(adata_int,var_names = list(df['names'].head(50)),dendrogram=True,\n",
    "#              values_to_plot=\"logfoldchanges\", cmap='bwr',\n",
    "#     vmin=-4,\n",
    "#     vmax=4,)\n"
   ]
  },
  {
   "cell_type": "code",
   "execution_count": null,
   "id": "58900840-f8c2-4b72-8852-267b47cb86a8",
   "metadata": {},
   "outputs": [],
   "source": []
  },
  {
   "cell_type": "code",
   "execution_count": null,
   "id": "949adeb1-7eff-46fe-9340-4f51ee9da754",
   "metadata": {},
   "outputs": [],
   "source": [
    "adata_int.raw = adata_int.copy()"
   ]
  },
  {
   "cell_type": "code",
   "execution_count": null,
   "id": "5b6e37e8-1c38-4ead-9be7-0bf76dc92176",
   "metadata": {},
   "outputs": [],
   "source": [
    "scv.pp.filter_genes(adata_int, min_counts = 5, min_counts_u = 1)\n",
    "adata_int = adata_int[:,(adata_int.layers['spliced'].sum(axis=0)/adata_int.layers['unspliced'].sum(axis=0))>.8]\n",
    "adata_int = adata_int[:,(adata_int.layers['spliced'].sum(axis=0)/adata_int.layers['unspliced'].sum(axis=0))<30]\n"
   ]
  },
  {
   "cell_type": "code",
   "execution_count": null,
   "id": "60b4d5e4-d8a2-477f-8ffc-1e4d656d95ef",
   "metadata": {},
   "outputs": [],
   "source": [
    "adata_int"
   ]
  },
  {
   "cell_type": "code",
   "execution_count": null,
   "id": "c9c53b5f-ad08-4f16-a6b1-5d9d623b1bae",
   "metadata": {},
   "outputs": [],
   "source": [
    "adata_int.X = adata_int.layers['original_counts'].copy()\n",
    "del adata_int.uns['log1p']\n",
    "scv.pp.filter_and_normalize(adata_int, min_shared_counts=20, n_top_genes=500)"
   ]
  },
  {
   "cell_type": "code",
   "execution_count": null,
   "id": "1925135b-7d50-4c63-ae47-940f7a849209",
   "metadata": {},
   "outputs": [],
   "source": [
    "scv.set_figure_params(dpi_save = 300)\n",
    "scv.pl.proportions(adata_int,groupby = 'leiden',figsize =  (10,8),save = image_folder + 'proportions.png')"
   ]
  },
  {
   "cell_type": "code",
   "execution_count": null,
   "id": "163ef2b5-fa48-4008-82ab-6778944e230b",
   "metadata": {},
   "outputs": [],
   "source": [
    "warnings.filterwarnings('ignore')\n",
    "\n",
    "scv.pp.moments(adata_int,\n",
    "               use_rep = 'X_umap_features',\n",
    "               #use_highly_variable=True,\n",
    "               n_neighbors=30)\n",
    "scv.tl.velocity(adata_int)\n",
    "scv.tl.velocity_graph(adata_int,n_jobs = 10)\n"
   ]
  },
  {
   "cell_type": "code",
   "execution_count": null,
   "id": "c39c8009-6cab-4993-8118-ba3f5b0275e8",
   "metadata": {},
   "outputs": [],
   "source": [
    "warnings.filterwarnings('ignore')\n",
    "\n",
    "scv.pl.velocity_embedding_stream(adata_int, color = 'sample',min_mass = 0,density=2.5,legend_loc = 'right margin',size=13, alpha=1,\n",
    "                                save = image_folder + 'velocity_samples.png')"
   ]
  },
  {
   "cell_type": "code",
   "execution_count": null,
   "id": "76ec4fae-ca97-45fe-a3d1-2656098862dd",
   "metadata": {},
   "outputs": [],
   "source": [
    "scv.pl.velocity(adata_int, ['Sult1e1','Maob','Pcp4','Aldh1a3','Ascl1',], color = 'leiden',ncols=2)"
   ]
  },
  {
   "cell_type": "code",
   "execution_count": null,
   "id": "f6c54b6b-ae64-45c7-b10b-1392f6b85c10",
   "metadata": {},
   "outputs": [],
   "source": []
  },
  {
   "cell_type": "code",
   "execution_count": null,
   "id": "e40b1cb6-d7f5-47bb-8575-2600f1ff9a33",
   "metadata": {},
   "outputs": [],
   "source": [
    "scv.tl.rank_velocity_genes(adata_int, groupby='leiden', min_corr=.3)\n",
    "\n",
    "df = pd.DataFrame(adata_int.uns['rank_velocity_genes']['names'])"
   ]
  },
  {
   "cell_type": "code",
   "execution_count": null,
   "id": "5c92011a-3a67-4829-8ac1-666607a4d9ff",
   "metadata": {},
   "outputs": [],
   "source": [
    "for i in list(adata_int.obs['leiden'].cat.categories):\n",
    "    scv.pl.velocity(adata_int, df[i][:10], color = 'leiden',ncols=2,save =image_folder+ i+'_velocity_genes.png')"
   ]
  },
  {
   "cell_type": "code",
   "execution_count": null,
   "id": "d4405cb6-45d9-4698-b4a8-2a0e6a593924",
   "metadata": {},
   "outputs": [],
   "source": []
  },
  {
   "cell_type": "code",
   "execution_count": null,
   "id": "68b1aa71-575b-4be0-a1a4-7bab1c3a0f8a",
   "metadata": {},
   "outputs": [],
   "source": [
    "scv.pl.velocity_embedding_stream(adata_int, color = 'sample',min_mass = 0,density=2.5,legend_loc = 'right margin',size=13, alpha=1,\n",
    "                                 groups='ME8',save = image_folder + 'velocity_samples_ME8.png')"
   ]
  },
  {
   "cell_type": "code",
   "execution_count": null,
   "id": "126b70a6-87c2-4c42-8440-be4ed76ff289",
   "metadata": {},
   "outputs": [],
   "source": [
    "scv.pl.velocity_embedding_stream(adata_int, color = 'sample',min_mass = 0,density=2.5,legend_loc = 'right margin',size=13, alpha=1,\n",
    "                                 groups='ME9',save = image_folder + 'velocity_samples_ME9.png')"
   ]
  },
  {
   "cell_type": "code",
   "execution_count": null,
   "id": "29a3b832-89fd-46cc-8f95-c3046ba4527f",
   "metadata": {},
   "outputs": [],
   "source": [
    "scv.pl.velocity_embedding_stream(adata_int, color = 'sample',min_mass = 0,density=2.5,legend_loc = 'right margin',size=13, alpha=1,\n",
    "                                 groups='ME10',save = image_folder + 'velocity_samples_ME10.png')\n",
    "scv.pl.velocity_embedding_stream(adata_int, color = 'sample',min_mass = 0,density=2.5,legend_loc = 'right margin',size=13, alpha=1,\n",
    "                                 groups='10',save = image_folder + 'velocity_samples_10.png')\n",
    "scv.pl.velocity_embedding_stream(adata_int, color = 'sample',min_mass = 0,density=2.5,legend_loc = 'right margin',size=13, alpha=1,\n",
    "                                 groups=['ME10','10'],save = image_folder + 'velocity_samples_10-ME10.png')"
   ]
  },
  {
   "cell_type": "code",
   "execution_count": null,
   "id": "bfa7c908-cf42-43fd-be49-a10e4976a02e",
   "metadata": {},
   "outputs": [],
   "source": [
    "scv.pl.velocity_embedding_stream(adata_int, color = 'sample',min_mass = 0,density=2.5,legend_loc = 'right margin',size=13, alpha=1,\n",
    "                                 groups=['11'],save = image_folder + 'velocity_samples_11.png')\n",
    "scv.pl.velocity_embedding_stream(adata_int, color = 'sample',min_mass = 0,density=2.5,legend_loc = 'right margin',size=13, alpha=1,\n",
    "                                 groups=['ME11',],save = image_folder + 'velocity_samples_ME11.png')\n",
    "scv.pl.velocity_embedding_stream(adata_int, color = 'sample',min_mass = 0,density=2.5,legend_loc = 'right margin',size=13, alpha=1,\n",
    "                                 groups=['ME11','11'],save = image_folder + 'velocity_samples_11-ME11.png')"
   ]
  },
  {
   "cell_type": "code",
   "execution_count": null,
   "id": "b53361f0-65d1-440a-952e-67b5f13fe6b7",
   "metadata": {},
   "outputs": [],
   "source": [
    "scv.pl.velocity_embedding_stream(adata_int, color = 'sample',min_mass = 0,density=2.5,legend_loc = 'right margin',size=13, alpha=1,\n",
    "                                 groups=['12'],save = image_folder + 'velocity_samples_12.png')\n",
    "scv.pl.velocity_embedding_stream(adata_int, color = 'sample',min_mass = 0,density=2.5,legend_loc = 'right margin',size=13, alpha=1,\n",
    "                                 groups=['ME12',],save = image_folder + 'velocity_samples_ME12.png')\n",
    "scv.pl.velocity_embedding_stream(adata_int, color = 'sample',min_mass = 0,density=2.5,legend_loc = 'right margin',size=13, alpha=1,\n",
    "                                 groups=['ME12','12'],save = image_folder + 'velocity_samples_12-ME12.png')"
   ]
  },
  {
   "cell_type": "code",
   "execution_count": null,
   "id": "4b6b27a0-4f87-4d12-8c21-67020a37bd23",
   "metadata": {},
   "outputs": [],
   "source": [
    "scv.pl.velocity_embedding_stream(adata_int, color = 'sample',min_mass = 0,density=2.5,legend_loc = 'right margin',size=13, alpha=1,\n",
    "                                 groups=['13'],save = image_folder + 'velocity_samples_13.png')\n",
    "scv.pl.velocity_embedding_stream(adata_int, color = 'sample',min_mass = 0,density=2.5,legend_loc = 'right margin',size=13, alpha=1,\n",
    "                                 groups=['14'],save = image_folder + 'velocity_samples_14.png')\n"
   ]
  },
  {
   "cell_type": "code",
   "execution_count": null,
   "id": "84b3ea87-cadb-4c7a-ac6b-f9ba115ec74f",
   "metadata": {},
   "outputs": [],
   "source": []
  },
  {
   "cell_type": "code",
   "execution_count": null,
   "id": "b566c22a-4998-460d-8e7c-3f16cb8c7c9a",
   "metadata": {},
   "outputs": [],
   "source": []
  },
  {
   "cell_type": "code",
   "execution_count": null,
   "id": "058de85e-32c7-4de2-842a-af97d8822b3d",
   "metadata": {},
   "outputs": [],
   "source": [
    "adata_int=sc.read('h5ad_files/mouse/ecto_andrea/ecto_nasal_placode_derived_concat_integrated_nocycle.h5ad')"
   ]
  },
  {
   "cell_type": "code",
   "execution_count": null,
   "id": "3505ed1d-9a9c-4643-99f8-bdeae1acce4e",
   "metadata": {},
   "outputs": [],
   "source": [
    "image_folder = 'figures_ignore/mouse/mm39/andrea_ecto/'"
   ]
  },
  {
   "cell_type": "code",
   "execution_count": null,
   "id": "8575c29b-e52e-4e83-a937-f4e3cf1e0e8d",
   "metadata": {},
   "outputs": [],
   "source": [
    "genes = ['Casr','Prnp','Neurod1','Neurog1','Ada','Gng8','Fstl5',\n",
    " 'Gng13','Calb2',\n",
    " 'S100z','Padi2',\n",
    " 'Ascl1','Smoc2',\n",
    " 'Kit','Mybl1', #9\n",
    " 'Flrt2','Fezf2', #6\n",
    " 'Acsm4','Pcp4','Maob', #0\n",
    " 'Wnt4','Six3', #7\n",
    " 'Dlk1','Sox2ot','Sox6',#12\n",
    " 'Aldh1a3',#2\n",
    " 'Trpm3',#3\n",
    " 'Mgp','Krt14','Foxa1',#15\n",
    " 'Olfm5',#8\n",
    " 'Dok5','Bmp4',#13\n",
    " 'Fxyd3','Pax3',#5\n",
    " 'Fgf8','Pax7',#10\n",
    " 'Reg3g','Fmo2',#4\n",
    " 'Car2','Car4','Sall4','Dlx5',#16\n",
    "         'Plac9','Ppic','Aqp3','Hmcn1','Csmd2','Ptprn2','Stum','Rasgrp1','Tmprss4','Fgf3',\n",
    "]"
   ]
  },
  {
   "cell_type": "code",
   "execution_count": null,
   "id": "ed2fb8f5-058f-467f-9b58-1f56e99b884b",
   "metadata": {},
   "outputs": [],
   "source": [
    "from pathlib import Path\n",
    "plt.rcParams[\"figure.figsize\"] = [10, 7] \n",
    "sc._settings.ScanpyConfig.figdir=Path(image_folder) #set figdir\n",
    "sc.pl.umap(adata_int,color = genes, ncols = 3, size = 50,legend_loc = 'on data',\n",
    "           \n",
    "           cmap = reds, vmin = 0.05,\n",
    "           save = '_markers.png'\n",
    "          )"
   ]
  },
  {
   "cell_type": "code",
   "execution_count": null,
   "id": "0fc50a31-66c3-4f23-8e26-8bb9342d1783",
   "metadata": {},
   "outputs": [],
   "source": [
    "plt.rcParams[\"figure.figsize\"] = [10, 7] \n",
    "\n",
    "sc.pl.umap(adata_int,color = ['sample',\n",
    "                              'phase',\n",
    "                          'leiden',\n",
    "                         ], ncols = 3, size = 50,\n",
    "           \n",
    "           cmap = reds, vmin = 0.05,\n",
    "           save = '_dimplot.png'\n",
    "          )"
   ]
  },
  {
   "cell_type": "code",
   "execution_count": null,
   "id": "f773f7b6-dc2f-4c91-96ac-fe743c5f8c58",
   "metadata": {},
   "outputs": [],
   "source": [
    "sc.tl.rank_genes_groups(adata_int,groupby='leiden',method='wilcoxon')\n",
    "sc.tl.dendrogram(adata_int,groupby='leiden')\n",
    "sc.pl.rank_genes_groups_dotplot(adata_int,\n",
    "                                var_names = genes,\n",
    "                                #groups = ['13','1',],\n",
    "                                #n_genes = 10, \n",
    "                                values_to_plot = 'logfoldchanges',\n",
    "                                cmap='bwr',vmin=-4,vmax=4,min_logfoldchange = 2,\n",
    "                                save = 'markers.png'\n",
    "                               )"
   ]
  },
  {
   "cell_type": "code",
   "execution_count": null,
   "id": "900912cc-1c1a-4a7d-9cb6-ed468c65ad47",
   "metadata": {},
   "outputs": [],
   "source": [
    "# #DEG between two clusters\n",
    "# cluster_of_interest = '5'\n",
    "# reference_cluster = '10'\n",
    "# cat_name = 'leiden'\n",
    "# sc.set_figure_params(dpi=50,figsize=[6,4])\n",
    "\n",
    "# sc.tl.rank_genes_groups(adata_int, cat_name, groups=[cluster_of_interest], reference=reference_cluster, method='wilcoxon')\n",
    "# df = sc.get.rank_genes_groups_df(adata_int, group=None,)\n",
    "# df = df[df['logfoldchanges']>2]\n",
    "# sc.tl.rank_genes_groups(adata_int, groupby = 'leiden', method = 'wilcoxon')\n",
    "# sc.pl.rank_genes_groups_dotplot(adata_int,var_names = list(df['names'].head(50)),dendrogram=True,\n",
    "#              values_to_plot=\"logfoldchanges\", cmap='bwr',\n",
    "#     vmin=-4,\n",
    "#     vmax=4,)\n"
   ]
  },
  {
   "cell_type": "code",
   "execution_count": null,
   "id": "28b6e77d-f912-4b41-a984-08c853882d66",
   "metadata": {},
   "outputs": [],
   "source": []
  },
  {
   "cell_type": "code",
   "execution_count": null,
   "id": "9448e071-ec05-481c-a88e-c80451dfadd5",
   "metadata": {},
   "outputs": [],
   "source": []
  },
  {
   "cell_type": "code",
   "execution_count": null,
   "id": "b96ea09e-1f9d-4c57-8a65-6217568f0469",
   "metadata": {},
   "outputs": [],
   "source": []
  },
  {
   "cell_type": "code",
   "execution_count": null,
   "id": "84c6c7eb-144f-4922-8898-c193eab49c33",
   "metadata": {},
   "outputs": [],
   "source": []
  },
  {
   "cell_type": "markdown",
   "id": "ce169799-cccc-4274-b29a-39950c50e2c6",
   "metadata": {},
   "source": [
    "## Notes\n",
    "The 2024 data was subset in the ectoderm_spinoff.ipynb notebook. First Epcam positive cells were subset. Subsequently the purported placodal derived cells were subset.  \n",
    "The 2023 ectoderm was loaded as raw cells and quickly clustered. Placode derived cells were subset based on Sp8 and Six1 expression in the ectoderm_subset_2023.ipynb notebook.  \n",
    "Data was loaded in this notebook and combined. Highly variable genes from the 2023 data were kept.  \n",
    "In the placodes_2024_mira.ipynb notebook cell cycle associated genes were removed from the highly variable genes before integration with MIRA.  \n",
    "Integration was done with 8 topics and 100 epochs. Data was then exported again to this notebook for further analysis.  \n",
    "For velocity analysis, cell cycle associated genes were removed. Genes with abnormal spliced/unspliced ratios were removed.  \n",
    "min_counts = 5, min_counts_u = 1 and min_shared_counts=20  \n",
    "scv.pp.filter_and_normalize was used to select the top 300 genes for velocity analysis.  \n",
    "Velocity was computed with 30 nearest neighbours, using the X_umap_features from MIRA as a basis.  \n",
    "\n",
    "Small note, I see some Oc90+ cells, this must be inner ear. They are from the 2023 data. Clearly we missed some when filtering last year.  \n",
    "I'm not sure how worth it is to go back to this data again."
   ]
  },
  {
   "cell_type": "code",
   "execution_count": null,
   "id": "79f7f223-68df-4dd0-84f1-46b580ffd7fb",
   "metadata": {},
   "outputs": [],
   "source": [
    "adata_int=sc.read('h5ad_files/mouse/ecto_andrea/ecto_nasal_placode_derived_concat_integrated_nocycle.h5ad') #8 TOPICS 100 EPOCHS"
   ]
  },
  {
   "cell_type": "code",
   "execution_count": null,
   "id": "24d595c3-577a-4670-b47b-9ab4b4b95488",
   "metadata": {},
   "outputs": [],
   "source": [
    "adata_int.raw = adata_int.copy()"
   ]
  },
  {
   "cell_type": "code",
   "execution_count": null,
   "id": "4ff656b2-a080-4af0-93f9-e77de637ebf4",
   "metadata": {},
   "outputs": [],
   "source": [
    "adata_int = adata_int[:,adata_int.var['S_score']<.1].copy()\n",
    "adata_int = adata_int[:,adata_int.var['G2M_score']<.1].copy()"
   ]
  },
  {
   "cell_type": "code",
   "execution_count": null,
   "id": "774931ac-9987-42af-8f68-808a3f1ee17b",
   "metadata": {},
   "outputs": [],
   "source": [
    "scv.pp.filter_genes(adata_int, min_counts = 5, min_counts_u = 1)\n",
    "adata_int = adata_int[:,(adata_int.layers['spliced'].sum(axis=0)/adata_int.layers['unspliced'].sum(axis=0))>.8]\n",
    "adata_int = adata_int[:,(adata_int.layers['spliced'].sum(axis=0)/adata_int.layers['unspliced'].sum(axis=0))<30]\n"
   ]
  },
  {
   "cell_type": "code",
   "execution_count": null,
   "id": "a9ed5ac5-239a-4068-b6a2-0b940383d2bc",
   "metadata": {},
   "outputs": [],
   "source": [
    "adata_int.X = adata_int.layers['original_counts'].copy()\n",
    "del adata_int.uns['log1p']\n",
    "scv.pp.filter_and_normalize(adata_int, min_shared_counts=20, n_top_genes=300)"
   ]
  },
  {
   "cell_type": "code",
   "execution_count": null,
   "id": "5e7b2421-47e7-41cb-99ac-1558aa535a0a",
   "metadata": {},
   "outputs": [],
   "source": [
    "scv.set_figure_params(dpi_save = 300)\n",
    "scv.pl.proportions(adata_int,groupby = 'leiden',figsize =  (10,8),\n",
    "                   save = image_folder + 'proportions.png'\n",
    "                  )"
   ]
  },
  {
   "cell_type": "code",
   "execution_count": null,
   "id": "54710336-6b17-4bc7-b448-33b93fffe174",
   "metadata": {},
   "outputs": [],
   "source": [
    "warnings.filterwarnings('ignore')\n",
    "\n",
    "scv.pp.moments(adata_int,\n",
    "               use_rep = 'X_umap_features',\n",
    "               #use_highly_variable=True,\n",
    "               n_neighbors=30)\n",
    "scv.tl.velocity(adata_int)\n",
    "scv.tl.velocity_graph(adata_int,n_jobs = 10)\n"
   ]
  },
  {
   "cell_type": "code",
   "execution_count": null,
   "id": "a4f059cc-734c-44ce-a59e-58f70eb04bbc",
   "metadata": {},
   "outputs": [],
   "source": [
    "warnings.filterwarnings('ignore')\n",
    "\n",
    "scv.pl.velocity_embedding_stream(adata_int, color = 'sample',min_mass = 0,density=2.5,legend_loc = 'right margin',size=13, alpha=1,\n",
    "                                save = image_folder + 'velocity_samples.png'\n",
    "                                )"
   ]
  },
  {
   "cell_type": "code",
   "execution_count": null,
   "id": "8e03a70d-31f2-4237-96c6-b4fb08da1ea2",
   "metadata": {},
   "outputs": [],
   "source": [
    "warnings.filterwarnings('ignore')\n",
    "\n",
    "scv.pl.velocity_embedding_stream(adata_int, color = 'leiden',min_mass = 0,density=2.5,legend_loc = 'right margin',size=13, alpha=1,\n",
    "                                save = image_folder + 'velocity_leiden.png'\n",
    "                                )"
   ]
  },
  {
   "cell_type": "code",
   "execution_count": null,
   "id": "6d23212a-88aa-4320-a3e6-c70a3024d7bc",
   "metadata": {},
   "outputs": [],
   "source": []
  },
  {
   "cell_type": "code",
   "execution_count": null,
   "id": "6b240bcf-03bd-4701-9620-1dea7cb1c431",
   "metadata": {},
   "outputs": [],
   "source": [
    "scv.tl.rank_velocity_genes(adata_int, groupby='leiden', min_corr=.3)\n",
    "\n",
    "df = pd.DataFrame(adata_int.uns['rank_velocity_genes']['names'])"
   ]
  },
  {
   "cell_type": "code",
   "execution_count": null,
   "id": "f08133a5-b2b2-4bfa-b04a-ec059f711139",
   "metadata": {
    "jupyter": {
     "outputs_hidden": true
    }
   },
   "outputs": [],
   "source": [
    "for i in list(adata_int.obs['leiden'].cat.categories):\n",
    "    scv.pl.velocity(adata_int, df[i][:10], color = 'leiden',ncols=2,save =image_folder+ i+'_velocity_genes.png')"
   ]
  },
  {
   "cell_type": "code",
   "execution_count": null,
   "id": "2a34b198-70cb-4763-87aa-7b60ed13a4bc",
   "metadata": {},
   "outputs": [],
   "source": []
  },
  {
   "cell_type": "code",
   "execution_count": null,
   "id": "206144dc-e798-4c28-bb86-a4f600671ebc",
   "metadata": {},
   "outputs": [],
   "source": [
    "scv.pl.velocity_embedding_stream(adata_int, color = 'sample',min_mass = 0,density=2.5,legend_loc = 'right margin',size=13, alpha=1,\n",
    "                                 groups='ME8',save = image_folder + 'velocity_samples_ME8.png')"
   ]
  },
  {
   "cell_type": "code",
   "execution_count": null,
   "id": "c461b665-3925-4433-b33d-2aa8e1b5f784",
   "metadata": {},
   "outputs": [],
   "source": [
    "scv.pl.velocity_embedding_stream(adata_int, color = 'sample',min_mass = 0,density=2.5,legend_loc = 'right margin',size=13, alpha=1,\n",
    "                                 groups='ME9',save = image_folder + 'velocity_samples_ME9.png')"
   ]
  },
  {
   "cell_type": "code",
   "execution_count": null,
   "id": "8aa864f3-7b42-4ad8-bd2a-75ee7d6ccfcc",
   "metadata": {},
   "outputs": [],
   "source": [
    "scv.pl.velocity_embedding_stream(adata_int, color = 'sample',min_mass = 0,density=2.5,legend_loc = 'right margin',size=13, alpha=1,\n",
    "                                 groups='ME10',save = image_folder + 'velocity_samples_ME10.png')\n",
    "scv.pl.velocity_embedding_stream(adata_int, color = 'sample',min_mass = 0,density=2.5,legend_loc = 'right margin',size=13, alpha=1,\n",
    "                                 groups='10',save = image_folder + 'velocity_samples_10.png')\n",
    "scv.pl.velocity_embedding_stream(adata_int, color = 'sample',min_mass = 0,density=2.5,legend_loc = 'right margin',size=13, alpha=1,\n",
    "                                 groups=['ME10','10'],save = image_folder + 'velocity_samples_10-ME10.png')"
   ]
  },
  {
   "cell_type": "code",
   "execution_count": null,
   "id": "fe8863c5-f76f-4da7-b9b9-bcc3e7c97b42",
   "metadata": {},
   "outputs": [],
   "source": [
    "scv.pl.velocity_embedding_stream(adata_int, color = 'sample',min_mass = 0,density=2.5,legend_loc = 'right margin',size=13, alpha=1,\n",
    "                                 groups=['11'],save = image_folder + 'velocity_samples_11.png')\n",
    "scv.pl.velocity_embedding_stream(adata_int, color = 'sample',min_mass = 0,density=2.5,legend_loc = 'right margin',size=13, alpha=1,\n",
    "                                 groups=['ME11',],save = image_folder + 'velocity_samples_ME11.png')\n",
    "scv.pl.velocity_embedding_stream(adata_int, color = 'sample',min_mass = 0,density=2.5,legend_loc = 'right margin',size=13, alpha=1,\n",
    "                                 groups=['ME11','11'],save = image_folder + 'velocity_samples_11-ME11.png')"
   ]
  },
  {
   "cell_type": "code",
   "execution_count": null,
   "id": "a0004b92-c6b0-4fe1-baf3-0d756f3289f1",
   "metadata": {},
   "outputs": [],
   "source": [
    "scv.pl.velocity_embedding_stream(adata_int, color = 'sample',min_mass = 0,density=2.5,legend_loc = 'right margin',size=13, alpha=1,\n",
    "                                 groups=['12'],save = image_folder + 'velocity_samples_12.png')\n",
    "scv.pl.velocity_embedding_stream(adata_int, color = 'sample',min_mass = 0,density=2.5,legend_loc = 'right margin',size=13, alpha=1,\n",
    "                                 groups=['ME12',],save = image_folder + 'velocity_samples_ME12.png')\n",
    "scv.pl.velocity_embedding_stream(adata_int, color = 'sample',min_mass = 0,density=2.5,legend_loc = 'right margin',size=13, alpha=1,\n",
    "                                 groups=['ME12','12'],save = image_folder + 'velocity_samples_12-ME12.png')"
   ]
  },
  {
   "cell_type": "code",
   "execution_count": null,
   "id": "fbfb3232-fc89-421a-adda-c5d57f2462ee",
   "metadata": {},
   "outputs": [],
   "source": [
    "scv.pl.velocity_embedding_stream(adata_int, color = 'sample',min_mass = 0,density=2.5,legend_loc = 'right margin',size=13, alpha=1,\n",
    "                                 groups=['13'],save = image_folder + 'velocity_samples_13.png')\n",
    "scv.pl.velocity_embedding_stream(adata_int, color = 'sample',min_mass = 0,density=2.5,legend_loc = 'right margin',size=13, alpha=1,\n",
    "                                 groups=['14'],save = image_folder + 'velocity_samples_14.png')\n"
   ]
  },
  {
   "cell_type": "code",
   "execution_count": null,
   "id": "8bcfd1e3-8f10-4574-a0c9-165385e8b7bc",
   "metadata": {},
   "outputs": [],
   "source": []
  }
 ],
 "metadata": {
  "kernelspec": {
   "display_name": "scanpy_2025",
   "language": "python",
   "name": "scanpy_2025"
  },
  "language_info": {
   "codemirror_mode": {
    "name": "ipython",
    "version": 3
   },
   "file_extension": ".py",
   "mimetype": "text/x-python",
   "name": "python",
   "nbconvert_exporter": "python",
   "pygments_lexer": "ipython3",
   "version": "3.11.11"
  }
 },
 "nbformat": 4,
 "nbformat_minor": 5
}
