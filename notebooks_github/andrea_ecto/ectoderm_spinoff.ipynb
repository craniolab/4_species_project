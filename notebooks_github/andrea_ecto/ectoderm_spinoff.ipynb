{
 "cells": [
  {
   "cell_type": "markdown",
   "id": "891dab08-b01f-44b3-8dbc-a97ce446afef",
   "metadata": {},
   "source": [
    "## separating Ecto for Andrea's project\n",
    "Selecting all Epcam clusters per sample and saving it as a combined object.  \n",
    "ME8:  \n",
    "![](../../markdown_images/mouse/mm39/markdown_plots/ectoderm_spinoff/ME8_umap.png)   \n",
    "\n",
    "ME9:  \n",
    "![](../../markdown_images/mouse/mm39/markdown_plots/ectoderm_spinoff/ME9_umap.png)   \n",
    "\n",
    "ME10:  \n",
    "![](../../markdown_images/mouse/mm39/markdown_plots/ectoderm_spinoff/ME10_umap.png)   \n",
    "\n",
    "ME11:  \n",
    "![](../../markdown_images/mouse/mm39/markdown_plots/ectoderm_spinoff/ME11_umap.png)   \n",
    "\n",
    "ME12:  \n",
    "![](../../markdown_images/mouse/mm39/markdown_plots/ectoderm_spinoff/ME12_umap.png)   \n",
    "\n",
    "Subset these cells and combined them into a single file: adata_epcam_concat.h5ad  \n",
    "Will combine this with our epcam+ cells."
   ]
  },
  {
   "cell_type": "code",
   "execution_count": null,
   "id": "eec206ef-1178-4d20-be15-0a4aa3023613",
   "metadata": {},
   "outputs": [],
   "source": [
    "import logging\n",
    "logging.getLogger('matplotlib.font_manager').setLevel(logging.ERROR)\n",
    "import scanpy as sc\n",
    "import anndata as ad\n",
    "import scvelo as scv\n",
    "import scvi\n",
    "import seaborn as sns\n",
    "import plotly.express as px\n",
    "import numpy as np\n",
    "from dash import Dash, dcc, html, Input, Output\n",
    "\n",
    "import pandas as pd\n",
    "\n",
    "import os\n",
    "import sys\n",
    "import time\n",
    "import gc\n",
    "os.environ['R_HOME'] = sys.exec_prefix+\"/lib/R/\"\n",
    "\n",
    "# Plotting\n",
    "import matplotlib\n",
    "import matplotlib.pyplot as plt\n",
    "import matplotlib as mpl\n",
    "from matplotlib.backends.backend_pdf import PdfPages\n",
    "from matplotlib.colors import LinearSegmentedColormap, ListedColormap\n",
    "from matplotlib.lines import Line2D \n",
    "\n",
    "from copy import copy\n",
    "reds = copy(mpl.cm.Reds)\n",
    "reds.set_under(\"lightgray\")\n",
    "\n",
    "project_directory = '/Cranio_Lab/Louk_Seton/4_species_project'\n",
    "os.chdir(os.path.expanduser(\"~\")+project_directory)"
   ]
  },
  {
   "cell_type": "code",
   "execution_count": null,
   "id": "b7852e7b-1694-4241-a16d-0aa37b57e4df",
   "metadata": {},
   "outputs": [],
   "source": [
    "##mouse mm10\n",
    "start_time=time.strftime(\"%Y_%m_%d-%I_%M_%S_%p\")\n",
    "print('start time:',start_time)\n",
    "\n",
    "sample_names = ['ME8','ME9','ME10','ME11','ME12'] #specify the sample names\n",
    "species = 'mouse' #specify the species\n",
    "genome = 'mm39' #specify the genome\n",
    "output_prefix = 'h5ad_files/' #specify the location of the cellranger output\n",
    "\n",
    "adata_dict = {}\n",
    "for sample in sample_names:\n",
    "    adata_dict[sample] = sc.read(output_prefix+species+'/'+genome+'/'+sample+'_filtered_by_mm10.h5ad')\n",
    "    #adata_dict[sample].obs['leiden_post_QC'] = adata_dict[sample].obs['leiden_post_QC'].astype(str) + '_'+sample"
   ]
  },
  {
   "cell_type": "code",
   "execution_count": null,
   "id": "e4b28953-bb22-4a74-b386-4a9cd2aac59b",
   "metadata": {},
   "outputs": [],
   "source": [
    "## code for any markdown figures ##\n",
    "output_dir = 'markdown_images/'+species+'/'+genome+'/markdown_plots/ectoderm_spinoff/'\n",
    "!mkdir -p {output_dir}\n",
    "\n",
    "i='ME8'\n",
    "plt.rcParams['figure.figsize'] = [4,3]\n",
    "ax = sc.pl.umap(adata_dict[i],color = ['Epcam','leiden_post_QC',\n",
    "                         ], ncols = 3, groups = ['0','9','17','18'],\n",
    "           cmap = reds, vmin = 0.05,show = False)\n",
    "plt.savefig(output_dir+i+'_umap.png', dpi = 80,bbox_inches='tight')\n",
    "plt.close()\n",
    "\n",
    "i='ME9'\n",
    "plt.rcParams['figure.figsize'] = [4,3]\n",
    "ax = sc.pl.umap(adata_dict[i],color = ['Epcam','leiden_post_QC',\n",
    "                         ], ncols = 3, groups = ['5','14','21','22'],\n",
    "           cmap = reds, vmin = 0.05,show = False)\n",
    "plt.savefig(output_dir+i+'_umap.png', dpi = 80,bbox_inches='tight')\n",
    "plt.close()\n",
    "\n",
    "i='ME10'\n",
    "plt.rcParams['figure.figsize'] = [4,3]\n",
    "ax = sc.pl.umap(adata_dict[i],color = ['Epcam','leiden_post_QC',\n",
    "                         ], ncols = 3, groups = ['12','15','18','21'],\n",
    "           cmap = reds, vmin = 0.05,show = False)\n",
    "plt.savefig(output_dir+i+'_umap.png', dpi = 80,bbox_inches='tight')\n",
    "plt.close()\n",
    "\n",
    "i='ME11'\n",
    "plt.rcParams['figure.figsize'] = [4,3]\n",
    "ax = sc.pl.umap(adata_dict[i],color = ['Epcam','leiden_post_QC',\n",
    "                         ], ncols = 3, groups = ['10','14','18','21','22'],\n",
    "           cmap = reds, vmin = 0.05,show = False)\n",
    "plt.savefig(output_dir+i+'_umap.png', dpi = 80,bbox_inches='tight')\n",
    "plt.close()\n",
    "\n",
    "i='ME12'\n",
    "plt.rcParams['figure.figsize'] = [4,3]\n",
    "ax = sc.pl.umap(adata_dict[i],color = ['Epcam','leiden_post_QC',\n",
    "                         ], ncols = 3, groups = ['7','15','21',],\n",
    "           cmap = reds, vmin = 0.05,show = False)\n",
    "plt.savefig(output_dir+i+'_umap.png', dpi = 80,bbox_inches='tight')\n",
    "plt.close()"
   ]
  },
  {
   "cell_type": "code",
   "execution_count": null,
   "id": "3c4f9707-65b3-492a-b6ea-40873852bcdd",
   "metadata": {},
   "outputs": [],
   "source": [
    "##ME8\n",
    "i = 'ME8'\n",
    "adata_dict[i].X = adata_dict[i].layers['original_counts'].copy()\n",
    "sc.pp.normalize_total(adata_dict[i]) # Normalizing to median total counts\n",
    "sc.pp.log1p(adata_dict[i]) # Logarithmize the data\n",
    "adata_dict[i].layers[\"normalized_counts\"] = adata_dict[i].X.copy()\n",
    "\n",
    "##highly variable genes\n",
    "sc.pp.highly_variable_genes(adata_dict[i], n_top_genes=1000,)\n",
    "\n",
    "##dimensionality reduction and clustering\n",
    "sc.tl.pca(adata_dict[i])\n",
    "sc.pp.neighbors(adata_dict[i])\n",
    "sc.tl.umap(adata_dict[i])\n",
    "sc.tl.leiden(adata_dict[i],resolution = 1, key_added = 'leiden_post_QC')\n",
    "\n",
    "sc.pl.umap(adata_dict[i],color = ['Epcam','leiden_post_QC',\n",
    "                         ], ncols = 3, \n",
    "           groups = ['0','9','17','18'],\n",
    "           cmap = reds, vmin = 0.05)\n"
   ]
  },
  {
   "cell_type": "code",
   "execution_count": null,
   "id": "ecc8410b-b9e9-4436-bf1b-e43150273890",
   "metadata": {},
   "outputs": [],
   "source": [
    "sc.tl.leiden(adata_dict['ME8'],resolution = 2, key_added = 'leiden_post_QC_high')\n",
    "sc.pl.umap(adata_dict['ME8'], color = ['leiden_post_QC_high'])"
   ]
  },
  {
   "cell_type": "code",
   "execution_count": null,
   "id": "f44ab3c4-a387-413e-a1db-b0bb173c3ba5",
   "metadata": {},
   "outputs": [],
   "source": [
    "sc.tl.rank_genes_groups(adata_dict['ME8'],groupby='leiden_post_QC_high',method='wilcoxon')\n",
    "sc.pl.rank_genes_groups_dotplot(adata_dict['ME8'],groups = ['23'],n_genes = 40, values_to_plot = 'logfoldchanges',\n",
    "                                cmap='bwr',vmin=-4,vmax=4,min_logfoldchange = 3)"
   ]
  },
  {
   "cell_type": "code",
   "execution_count": null,
   "id": "750c5027-e25b-4f28-84e3-6d471bfa9540",
   "metadata": {},
   "outputs": [],
   "source": [
    "sc.pl.rank_genes_groups_dotplot(adata_dict['ME8'],groups = ['7'],n_genes = 60, values_to_plot = 'logfoldchanges',\n",
    "                                cmap='bwr',vmin=-4,vmax=4,min_logfoldchange = 3.5)"
   ]
  },
  {
   "cell_type": "code",
   "execution_count": null,
   "id": "a31ef56b-0030-4aa3-bcb8-7f0207cce621",
   "metadata": {},
   "outputs": [],
   "source": [
    "sc.pl.umap(adata_dict['ME8'], color = ['Sox10','Dlx2','Gad1','Cnmd','Dlx5','Pax3','Ahrr','Prdm12','Frzb','Prkn','Fgf14','Sox3','Rfx4','Zic5'],\n",
    "           #['Epcam','Samd3','T','Shh','Krt19','Foxa2','Car3','Pax9','Sox9','Frzb'], \n",
    "           cmap = reds, vmin = 0.05,ncols=3)"
   ]
  },
  {
   "cell_type": "code",
   "execution_count": null,
   "id": "f3dffea6-0758-4bf4-b4f2-600da450c956",
   "metadata": {},
   "outputs": [],
   "source": [
    "##ME9\n",
    "i = 'ME9'\n",
    "adata_dict[i].X = adata_dict[i].layers['original_counts'].copy()\n",
    "sc.pp.normalize_total(adata_dict[i]) # Normalizing to median total counts\n",
    "sc.pp.log1p(adata_dict[i]) # Logarithmize the data\n",
    "adata_dict[i].layers[\"normalized_counts\"] = adata_dict[i].X.copy()\n",
    "\n",
    "##highly variable genes\n",
    "sc.pp.highly_variable_genes(adata_dict[i], n_top_genes=1000,)\n",
    "\n",
    "##dimensionality reduction and clustering\n",
    "sc.tl.pca(adata_dict[i])\n",
    "sc.pp.neighbors(adata_dict[i])\n",
    "sc.tl.umap(adata_dict[i])\n",
    "sc.tl.leiden(adata_dict[i],resolution = 1, key_added = 'leiden_post_QC')\n",
    "\n",
    "sc.pl.umap(adata_dict[i],color = ['Epcam','leiden_post_QC',\n",
    "                         ], ncols = 3, \n",
    "           groups = ['5','14','21','22'],\n",
    "           cmap = reds, vmin = 0.05)\n"
   ]
  },
  {
   "cell_type": "code",
   "execution_count": null,
   "id": "1d828bc0-8947-4500-b35b-1792d4cdaa2f",
   "metadata": {},
   "outputs": [],
   "source": [
    "sc.tl.leiden(adata_dict['ME9'],resolution = 3, key_added = 'leiden_post_QC_high')\n",
    "sc.pl.umap(adata_dict['ME9'],color = ['leiden_post_QC_high'])"
   ]
  },
  {
   "cell_type": "code",
   "execution_count": null,
   "id": "ffe6114e-a2b5-4ddd-8d0c-981556428f60",
   "metadata": {},
   "outputs": [],
   "source": [
    "sc.pl.umap(adata_dict['ME9'], color = ['Epcam','Pax9','Pyy','Trh','Neurod1','Neurog1','Isl1','Hesx1','Pitx2','Wnt6','Sox10','Alx3','Dlx2','Insc','Dlx5','Sox3'], cmap = reds, vmin = 0.05,ncols=3)"
   ]
  },
  {
   "cell_type": "code",
   "execution_count": null,
   "id": "76f0daaa-d286-4031-82b6-32546a054ff6",
   "metadata": {},
   "outputs": [],
   "source": [
    "sc.tl.rank_genes_groups(adata_dict['ME9'],groupby='leiden_post_QC',method='wilcoxon')\n",
    "sc.pl.rank_genes_groups_dotplot(adata_dict['ME9'],groups = ['21'],n_genes = 40, values_to_plot = 'logfoldchanges',\n",
    "                                cmap='bwr',vmin=-4,vmax=4,min_logfoldchange = 3)"
   ]
  },
  {
   "cell_type": "code",
   "execution_count": null,
   "id": "f1d675ff-f03a-4bc9-a899-0dca9fd4b415",
   "metadata": {},
   "outputs": [],
   "source": [
    "sc.pl.umap(adata_dict['ME9'], color = ['Sox10','Gad1','Cnmd','Nherf4','Zic5','Sox3','Dlx5','Pax3','Ahrr','Prdm12','Frzb','Prkn','Fgf14','Rfx4'],\n",
    "           #['Epcam','Samd3','T','Shh','Krt19','Foxa2','Car3','Pax9','Sox9','Frzb'], \n",
    "           cmap = reds, vmin = 0.05,ncols=3)"
   ]
  },
  {
   "cell_type": "code",
   "execution_count": null,
   "id": "f615def8-60b6-4292-80ae-7a7d3062567d",
   "metadata": {},
   "outputs": [],
   "source": [
    "sc.pl.umap(adata_dict['ME9'], color = ['Tlx2','Lhx2'], cmap = reds, vmin = 0.05,ncols=3)"
   ]
  },
  {
   "cell_type": "code",
   "execution_count": null,
   "id": "bf992fff-da69-4384-b8e8-91ad494c1e89",
   "metadata": {},
   "outputs": [],
   "source": [
    "i = 'ME10'\n",
    "adata_dict[i].X = adata_dict[i].layers['original_counts'].copy()\n",
    "sc.pp.normalize_total(adata_dict[i]) # Normalizing to median total counts\n",
    "sc.pp.log1p(adata_dict[i]) # Logarithmize the data\n",
    "adata_dict[i].layers[\"normalized_counts\"] = adata_dict[i].X.copy()\n",
    "\n",
    "##highly variable genes\n",
    "sc.pp.highly_variable_genes(adata_dict[i], n_top_genes=1000,)\n",
    "\n",
    "##dimensionality reduction and clustering\n",
    "sc.tl.pca(adata_dict[i])\n",
    "sc.pp.neighbors(adata_dict[i])\n",
    "sc.tl.umap(adata_dict[i])\n",
    "sc.tl.leiden(adata_dict[i],resolution = 1, key_added = 'leiden_post_QC')\n",
    "\n",
    "sc.pl.umap(adata_dict[i],color = ['Epcam','leiden_post_QC',\n",
    "                         ], ncols = 3, \n",
    "           groups = ['12','15','18','21'],\n",
    "           cmap = reds, vmin = 0.05)\n"
   ]
  },
  {
   "cell_type": "code",
   "execution_count": null,
   "id": "5cba2de2-39fe-4d66-8f94-68e86a0191dc",
   "metadata": {},
   "outputs": [],
   "source": [
    "sc.pl.umap(adata_dict['ME10'], color = ['leiden_post_QC','doublet_score','Epcam','Sox10','Tlx2','Neurog1','Neurod1','Lhx2'], cmap = reds, vmin = 0.05,ncols=3)"
   ]
  },
  {
   "cell_type": "code",
   "execution_count": null,
   "id": "d0a14d82-edd7-4963-9b1c-e8363373e7e0",
   "metadata": {},
   "outputs": [],
   "source": [
    "i = 'ME11'\n",
    "adata_dict[i].X = adata_dict[i].layers['original_counts'].copy()\n",
    "sc.pp.normalize_total(adata_dict[i]) # Normalizing to median total counts\n",
    "sc.pp.log1p(adata_dict[i]) # Logarithmize the data\n",
    "adata_dict[i].layers[\"normalized_counts\"] = adata_dict[i].X.copy()\n",
    "\n",
    "##highly variable genes\n",
    "sc.pp.highly_variable_genes(adata_dict[i], n_top_genes=1000,)\n",
    "\n",
    "##dimensionality reduction and clustering\n",
    "sc.tl.pca(adata_dict[i])\n",
    "sc.pp.neighbors(adata_dict[i])\n",
    "sc.tl.umap(adata_dict[i])\n",
    "sc.tl.leiden(adata_dict[i],resolution = 1, key_added = 'leiden_post_QC')\n",
    "\n",
    "sc.pl.umap(adata_dict[i],color = ['Epcam','leiden_post_QC',\n",
    "                         ], ncols = 3, \n",
    "           groups = ['10','14','18','21','22'],\n",
    "           cmap = reds, vmin = 0.05)\n",
    "\n"
   ]
  },
  {
   "cell_type": "code",
   "execution_count": null,
   "id": "4f5299d3-8322-44c6-b874-f08d6b737c05",
   "metadata": {},
   "outputs": [],
   "source": [
    "i = 'ME12'\n",
    "adata_dict[i].X = adata_dict[i].layers['original_counts'].copy()\n",
    "sc.pp.normalize_total(adata_dict[i]) # Normalizing to median total counts\n",
    "sc.pp.log1p(adata_dict[i]) # Logarithmize the data\n",
    "adata_dict[i].layers[\"normalized_counts\"] = adata_dict[i].X.copy()\n",
    "\n",
    "##highly variable genes\n",
    "sc.pp.highly_variable_genes(adata_dict[i], n_top_genes=1000,)\n",
    "\n",
    "##dimensionality reduction and clustering\n",
    "sc.tl.pca(adata_dict[i])\n",
    "sc.pp.neighbors(adata_dict[i])\n",
    "sc.tl.umap(adata_dict[i])\n",
    "sc.tl.leiden(adata_dict[i],resolution = 1, key_added = 'leiden_post_QC')\n",
    "\n",
    "sc.pl.umap(adata_dict[i],color = ['Epcam','leiden_post_QC',\n",
    "                         ], ncols = 3, \n",
    "           groups = ['7','15','21',],\n",
    "           cmap = reds, vmin = 0.05)\n",
    "\n"
   ]
  },
  {
   "cell_type": "code",
   "execution_count": null,
   "id": "694955c0-fa85-4f29-a35b-d78e61ca7d0b",
   "metadata": {},
   "outputs": [],
   "source": [
    "adata_dict['ME8'] = adata_dict['ME8'][adata_dict['ME8'].obs['leiden_post_QC'].isin(['0','9','17','18'])].copy()\n",
    "adata_dict['ME9'] = adata_dict['ME9'][adata_dict['ME9'].obs['leiden_post_QC'].isin(['5','14','21','22'])].copy()\n",
    "adata_dict['ME10'] = adata_dict['ME10'][adata_dict['ME10'].obs['leiden_post_QC'].isin(['12','15','18','21'])].copy()\n",
    "adata_dict['ME11'] = adata_dict['ME11'][adata_dict['ME11'].obs['leiden_post_QC'].isin(['10','14','18','21','22'])].copy()\n",
    "adata_dict['ME12'] = adata_dict['ME12'][adata_dict['ME12'].obs['leiden_post_QC'].isin(['7','15','21',])].copy()"
   ]
  },
  {
   "cell_type": "code",
   "execution_count": null,
   "id": "6d9e5973-97ac-4e2a-88e4-35b1ec91faa2",
   "metadata": {},
   "outputs": [],
   "source": [
    "adata = ad.concat(adata_dict)\n",
    "adata.var = adata_dict['ME12'].var.iloc[:,range(0,11)]\n",
    "\n",
    "adata.X = adata.layers['original_counts'].copy()\n",
    "\n",
    "adata.write(output_prefix+species+'/'+genome+'/'+'adata_mm39_epcam_concat.h5ad')"
   ]
  },
  {
   "cell_type": "code",
   "execution_count": null,
   "id": "0afc10ac-814b-4dbb-a0bc-1c510022d183",
   "metadata": {},
   "outputs": [],
   "source": []
  }
 ],
 "metadata": {
  "kernelspec": {
   "display_name": "scanpy_2025",
   "language": "python",
   "name": "scanpy_2025"
  },
  "language_info": {
   "codemirror_mode": {
    "name": "ipython",
    "version": 3
   },
   "file_extension": ".py",
   "mimetype": "text/x-python",
   "name": "python",
   "nbconvert_exporter": "python",
   "pygments_lexer": "ipython3",
   "version": "3.11.11"
  }
 },
 "nbformat": 4,
 "nbformat_minor": 5
}
