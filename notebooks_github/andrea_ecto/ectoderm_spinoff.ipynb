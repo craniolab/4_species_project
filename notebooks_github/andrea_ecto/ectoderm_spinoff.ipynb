{
 "cells": [
  {
   "cell_type": "markdown",
   "id": "891dab08-b01f-44b3-8dbc-a97ce446afef",
   "metadata": {},
   "source": [
    "## separating Ecto for Andrea's project\n",
    "Selecting all Epcam clusters per sample and saving it as a combined object.  \n",
    "ME8:  \n",
    "![](../../markdown_images/mouse/mm39/markdown_plots/ectoderm_spinoff/ME8_umap.png)   \n",
    "\n",
    "ME9:  \n",
    "![](../../markdown_images/mouse/mm39/markdown_plots/ectoderm_spinoff/ME9_umap.png)   \n",
    "\n",
    "ME10:  \n",
    "![](../../markdown_images/mouse/mm39/markdown_plots/ectoderm_spinoff/ME10_umap.png)   \n",
    "\n",
    "ME11:  \n",
    "I increased the resolution to also include the neuronal cells I think belong to the olfactory lineage.  \n",
    "![](../../markdown_images/mouse/mm39/markdown_plots/ectoderm_spinoff/ME11_umap.png)   \n",
    "\n",
    "ME12:  \n",
    "![](../../markdown_images/mouse/mm39/markdown_plots/ectoderm_spinoff/ME12_umap.png)   \n",
    "\n",
    "Subset these cells and combined them into a single file: adata_epcam_concat.h5ad  \n",
    "Will combine this with our epcam+ cells."
   ]
  },
  {
   "cell_type": "code",
   "execution_count": null,
   "id": "eec206ef-1178-4d20-be15-0a4aa3023613",
   "metadata": {},
   "outputs": [],
   "source": [
    "import logging\n",
    "logging.getLogger('matplotlib.font_manager').setLevel(logging.ERROR)\n",
    "import scanpy as sc\n",
    "import anndata as ad\n",
    "import scvelo as scv\n",
    "import scvi\n",
    "import seaborn as sns\n",
    "import plotly.express as px\n",
    "import numpy as np\n",
    "from dash import Dash, dcc, html, Input, Output\n",
    "\n",
    "import pandas as pd\n",
    "\n",
    "import os\n",
    "import sys\n",
    "import time\n",
    "import gc\n",
    "os.environ['R_HOME'] = sys.exec_prefix+\"/lib/R/\"\n",
    "\n",
    "# Plotting\n",
    "import matplotlib\n",
    "import matplotlib.pyplot as plt\n",
    "import matplotlib as mpl\n",
    "from matplotlib.backends.backend_pdf import PdfPages\n",
    "from matplotlib.colors import LinearSegmentedColormap, ListedColormap\n",
    "from matplotlib.lines import Line2D \n",
    "\n",
    "from copy import copy\n",
    "reds = copy(mpl.cm.Reds)\n",
    "reds.set_under(\"lightgray\")\n",
    "\n",
    "project_directory = '/Cranio_Lab/Louk_Seton/4_species_project'\n",
    "os.chdir(os.path.expanduser(\"~\")+project_directory)"
   ]
  },
  {
   "cell_type": "code",
   "execution_count": null,
   "id": "b7852e7b-1694-4241-a16d-0aa37b57e4df",
   "metadata": {},
   "outputs": [],
   "source": [
    "##mouse mm10\n",
    "start_time=time.strftime(\"%Y_%m_%d-%I_%M_%S_%p\")\n",
    "print('start time:',start_time)\n",
    "\n",
    "sample_names = ['ME8','ME9','ME10','ME11','ME12'] #specify the sample names\n",
    "species = 'mouse' #specify the species\n",
    "genome = 'mm39' #specify the genome\n",
    "output_prefix = 'h5ad_files/' #specify the location of the cellranger output\n",
    "\n",
    "adata_dict = {}\n",
    "for sample in sample_names:\n",
    "    adata_dict[sample] = sc.read(output_prefix+species+'/'+genome+'/'+sample+'_filtered_by_mm10.h5ad')\n",
    "    #adata_dict[sample].obs['leiden_post_QC'] = adata_dict[sample].obs['leiden_post_QC'].astype(str) + '_'+sample"
   ]
  },
  {
   "cell_type": "code",
   "execution_count": null,
   "id": "e4b28953-bb22-4a74-b386-4a9cd2aac59b",
   "metadata": {},
   "outputs": [],
   "source": [
    "## code for any markdown figures ##\n",
    "output_dir = 'markdown_images/'+species+'/'+genome+'/markdown_plots/ectoderm_spinoff/'\n",
    "!mkdir -p {output_dir}\n",
    "\n",
    "i='ME8'\n",
    "plt.rcParams['figure.figsize'] = [4,3]\n",
    "ax = sc.pl.umap(adata_dict[i],color = ['Epcam','leiden_post_QC',\n",
    "                         ], ncols = 3, groups = ['0','9','17','18'],\n",
    "           cmap = reds, vmin = 0.05,show = False)\n",
    "plt.savefig(output_dir+i+'_umap.png', dpi = 80,bbox_inches='tight')\n",
    "plt.close()\n",
    "\n",
    "i='ME9'\n",
    "plt.rcParams['figure.figsize'] = [4,3]\n",
    "ax = sc.pl.umap(adata_dict[i],color = ['Epcam','leiden_post_QC',\n",
    "                         ], ncols = 3, groups = ['5','14','21','22'],\n",
    "           cmap = reds, vmin = 0.05,show = False)\n",
    "plt.savefig(output_dir+i+'_umap.png', dpi = 80,bbox_inches='tight')\n",
    "plt.close()\n",
    "\n",
    "i='ME10'\n",
    "plt.rcParams['figure.figsize'] = [4,3]\n",
    "ax = sc.pl.umap(adata_dict[i],color = ['Epcam','leiden_high',\n",
    "                         ], ncols = 3, groups = ['9','15','25','31','39'],\n",
    "           cmap = reds, vmin = 0.05,show = False)\n",
    "plt.savefig(output_dir+i+'_umap.png', dpi = 80,bbox_inches='tight')\n",
    "plt.close()\n",
    "\n",
    "i='ME11'\n",
    "plt.rcParams['figure.figsize'] = [4,3]\n",
    "ax = sc.pl.umap(adata_dict[i],color = ['Epcam','leiden_post_QC',\n",
    "                         ], ncols = 3, groups = ['10','14','18','21','22'],\n",
    "           cmap = reds, vmin = 0.05,show = False)\n",
    "plt.savefig(output_dir+i+'_umap.png', dpi = 80,bbox_inches='tight')\n",
    "plt.close()\n",
    "\n",
    "i='ME12'\n",
    "plt.rcParams['figure.figsize'] = [4,3]\n",
    "ax = sc.pl.umap(adata_dict[i],color = ['Epcam','leiden_post_QC',\n",
    "                         ], ncols = 3, groups = ['7','15','21',],\n",
    "           cmap = reds, vmin = 0.05,show = False)\n",
    "plt.savefig(output_dir+i+'_umap.png', dpi = 80,bbox_inches='tight')\n",
    "plt.close()"
   ]
  },
  {
   "cell_type": "code",
   "execution_count": null,
   "id": "3c4f9707-65b3-492a-b6ea-40873852bcdd",
   "metadata": {},
   "outputs": [],
   "source": [
    "##ME8\n",
    "i = 'ME8'\n",
    "adata_dict[i].X = adata_dict[i].layers['original_counts'].copy()\n",
    "sc.pp.normalize_total(adata_dict[i]) # Normalizing to median total counts\n",
    "sc.pp.log1p(adata_dict[i]) # Logarithmize the data\n",
    "adata_dict[i].layers[\"normalized_counts\"] = adata_dict[i].X.copy()\n",
    "\n",
    "##highly variable genes\n",
    "sc.pp.highly_variable_genes(adata_dict[i], n_top_genes=1000,)\n",
    "\n",
    "##dimensionality reduction and clustering\n",
    "sc.tl.pca(adata_dict[i])\n",
    "sc.pp.neighbors(adata_dict[i])\n",
    "sc.tl.umap(adata_dict[i])\n",
    "sc.tl.leiden(adata_dict[i],resolution = 1, key_added = 'leiden_post_QC')\n",
    "\n",
    "sc.pl.umap(adata_dict[i],color = ['Epcam','leiden_post_QC',\n",
    "                         ], ncols = 3, \n",
    "           groups = ['0','9','17','18'],\n",
    "           cmap = reds, vmin = 0.05)\n"
   ]
  },
  {
   "cell_type": "code",
   "execution_count": null,
   "id": "ecc8410b-b9e9-4436-bf1b-e43150273890",
   "metadata": {},
   "outputs": [],
   "source": [
    "sc.tl.leiden(adata_dict['ME8'],resolution = 2, key_added = 'leiden_post_QC_high')\n",
    "sc.pl.umap(adata_dict['ME8'], color = ['leiden_post_QC_high'])"
   ]
  },
  {
   "cell_type": "code",
   "execution_count": null,
   "id": "f44ab3c4-a387-413e-a1db-b0bb173c3ba5",
   "metadata": {},
   "outputs": [],
   "source": [
    "sc.tl.rank_genes_groups(adata_dict['ME8'],groupby='leiden_post_QC_high',method='wilcoxon')\n",
    "sc.pl.rank_genes_groups_dotplot(adata_dict['ME8'],groups = ['23'],n_genes = 40, values_to_plot = 'logfoldchanges',\n",
    "                                cmap='bwr',vmin=-4,vmax=4,min_logfoldchange = 3)"
   ]
  },
  {
   "cell_type": "code",
   "execution_count": null,
   "id": "750c5027-e25b-4f28-84e3-6d471bfa9540",
   "metadata": {},
   "outputs": [],
   "source": [
    "sc.pl.rank_genes_groups_dotplot(adata_dict['ME8'],groups = ['7'],n_genes = 60, values_to_plot = 'logfoldchanges',\n",
    "                                cmap='bwr',vmin=-4,vmax=4,min_logfoldchange = 3.5)"
   ]
  },
  {
   "cell_type": "code",
   "execution_count": null,
   "id": "e12ede10-4afc-4dbb-acf6-4fe25dec2860",
   "metadata": {},
   "outputs": [],
   "source": []
  },
  {
   "cell_type": "code",
   "execution_count": null,
   "id": "a31ef56b-0030-4aa3-bcb8-7f0207cce621",
   "metadata": {},
   "outputs": [],
   "source": [
    "sc.pl.umap(adata_dict['ME8'], color = ['Sox10','Dlx2','Gad1','Cnmd','Dlx5','Pax3','Ahrr','Prdm12','Frzb','Prkn','Fgf14','Sox3','Rfx4','Zic5'],\n",
    "           #['Epcam','Samd3','T','Shh','Krt19','Foxa2','Car3','Pax9','Sox9','Frzb'], \n",
    "           cmap = reds, vmin = 0.05,ncols=3)"
   ]
  },
  {
   "cell_type": "code",
   "execution_count": null,
   "id": "f3dffea6-0758-4bf4-b4f2-600da450c956",
   "metadata": {},
   "outputs": [],
   "source": [
    "##ME9\n",
    "i = 'ME9'\n",
    "adata_dict[i].X = adata_dict[i].layers['original_counts'].copy()\n",
    "sc.pp.normalize_total(adata_dict[i]) # Normalizing to median total counts\n",
    "sc.pp.log1p(adata_dict[i]) # Logarithmize the data\n",
    "adata_dict[i].layers[\"normalized_counts\"] = adata_dict[i].X.copy()\n",
    "\n",
    "##highly variable genes\n",
    "sc.pp.highly_variable_genes(adata_dict[i], n_top_genes=1000,)\n",
    "\n",
    "##dimensionality reduction and clustering\n",
    "sc.tl.pca(adata_dict[i])\n",
    "sc.pp.neighbors(adata_dict[i])\n",
    "sc.tl.umap(adata_dict[i])\n",
    "sc.tl.leiden(adata_dict[i],resolution = 1, key_added = 'leiden_post_QC')\n",
    "\n",
    "sc.pl.umap(adata_dict[i],color = ['Epcam','leiden_post_QC',\n",
    "                         ], ncols = 3, \n",
    "           groups = ['5','14','21','22'],\n",
    "           cmap = reds, vmin = 0.05)\n"
   ]
  },
  {
   "cell_type": "code",
   "execution_count": null,
   "id": "1d828bc0-8947-4500-b35b-1792d4cdaa2f",
   "metadata": {},
   "outputs": [],
   "source": [
    "sc.tl.leiden(adata_dict['ME9'],resolution = 3, key_added = 'leiden_post_QC_high')\n",
    "sc.pl.umap(adata_dict['ME9'],color = ['leiden_post_QC_high'])"
   ]
  },
  {
   "cell_type": "code",
   "execution_count": null,
   "id": "ffe6114e-a2b5-4ddd-8d0c-981556428f60",
   "metadata": {},
   "outputs": [],
   "source": [
    "sc.pl.umap(adata_dict['ME9'], color = ['Epcam','Pax9','Pyy','Trh','Neurod1','Neurog1','Isl1','Hesx1','Pitx2','Wnt6','Sox10','Alx3','Dlx2','Insc','Dlx5','Sox3'], cmap = reds, vmin = 0.05,ncols=3)"
   ]
  },
  {
   "cell_type": "code",
   "execution_count": null,
   "id": "76f0daaa-d286-4031-82b6-32546a054ff6",
   "metadata": {},
   "outputs": [],
   "source": [
    "sc.tl.rank_genes_groups(adata_dict['ME9'],groupby='leiden_post_QC',method='wilcoxon')\n",
    "sc.pl.rank_genes_groups_dotplot(adata_dict['ME9'],groups = ['21'],n_genes = 40, values_to_plot = 'logfoldchanges',\n",
    "                                cmap='bwr',vmin=-4,vmax=4,min_logfoldchange = 3)"
   ]
  },
  {
   "cell_type": "code",
   "execution_count": null,
   "id": "8ecf49ca-4a21-4d40-9141-5678af84fb7c",
   "metadata": {},
   "outputs": [],
   "source": []
  },
  {
   "cell_type": "code",
   "execution_count": null,
   "id": "f1d675ff-f03a-4bc9-a899-0dca9fd4b415",
   "metadata": {},
   "outputs": [],
   "source": [
    "sc.pl.umap(adata_dict['ME9'], color = ['Sox10','Gad1','Cnmd','Nherf4','Zic5','Sox3','Dlx5','Pax3','Ahrr','Prdm12','Frzb','Prkn','Fgf14','Rfx4'],\n",
    "           #['Epcam','Samd3','T','Shh','Krt19','Foxa2','Car3','Pax9','Sox9','Frzb'], \n",
    "           cmap = reds, vmin = 0.05,ncols=3)"
   ]
  },
  {
   "cell_type": "code",
   "execution_count": null,
   "id": "f615def8-60b6-4292-80ae-7a7d3062567d",
   "metadata": {},
   "outputs": [],
   "source": [
    "sc.pl.umap(adata_dict['ME9'], color = ['Tlx2','Lhx2'], cmap = reds, vmin = 0.05,ncols=3)"
   ]
  },
  {
   "cell_type": "code",
   "execution_count": null,
   "id": "bf992fff-da69-4384-b8e8-91ad494c1e89",
   "metadata": {},
   "outputs": [],
   "source": [
    "i = 'ME10'\n",
    "adata_dict[i].X = adata_dict[i].layers['original_counts'].copy()\n",
    "sc.pp.normalize_total(adata_dict[i]) # Normalizing to median total counts\n",
    "sc.pp.log1p(adata_dict[i]) # Logarithmize the data\n",
    "adata_dict[i].layers[\"normalized_counts\"] = adata_dict[i].X.copy()\n",
    "\n",
    "##highly variable genes\n",
    "sc.pp.highly_variable_genes(adata_dict[i], n_top_genes=800,)\n",
    "\n",
    "##dimensionality reduction and clustering\n",
    "sc.tl.pca(adata_dict[i])\n",
    "sc.pp.neighbors(adata_dict[i])\n",
    "sc.tl.umap(adata_dict[i])\n",
    "sc.tl.leiden(adata_dict[i],resolution = 2, key_added = 'leiden_high')\n",
    "\n",
    "sc.pl.umap(adata_dict[i],color = ['Epcam','Casr','Neurod1','leiden_high',\n",
    "                         ], ncols = 3, legend_loc = 'on data', \n",
    "           groups = ['9','15','25','31','39'],\n",
    "           cmap = reds, vmin = 0.05)\n"
   ]
  },
  {
   "cell_type": "code",
   "execution_count": null,
   "id": "5cba2de2-39fe-4d66-8f94-68e86a0191dc",
   "metadata": {},
   "outputs": [],
   "source": [
    "sc.pl.umap(adata_dict['ME10'], color = ['doublet_score','Epcam','Sox10','Tlx2','Neurog1','Neurod1','Lhx2'], cmap = reds, vmin = 0.05,ncols=3)"
   ]
  },
  {
   "cell_type": "code",
   "execution_count": null,
   "id": "d0a14d82-edd7-4963-9b1c-e8363373e7e0",
   "metadata": {},
   "outputs": [],
   "source": [
    "i = 'ME11'\n",
    "adata_dict[i].X = adata_dict[i].layers['original_counts'].copy()\n",
    "sc.pp.normalize_total(adata_dict[i]) # Normalizing to median total counts\n",
    "sc.pp.log1p(adata_dict[i]) # Logarithmize the data\n",
    "adata_dict[i].layers[\"normalized_counts\"] = adata_dict[i].X.copy()\n",
    "\n",
    "##highly variable genes\n",
    "sc.pp.highly_variable_genes(adata_dict[i], n_top_genes=1000,)\n",
    "\n",
    "##dimensionality reduction and clustering\n",
    "sc.tl.pca(adata_dict[i])\n",
    "sc.pp.neighbors(adata_dict[i])\n",
    "sc.tl.umap(adata_dict[i])\n",
    "sc.tl.leiden(adata_dict[i],resolution = 1, key_added = 'leiden_post_QC')\n",
    "\n",
    "sc.pl.umap(adata_dict[i],color = ['Epcam','Casr','leiden_post_QC',\n",
    "                         ], ncols = 3, \n",
    "           groups = ['10','14','18','21','22'],\n",
    "           cmap = reds, vmin = 0.05)\n",
    "\n"
   ]
  },
  {
   "cell_type": "code",
   "execution_count": null,
   "id": "4f5299d3-8322-44c6-b874-f08d6b737c05",
   "metadata": {},
   "outputs": [],
   "source": [
    "i = 'ME12'\n",
    "adata_dict[i].X = adata_dict[i].layers['original_counts'].copy()\n",
    "sc.pp.normalize_total(adata_dict[i]) # Normalizing to median total counts\n",
    "sc.pp.log1p(adata_dict[i]) # Logarithmize the data\n",
    "adata_dict[i].layers[\"normalized_counts\"] = adata_dict[i].X.copy()\n",
    "\n",
    "##highly variable genes\n",
    "sc.pp.highly_variable_genes(adata_dict[i], n_top_genes=1000,)\n",
    "\n",
    "##dimensionality reduction and clustering\n",
    "sc.tl.pca(adata_dict[i])\n",
    "sc.pp.neighbors(adata_dict[i])\n",
    "sc.tl.umap(adata_dict[i])\n",
    "sc.tl.leiden(adata_dict[i],resolution = 1, key_added = 'leiden_post_QC')\n",
    "\n",
    "sc.pl.umap(adata_dict[i],color = ['Epcam','Casr','leiden_post_QC',\n",
    "                         ], ncols = 3, \n",
    "           groups = ['7','15','21',],\n",
    "           cmap = reds, vmin = 0.05)\n",
    "\n"
   ]
  },
  {
   "cell_type": "code",
   "execution_count": null,
   "id": "694955c0-fa85-4f29-a35b-d78e61ca7d0b",
   "metadata": {},
   "outputs": [],
   "source": [
    "adata_dict['ME8'] = adata_dict['ME8'][adata_dict['ME8'].obs['leiden_post_QC'].isin(['0','9','17','18'])].copy()\n",
    "adata_dict['ME9'] = adata_dict['ME9'][adata_dict['ME9'].obs['leiden_post_QC'].isin(['5','14','21','22'])].copy()\n",
    "adata_dict['ME10'] = adata_dict['ME10'][adata_dict['ME10'].obs['leiden_high'].isin(['9','15','25','31','39'])].copy()\n",
    "adata_dict['ME11'] = adata_dict['ME11'][adata_dict['ME11'].obs['leiden_post_QC'].isin(['10','14','18','21','22'])].copy()\n",
    "adata_dict['ME12'] = adata_dict['ME12'][adata_dict['ME12'].obs['leiden_post_QC'].isin(['7','15','21',])].copy()"
   ]
  },
  {
   "cell_type": "code",
   "execution_count": null,
   "id": "6d9e5973-97ac-4e2a-88e4-35b1ec91faa2",
   "metadata": {},
   "outputs": [],
   "source": [
    "adata = ad.concat(adata_dict)\n",
    "adata.var = adata_dict['ME12'].var.iloc[:,range(0,11)]\n",
    "\n",
    "adata.X = adata.layers['original_counts'].copy()\n",
    "\n",
    "adata.write(output_prefix+species+'/'+genome+'/'+'adata_mm39_epcam_concat.h5ad')"
   ]
  },
  {
   "cell_type": "code",
   "execution_count": null,
   "id": "70210084-2726-4bd6-807e-36edef152542",
   "metadata": {},
   "outputs": [],
   "source": [
    "##################"
   ]
  },
  {
   "cell_type": "code",
   "execution_count": null,
   "id": "e1513507-1497-4fb9-a475-62db6aaa4c9f",
   "metadata": {},
   "outputs": [],
   "source": [
    "#annotate per stage\n",
    "##ME8\n",
    "i = 'ME8'\n",
    "adata_dict[i].X = adata_dict[i].layers['original_counts'].copy()\n",
    "sc.pp.normalize_total(adata_dict[i]) # Normalizing to median total counts\n",
    "sc.pp.log1p(adata_dict[i]) # Logarithmize the data\n",
    "adata_dict[i].layers[\"normalized_counts\"] = adata_dict[i].X.copy()\n",
    "\n",
    "##highly variable genes\n",
    "sc.pp.highly_variable_genes(adata_dict[i], n_top_genes=300,)\n",
    "\n",
    "##dimensionality reduction and clustering\n",
    "sc.tl.pca(adata_dict[i])\n",
    "sc.pp.neighbors(adata_dict[i])\n",
    "sc.tl.umap(adata_dict[i])\n",
    "sc.tl.leiden(adata_dict[i],resolution = 2, key_added = 'leiden_post_QC')\n",
    "\n",
    "sc.pl.umap(adata_dict[i],color = ['Epcam','leiden_post_QC',\n",
    "                         ], ncols = 3, size = 50,legend_loc = 'on data',\n",
    "           \n",
    "           cmap = reds, vmin = 0.05)\n"
   ]
  },
  {
   "cell_type": "code",
   "execution_count": null,
   "id": "bfaf4f76-e5bf-403b-8b5b-6cf7a38b9dc0",
   "metadata": {},
   "outputs": [],
   "source": [
    "sc.pl.umap(adata_dict[i],color = ['Xist','Tfap2b','Pax9','Hesx1','Six6','Sp8','Sp5','Pax3','Six3','Six1','Dlx5','Wnt6','Hoxa1',\n",
    "                         ], ncols = 3, size = 50,\n",
    "           \n",
    "           cmap = reds, vmin = 0.05)"
   ]
  },
  {
   "cell_type": "code",
   "execution_count": null,
   "id": "10f24078-f306-488d-ac60-c2bf003e53e9",
   "metadata": {},
   "outputs": [],
   "source": [
    "sc.tl.rank_genes_groups(adata_dict[i],groupby='leiden_post_QC',method='wilcoxon')\n",
    "sc.tl.dendrogram(adata_dict[i],groupby='leiden_post_QC')\n",
    "sc.pl.rank_genes_groups_dotplot(adata_dict[i],\n",
    "                                groups = ['0','2','4','5','7','8','9','11','12','13','16','17'],\n",
    "                                n_genes = 10, values_to_plot = 'logfoldchanges',\n",
    "                                cmap='bwr',vmin=-4,vmax=4,min_logfoldchange = 2)"
   ]
  },
  {
   "cell_type": "code",
   "execution_count": null,
   "id": "1ad70911-6cc6-464d-a543-0d32b946bd89",
   "metadata": {},
   "outputs": [],
   "source": [
    "adata_placode_E8 = adata_dict[i][adata_dict[i].obs['leiden_post_QC']=='4'].copy()"
   ]
  },
  {
   "cell_type": "code",
   "execution_count": null,
   "id": "84982d75-f232-4424-8055-23aa01a3a3f9",
   "metadata": {},
   "outputs": [],
   "source": []
  },
  {
   "cell_type": "code",
   "execution_count": null,
   "id": "44afbc72-86e1-46a7-b943-2b6763050325",
   "metadata": {},
   "outputs": [],
   "source": []
  },
  {
   "cell_type": "code",
   "execution_count": null,
   "id": "530fd8d5-6e5a-4f39-a8b9-aa5cedd0706c",
   "metadata": {},
   "outputs": [],
   "source": [
    "#annotate per stage\n",
    "##ME9\n",
    "i = 'ME9'\n",
    "adata_dict[i].X = adata_dict[i].layers['original_counts'].copy()\n",
    "sc.pp.normalize_total(adata_dict[i]) # Normalizing to median total counts\n",
    "sc.pp.log1p(adata_dict[i]) # Logarithmize the data\n",
    "adata_dict[i].layers[\"normalized_counts\"] = adata_dict[i].X.copy()\n",
    "\n",
    "##highly variable genes\n",
    "sc.pp.highly_variable_genes(adata_dict[i], n_top_genes=300,)\n",
    "\n",
    "##dimensionality reduction and clustering\n",
    "sc.tl.pca(adata_dict[i])\n",
    "sc.pp.neighbors(adata_dict[i])\n",
    "sc.tl.umap(adata_dict[i])\n",
    "sc.tl.leiden(adata_dict[i],resolution = 2, key_added = 'leiden_post_QC')\n",
    "\n",
    "sc.pl.umap(adata_dict[i],color = ['Epcam','leiden_post_QC',\n",
    "                         ], ncols = 3, size = 50,legend_loc = 'on data',\n",
    "           \n",
    "           cmap = reds, vmin = 0.05)\n"
   ]
  },
  {
   "cell_type": "code",
   "execution_count": null,
   "id": "cfc56d3e-8f39-4b56-831c-afe2353e71e1",
   "metadata": {},
   "outputs": [],
   "source": [
    "i = 'ME9'\n",
    "sc.pl.umap(adata_dict[i],color = ['Pitx2','Fgf8','Dlx6os1','Tfap2b','Pax6','Pax9','Hesx1','Six6','Sp8','Sp5','Pax3','Six3','Six1','Dlx5','Wnt6','Hmx1','Pcp4',\n",
    "                         ], ncols = 3, size = 50,\n",
    "           \n",
    "           cmap = reds, vmin = 0.05)"
   ]
  },
  {
   "cell_type": "code",
   "execution_count": null,
   "id": "6cf274e4-d8cb-4077-bae3-6bbebe915ffd",
   "metadata": {},
   "outputs": [],
   "source": [
    "sc.tl.rank_genes_groups(adata_dict[i],groupby='leiden_post_QC',method='wilcoxon')\n",
    "sc.tl.dendrogram(adata_dict[i],groupby='leiden_post_QC')\n",
    "sc.pl.rank_genes_groups_dotplot(adata_dict[i],\n",
    "                                groups = ['8','11','12'],\n",
    "                                n_genes = 20, values_to_plot = 'logfoldchanges',\n",
    "                                cmap='bwr',vmin=-4,vmax=4,min_logfoldchange = 2.5)"
   ]
  },
  {
   "cell_type": "code",
   "execution_count": null,
   "id": "85e8e08b-00ac-4dcb-9a0f-f341d95b9d48",
   "metadata": {},
   "outputs": [],
   "source": [
    "adata_placode_E9 = adata_dict[i][adata_dict[i].obs['leiden_post_QC'].isin(['8','11','12'])].copy()"
   ]
  },
  {
   "cell_type": "code",
   "execution_count": null,
   "id": "b39dee89-89e5-4397-a4cc-6a1e6355a393",
   "metadata": {},
   "outputs": [],
   "source": []
  },
  {
   "cell_type": "code",
   "execution_count": null,
   "id": "78065507-400f-4806-b334-1918a2182dc7",
   "metadata": {},
   "outputs": [],
   "source": [
    "#annotate per stage\n",
    "##ME10\n",
    "i = 'ME10'\n",
    "adata_dict[i].X = adata_dict[i].layers['original_counts'].copy()\n",
    "sc.pp.normalize_total(adata_dict[i]) # Normalizing to median total counts\n",
    "sc.pp.log1p(adata_dict[i]) # Logarithmize the data\n",
    "adata_dict[i].layers[\"normalized_counts\"] = adata_dict[i].X.copy()\n",
    "\n",
    "##highly variable genes\n",
    "sc.pp.highly_variable_genes(adata_dict[i], n_top_genes=300,)\n",
    "\n",
    "##dimensionality reduction and clustering\n",
    "sc.tl.pca(adata_dict[i])\n",
    "sc.pp.neighbors(adata_dict[i])\n",
    "sc.tl.umap(adata_dict[i])\n",
    "sc.tl.leiden(adata_dict[i],resolution = 2, key_added = 'leiden_post_QC')\n",
    "\n",
    "sc.pl.umap(adata_dict[i],color = ['Epcam','leiden_post_QC',\n",
    "                         ], ncols = 3, size = 50,legend_loc = 'on data',\n",
    "           \n",
    "           cmap = reds, vmin = 0.05)\n"
   ]
  },
  {
   "cell_type": "code",
   "execution_count": null,
   "id": "d18034e8-40ac-4775-a085-e3684079e6c9",
   "metadata": {},
   "outputs": [],
   "source": [
    "sc.pl.umap(adata_dict[i],color = ['Grm7','Sox10','Shh','Maob','Pcp4','Aldh1a3','Fgf12','Pitx2','Fgf17','Fgf8','Dlx6os1','Tfap2b','Pax6','Pax9','Hesx1','Six6','Sp8','Sp5','Pax3','Six3','Six1','Dlx5','Wnt6','Hmx1','Casr',\n",
    "                         ], ncols = 3, size = 50,\n",
    "           \n",
    "           cmap = reds, vmin = 0.05)"
   ]
  },
  {
   "cell_type": "code",
   "execution_count": null,
   "id": "36bef0d5-eec4-4ab4-9b62-4c65fafa73c7",
   "metadata": {},
   "outputs": [],
   "source": [
    "sc.tl.rank_genes_groups(adata_dict[i],groupby='leiden_post_QC',method='wilcoxon')\n",
    "sc.tl.dendrogram(adata_dict[i],groupby='leiden_post_QC')\n",
    "sc.pl.rank_genes_groups_dotplot(adata_dict[i],\n",
    "                                groups = ['1','7','8','15'],\n",
    "                                n_genes = 20, values_to_plot = 'logfoldchanges',\n",
    "                                cmap='bwr',vmin=-4,vmax=4,min_logfoldchange = 3)"
   ]
  },
  {
   "cell_type": "code",
   "execution_count": null,
   "id": "6e967bc9-ccc8-491b-b237-434f33206d59",
   "metadata": {},
   "outputs": [],
   "source": [
    "adata_placode_E10 = adata_dict[i][adata_dict[i].obs['leiden_post_QC'].isin(['1','7','8','15'])].copy()"
   ]
  },
  {
   "cell_type": "code",
   "execution_count": null,
   "id": "5fe6da59-0751-44b6-9e13-63e41e9f183f",
   "metadata": {},
   "outputs": [],
   "source": [
    "#annotate per stage\n",
    "##ME11\n",
    "i = 'ME11'\n",
    "adata_dict[i].X = adata_dict[i].layers['original_counts'].copy()\n",
    "sc.pp.normalize_total(adata_dict[i]) # Normalizing to median total counts\n",
    "sc.pp.log1p(adata_dict[i]) # Logarithmize the data\n",
    "adata_dict[i].layers[\"normalized_counts\"] = adata_dict[i].X.copy()\n",
    "\n",
    "##highly variable genes\n",
    "sc.pp.highly_variable_genes(adata_dict[i], n_top_genes=300,)\n",
    "\n",
    "##dimensionality reduction and clustering\n",
    "sc.tl.pca(adata_dict[i])\n",
    "sc.pp.neighbors(adata_dict[i])\n",
    "sc.tl.umap(adata_dict[i])\n",
    "sc.tl.leiden(adata_dict[i],resolution = 1, key_added = 'leiden_post_QC')\n",
    "\n",
    "sc.pl.umap(adata_dict[i],color = ['Epcam','leiden_post_QC',\n",
    "                         ], ncols = 3, size = 50,legend_loc = 'on data',\n",
    "           \n",
    "           cmap = reds, vmin = 0.05)\n"
   ]
  },
  {
   "cell_type": "code",
   "execution_count": null,
   "id": "bd233771-846c-464a-9d55-11bd4e85a3f1",
   "metadata": {},
   "outputs": [],
   "source": [
    "sc.pl.umap(adata_dict[i],color = ['Agtr1a','Grm7','Fezf2','Pax7','Sox10','Shh','Maob','Pcp4','Aldh1a3','Fgf12','Pitx2','Fgf17','Fgf8','Dlx6os1','Tfap2b','Pax6','Pax9','Hesx1','Six6','Sp8','Sp5','Pax3','Six3','Six1','Dlx5','Wnt6','Hmx1','Casr',\n",
    "                         ], ncols = 3, size = 50,\n",
    "           \n",
    "           cmap = reds, vmin = 0.05)"
   ]
  },
  {
   "cell_type": "code",
   "execution_count": null,
   "id": "6cf893a5-168f-4c2f-8a46-3a08dcb20d90",
   "metadata": {},
   "outputs": [],
   "source": [
    "sc.tl.rank_genes_groups(adata_dict[i],groupby='leiden_post_QC',method='wilcoxon')\n",
    "sc.tl.dendrogram(adata_dict[i],groupby='leiden_post_QC')\n",
    "sc.pl.rank_genes_groups_dotplot(adata_dict[i],\n",
    "                                groups = ['2','4','5','6','11'],\n",
    "                                n_genes = 20, values_to_plot = 'logfoldchanges',\n",
    "                                cmap='bwr',vmin=-4,vmax=4,min_logfoldchange = 2)"
   ]
  },
  {
   "cell_type": "code",
   "execution_count": null,
   "id": "aa728c2a-5af5-4b27-90b7-c26d9250f988",
   "metadata": {},
   "outputs": [],
   "source": [
    "adata_placode_E11 = adata_dict[i][adata_dict[i].obs['leiden_post_QC'].isin(['2','4','7','5','6','11'])].copy()"
   ]
  },
  {
   "cell_type": "code",
   "execution_count": null,
   "id": "a9ca12db-e7a8-4636-8d81-b6f667514a2c",
   "metadata": {},
   "outputs": [],
   "source": [
    "#annotate per stage\n",
    "##ME12\n",
    "i = 'ME12'\n",
    "adata_dict[i].X = adata_dict[i].layers['original_counts'].copy()\n",
    "sc.pp.normalize_total(adata_dict[i]) # Normalizing to median total counts\n",
    "sc.pp.log1p(adata_dict[i]) # Logarithmize the data\n",
    "adata_dict[i].layers[\"normalized_counts\"] = adata_dict[i].X.copy()\n",
    "\n",
    "##highly variable genes\n",
    "sc.pp.highly_variable_genes(adata_dict[i], n_top_genes=300,)\n",
    "\n",
    "##dimensionality reduction and clustering\n",
    "sc.tl.pca(adata_dict[i])\n",
    "sc.pp.neighbors(adata_dict[i])\n",
    "sc.tl.umap(adata_dict[i])\n",
    "sc.tl.leiden(adata_dict[i],resolution = 2, key_added = 'leiden_post_QC')\n",
    "\n",
    "sc.pl.umap(adata_dict[i],color = ['Epcam','leiden_post_QC',\n",
    "                         ], ncols = 3, size = 50,legend_loc = 'on data',\n",
    "           \n",
    "           cmap = reds, vmin = 0.05)\n"
   ]
  },
  {
   "cell_type": "code",
   "execution_count": null,
   "id": "57b4cc1d-5116-42f9-a45a-52761f19bd1e",
   "metadata": {},
   "outputs": [],
   "source": [
    "sc.pl.umap(adata_dict[i],color = ['phase','Hesx1','Ascl1','Grm7','Wnt6','Fezf2','Pax7','Sox10','Shh','Maob','Pcp4','Aldh1a3','Fgf12','Pitx2',\n",
    "                                  'Fgf17','Fgf8','Dlx6os1','Tfap2b','Pax6','Pax9','Hesx1','Six6','Sp8','Sp5','Pax3','Six3','Six1','Dlx5','Wnt6','Hmx1','Casr',\n",
    "                                  'leiden_post_QC',\n",
    "                         ], ncols = 3, size = 50,\n",
    "           legend_loc = 'on data',\n",
    "           cmap = reds, vmin = 0.05)"
   ]
  },
  {
   "cell_type": "code",
   "execution_count": null,
   "id": "da3aa384-c242-4eb0-b114-6fc8d798522c",
   "metadata": {},
   "outputs": [],
   "source": [
    "sc.tl.rank_genes_groups(adata_dict[i],groupby='leiden_post_QC',method='wilcoxon')\n",
    "sc.tl.dendrogram(adata_dict[i],groupby='leiden_post_QC')\n",
    "sc.pl.rank_genes_groups_dotplot(adata_dict[i],\n",
    "                                groups = ['2','4','5','6','8','9','10','12','14','15','18',],\n",
    "                                n_genes = 10, values_to_plot = 'logfoldchanges',\n",
    "                                cmap='bwr',vmin=-4,vmax=4,min_logfoldchange = 3)"
   ]
  },
  {
   "cell_type": "code",
   "execution_count": null,
   "id": "7fabe4b2-3003-471a-9f02-baedd2ef8854",
   "metadata": {},
   "outputs": [],
   "source": [
    "sc.pl.rank_genes_groups_dotplot(adata_dict[i],\n",
    "                                #var_names = ['Fgf8','Wnt6','Pitx2','Sox2','Sp8','Six1'],\n",
    "                                groups = ['15'],\n",
    "                                n_genes = 40, \n",
    "                                values_to_plot = 'logfoldchanges',\n",
    "                                cmap='bwr',vmin=-4,vmax=4,min_logfoldchange = 2)"
   ]
  },
  {
   "cell_type": "code",
   "execution_count": null,
   "id": "6dfb4814-4a41-4a62-b1ec-b7534014d8fd",
   "metadata": {},
   "outputs": [],
   "source": [
    "adata_placode_E12 = adata_dict[i][adata_dict[i].obs['leiden_post_QC'].isin(['2','4','5','6','8','9','10','12','14','15','18',])].copy()"
   ]
  },
  {
   "cell_type": "code",
   "execution_count": null,
   "id": "59e4fe94-c8e4-4769-83ee-38e554e8fd74",
   "metadata": {},
   "outputs": [],
   "source": [
    "adata_placode = {'ME8':adata_placode_E8,\n",
    "                 'ME9':adata_placode_E9,\n",
    "                 'ME10':adata_placode_E10,\n",
    "                 'ME11':adata_placode_E11,\n",
    "                 'ME812':adata_placode_E12,\n",
    "                }\n",
    "import anndata as ad\n",
    "\n",
    "adata_placode = ad.concat(adata_placode)"
   ]
  },
  {
   "cell_type": "code",
   "execution_count": null,
   "id": "78f66451-fa10-4cb1-b44c-f47255e77405",
   "metadata": {},
   "outputs": [],
   "source": [
    "adata_placode.write('h5ad_files/mouse/ecto_andrea/ecto_nasal_placode_derived_2024.h5ad')"
   ]
  },
  {
   "cell_type": "code",
   "execution_count": null,
   "id": "146b610f-3c7b-4364-9356-59ee0de877b1",
   "metadata": {},
   "outputs": [],
   "source": []
  }
 ],
 "metadata": {
  "kernelspec": {
   "display_name": "scanpy_2025",
   "language": "python",
   "name": "scanpy_2025"
  },
  "language_info": {
   "codemirror_mode": {
    "name": "ipython",
    "version": 3
   },
   "file_extension": ".py",
   "mimetype": "text/x-python",
   "name": "python",
   "nbconvert_exporter": "python",
   "pygments_lexer": "ipython3",
   "version": "3.11.11"
  }
 },
 "nbformat": 4,
 "nbformat_minor": 5
}
