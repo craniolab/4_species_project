{
 "cells": [
  {
   "cell_type": "markdown",
   "id": "403fe1ce-c244-49c7-a3b3-f1be69285075",
   "metadata": {},
   "source": [
    "quickly splitting into stages for andrea"
   ]
  },
  {
   "cell_type": "code",
   "execution_count": null,
   "id": "e0cb1d43-f738-41c7-93f9-ac740e1ba652",
   "metadata": {},
   "outputs": [],
   "source": [
    "import logging\n",
    "logging.getLogger('matplotlib.font_manager').setLevel(logging.ERROR)\n",
    "import scanpy as sc\n",
    "import anndata as ad\n",
    "import scvelo as scv\n",
    "import scvi\n",
    "import seaborn as sns\n",
    "import plotly.express as px\n",
    "import numpy as np\n",
    "from dash import Dash, dcc, html, Input, Output,dash_table, ctx, State\n",
    "import dash_ag_grid as dag\n",
    "\n",
    "import pandas as pd\n",
    "\n",
    "import os\n",
    "import sys\n",
    "import time\n",
    "import warnings\n",
    "import gc\n",
    "import io\n",
    "import base64\n",
    "os.environ['R_HOME'] = sys.exec_prefix+\"/lib/R/\"\n",
    "\n",
    "# Plotting\n",
    "import matplotlib\n",
    "import matplotlib.pyplot as plt\n",
    "import matplotlib as mpl\n",
    "from matplotlib.backends.backend_pdf import PdfPages\n",
    "from matplotlib.colors import LinearSegmentedColormap, ListedColormap\n",
    "from matplotlib.lines import Line2D \n",
    "\n",
    "from copy import copy\n",
    "reds = copy(mpl.cm.Reds)\n",
    "reds.set_under(\"lightgray\")\n",
    "\n",
    "def matplotlib_to_plotly(cmap, pl_entries):\n",
    "    h = 1.0/(pl_entries-1)\n",
    "    pl_colorscale = []\n",
    "\n",
    "    for k in range(pl_entries):\n",
    "        C = list(map(np.uint8, np.array(cmap(k * h)[:3]) * 255))\n",
    "        pl_colorscale.append([k*h, 'rgb'+str((C[0], C[1], C[2]))])\n",
    "\n",
    "    return pl_colorscale\n",
    "\n",
    "plotly_reds = matplotlib_to_plotly(reds, 255)\n",
    "plotly_reds[0] = [0.0, 'rgb(211, 211, 211)']\n",
    "\n",
    "project_directory = '/Cranio_Lab/Louk_Seton/4_species_project'\n",
    "os.chdir(os.path.expanduser(\"~\")+project_directory)"
   ]
  },
  {
   "cell_type": "code",
   "execution_count": null,
   "id": "568cb05e-69c2-4402-85eb-1c2ba559ee8c",
   "metadata": {},
   "outputs": [],
   "source": [
    "adata = sc.read('h5ad_files/mouse/ecto_andrea/ecto_interactive_nocycle.h5ad')"
   ]
  },
  {
   "cell_type": "code",
   "execution_count": null,
   "id": "f1b25018-76ed-4fd3-9234-342c50e6e882",
   "metadata": {},
   "outputs": [],
   "source": [
    "adata_dict = {}\n",
    "adata_dict['adata_E8'] = adata[adata.obs['sample'].isin(['ME8'])].copy()\n",
    "adata_dict['adata_E9'] = adata[adata.obs['sample'].isin(['ME9'])].copy()\n",
    "adata_dict['adata_E10'] = adata[adata.obs['sample'].isin(['ME10','10'])].copy()\n",
    "adata_dict['adata_E11'] = adata[adata.obs['sample'].isin(['ME11','11'])].copy()\n",
    "adata_dict['adata_E12'] = adata[adata.obs['sample'].isin(['ME12','12'])].copy()\n",
    "adata_dict['adata_E13'] = adata[adata.obs['sample'].isin(['13'])].copy()\n",
    "adata_dict['adata_E14'] = adata[adata.obs['sample'].isin(['14'])].copy()"
   ]
  },
  {
   "cell_type": "code",
   "execution_count": null,
   "id": "00b392b3-ed5e-4148-bb7b-943a4cfd77ee",
   "metadata": {},
   "outputs": [],
   "source": [
    "for stage in adata_dict:\n",
    "    tmp = adata_dict[stage].obsm['X_umap'].copy()\n",
    "    sc.pp.neighbors(adata_dict[stage], use_rep = 'X_umap_features', metric = 'manhattan',n_neighbors=15)\n",
    "    sc.tl.leiden(adata_dict[stage],resolution = .8, key_added = 'leiden_'+stage)\n",
    "    sc.tl.rank_genes_groups(adata_dict[stage],  'leiden_'+stage, method='wilcoxon', \n",
    "                              key_added = \"wilcoxon_\"+ 'leiden_'+stage)\n",
    "    sc.tl.umap(adata_dict[stage])\n",
    "    sc.pl.umap(adata_dict[stage], color = ['andrea_annotation','leiden_'+stage])\n",
    "    adata_dict[stage].obsm['X_umap_new'] = adata_dict[stage].obsm['X_umap'].copy()\n",
    "    adata_dict[stage].obsm['X_umap'] = tmp\n",
    "    adata_dict[stage].write('h5ad_files/mouse/ecto_andrea/'+stage+'_split_ecto.h5ad')"
   ]
  },
  {
   "cell_type": "code",
   "execution_count": null,
   "id": "7557c39f-438e-452e-9f1b-15b83fbf5df9",
   "metadata": {},
   "outputs": [],
   "source": [
    "sc.pl.embedding(adata_dict['adata_E10'],basis = 'X_umap_new', color = ['andrea_annotation','leiden_'+'adata_E10'])"
   ]
  },
  {
   "cell_type": "code",
   "execution_count": null,
   "id": "1e5f5c68-1831-480b-9d0c-6eb3f6e688f2",
   "metadata": {},
   "outputs": [],
   "source": []
  }
 ],
 "metadata": {
  "kernelspec": {
   "display_name": "scanpy_2025",
   "language": "python",
   "name": "scanpy_2025"
  },
  "language_info": {
   "codemirror_mode": {
    "name": "ipython",
    "version": 3
   },
   "file_extension": ".py",
   "mimetype": "text/x-python",
   "name": "python",
   "nbconvert_exporter": "python",
   "pygments_lexer": "ipython3",
   "version": "3.11.11"
  }
 },
 "nbformat": 4,
 "nbformat_minor": 5
}
