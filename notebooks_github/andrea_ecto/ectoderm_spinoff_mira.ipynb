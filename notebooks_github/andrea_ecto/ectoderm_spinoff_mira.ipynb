{
 "cells": [
  {
   "cell_type": "markdown",
   "id": "829d50ba-a5af-484d-bc14-8c6598a9630b",
   "metadata": {},
   "source": [
    "## Summary  \n",
    "Here we're integrating our new ectoderm data (E8.5-E12.5) with our previous dataset (E10.5-E14.5).  \n",
    "Previously we had removed any clusters from our ectodermal cells that were not as relevant to us.  \n",
    "However, here the data we are integrating it with, should contain these parts we removed previously.  \n",
    "So I went back and selected all the Epcam positive clusters from our previous dataset. I also transfered the labels from the ectoderm we had annotated.  \n",
    "I did some other things to make sure everything was transfered properly between the two datasets when merging the objects.  \n",
    "\n",
    "With this I applied our previous strategy of calculating hvgs twice. Once only on TFs and once on the other genes. This combined list of hvgs,  \n",
    "enriched in TFs, is then used as our hvg set. I still want to explore a better way of identifying hvgs, they're quite crucial to the analysis,  \n",
    "but usually overlooked. Regardless, with this set I integrated the two datasets using MIRA.  \n",
    "\n",
    "First I ran a loop to try different integration parameters. In the past I found that the number of topics and epochs are the most influential.  \n",
    "For each topic below I ran it with each of the number of epochs.  \n",
    "topics = [8,11,12,14,16,19]  \n",
    "epochs = [50,75,100,125,150]  \n",
    "\n",
    "I saved the results in /groups/mpistaff/Cranio_Lab/Louk_Seton/4_species_project/figures_ignore/mouse/mm39/mira_integration_tuning/andrea_ecto  \n",
    "The file are named by topic number, each page represents the number of epochs used in the order above.  \n",
    "\n",
    "Going over the results I actually found the 8 topics 50 epochs to look most promising. This seemed to show some of the relations between cells that I expected.  \n",
    "Generally, most of the results looked similar, I am mostly looking for something that will be able to show the velocity well. It might be that this view changes later.  \n",
    "\n",
    "For now I will work with the 8 topics 50 epochs data."
   ]
  },
  {
   "cell_type": "code",
   "execution_count": null,
   "id": "3e1bf862-586d-4d61-b741-26beb444d7df",
   "metadata": {},
   "outputs": [],
   "source": [
    "#ensure cuda is working\n",
    "import torch\n",
    "assert torch.cuda.is_available()\n",
    "print(torch.cuda.is_available())\n",
    "print(torch.cuda.device_count())\n",
    "print(torch.cuda.current_device())\n",
    "print(torch.cuda.device(0))\n",
    "print(torch.cuda.get_device_name(0))"
   ]
  },
  {
   "cell_type": "code",
   "execution_count": null,
   "id": "11c08e32-9871-4023-8958-26a8bf3d0f89",
   "metadata": {},
   "outputs": [],
   "source": [
    "import mira\n",
    "\n",
    "import anndata\n",
    "import scanpy as sc\n",
    "import numpy as np\n",
    "import pandas as pd\n",
    "import scvelo as scv\n",
    "\n",
    "import matplotlib.pyplot as plt\n",
    "plt.rcParams.update({'font.size': 14})\n",
    "import matplotlib\n",
    "import matplotlib as mpl\n",
    "from copy import copy\n",
    "reds = copy(mpl.cm.Reds)\n",
    "reds.set_under(\"lightgray\")\n",
    "\n",
    "import os\n",
    "import sys\n",
    "from pathlib import Path\n",
    "os.environ['R_HOME'] = sys.exec_prefix+\"/lib/R/\"\n",
    "\n",
    "project_directory = '/Cranio_Lab/Louk_Seton/4_species_project'\n",
    "os.chdir(os.path.expanduser(\"~\")+project_directory)"
   ]
  },
  {
   "cell_type": "code",
   "execution_count": null,
   "id": "67517bb9-ff05-49db-a74e-dec08d249d31",
   "metadata": {},
   "outputs": [],
   "source": [
    "seed = 666\n",
    "import random\n",
    "random.seed(seed)\n",
    "np.random.seed(seed)"
   ]
  },
  {
   "cell_type": "code",
   "execution_count": null,
   "id": "b5373e4e-b1d9-4df7-9357-9b34a27baa23",
   "metadata": {},
   "outputs": [],
   "source": [
    "# #new merge\n",
    "# #load in all data and show ecto\n",
    "# adata = sc.read('../mesenchyme_project_2023/anndata_objects/dataset_cleaned.h5ad')\n",
    "# adata = adata[adata.obs['sample'].isin(['10','11','12','13','14'])].copy()\n",
    "\n",
    "# adata.layers['original_counts'] = adata.X.copy()\n",
    "# sc.pp.normalize_total(adata) # Normalizing to median total counts\n",
    "# sc.pp.log1p(adata) # Logarithmize the data\n",
    "# adata.layers[\"normalized_counts\"] = adata.X.copy()\n",
    "\n",
    "# ##highly variable genes\n",
    "# sc.pp.highly_variable_genes(adata, n_top_genes=1000,)\n",
    "\n",
    "# ##dimensionality reduction and clustering\n",
    "# sc.tl.pca(adata)\n",
    "# sc.pp.neighbors(adata)\n",
    "# sc.tl.umap(adata)\n",
    "# sc.tl.leiden(adata,resolution = .3, key_added = 'leiden')\n",
    "\n",
    "# sc.pl.umap(adata,color = ['Epcam','sample','leiden',\n",
    "#                          ], ncols = 3, \n",
    "#            groups = ['3','11'],\n",
    "#            cmap = reds, vmin = 0.05)\n",
    "\n",
    "# #subset ecto\n",
    "# adata = adata[adata.obs['leiden'].isin(['3','11'])].copy()\n",
    "\n",
    "# cell_cycle_genes = [x.strip() for x in open('required_files/regev_lab_cell_cycle_genes.txt')]\n",
    "# s_genes = cell_cycle_genes[:43]\n",
    "# g2m_genes = cell_cycle_genes[43:]\n",
    "# sc.tl.score_genes_cell_cycle(adata, s_genes=s_genes, g2m_genes=g2m_genes)\n",
    "\n",
    "# #copy over annotation from before\n",
    "# adata_ecto = sc.read('../mesenchyme_project_2023/anndata_objects/ectoderm_interactive.h5ad')\n",
    "# adata.obs['annotation_ecto'] = np.nan\n",
    "# adata.obs.loc[adata_ecto[adata[adata_ecto[adata_ecto.obs.index.isin(adata.obs.index)].obs.index].obs.index].obs.index,'annotation_ecto'] = list(adata_ecto[adata[adata_ecto[adata_ecto.obs.index.isin(adata.obs.index)].obs.index].obs.index].obs['annotation_ecto']) #Socs2 Dlk1 Dlx5 Hey1 Eya4 Will become neuronal and non neuronal progenitors\n",
    "\n",
    "# sc.pl.umap(adata,color = ['Epcam','sample','leiden','annotation_ecto'\n",
    "#                          ], ncols = 3, \n",
    "#            #groups = ['3','11'],\n",
    "#            cmap = reds, vmin = 0.05)\n",
    "\n",
    "# adata_ecto_new = sc.read('h5ad_files/mouse/mm39/adata_mm39_epcam_concat.h5ad')\n",
    "# adata_ecto_new = adata_ecto_new[:,adata[:,adata.var.index.isin(adata_ecto_new.var.index)].var.index].copy()\n",
    "# adata = adata[:,adata_ecto_new[:,adata_ecto_new.var.index.isin(adata_ecto_new.var.index)].var.index].copy()\n",
    "\n",
    "# adata.X = adata.layers['original_counts'].copy()\n",
    "\n",
    "# import anndata as ad\n",
    "# ecto_combined = ad.concat([adata,adata_ecto_new],join = 'outer')\n",
    "# ecto_combined.var = adata_ecto_new.var\n",
    "\n",
    "# ouput_dir = 'h5ad_files/mouse/ecto_andrea/'\n",
    "# !mkdir -p {ouput_dir}\n",
    "# ecto_combined.write(ouput_dir+'ecto_combined_kaucka_all.h5ad')"
   ]
  },
  {
   "cell_type": "code",
   "execution_count": null,
   "id": "c8bda506-698f-45f1-94b3-721b81d997ac",
   "metadata": {},
   "outputs": [],
   "source": [
    "##old merge\n",
    "# adata_ecto_new = sc.read('h5ad_files/mouse/mm39/adata_mm39_epcam_concat.h5ad')\n",
    "# adata_ecto = sc.read('../mesenchyme_project_2023/anndata_objects/ectoderm_interactive.h5ad')\n",
    "\n",
    "# adata_ecto = adata_ecto[adata_ecto.obs['sample'].isin(['10','11','12','13','14'])].copy()\n",
    "# adata_ecto.obs = adata_ecto.obs.loc[:,['sample','barcode','batch','doublet_score','n_genes_by_counts', 'total_counts', 'total_counts_mt', 'pct_counts_mt', 'total_counts_rb', 'pct_counts_rb',\n",
    "#                    'phase','S_score','G2M_score','annotation_ecto']]\n",
    "\n",
    "# adata_all = sc.read('../mesenchyme_project_2023/anndata_objects/all_cells_unfiltered.h5ad')\n",
    "# adata_all = adata_all[adata_ecto[adata_ecto.obs.index.isin(adata_all.obs.index)].obs.index].copy() #subset by ecto\n",
    "\n",
    "# ##keep matching genes\n",
    "# adata_ecto_new = adata_ecto_new[:,adata_all[:,adata_all.var.index.isin(adata_ecto_new.var.index)].var.index].copy()\n",
    "# adata_all = adata_all[:,adata_ecto_new[:,adata_ecto_new.var.index.isin(adata_ecto_new.var.index)].var.index].copy()\n",
    "\n",
    "# adata_all.obs = adata_ecto.obs #copy over obs\n",
    "# adata_ecto = adata_all.copy() #replace with raw cells\n",
    "# adata_ecto.layers['original_counts'] = adata_ecto.X.copy()\n",
    "# import anndata as ad\n",
    "# ecto_combined = ad.concat([adata_ecto,adata_ecto_new],join = 'outer')\n",
    "# ecto_combined.var = adata_ecto_new.var\n",
    "\n",
    "# ouput_dir = 'h5ad_files/mouse/ecto_andrea/'\n",
    "# !mkdir -p {ouput_dir}\n",
    "# ecto_combined.write(ouput_dir+'ecto_combined.h5ad')"
   ]
  },
  {
   "cell_type": "code",
   "execution_count": null,
   "id": "6839f402-fbd7-44b0-a017-420527765b8f",
   "metadata": {},
   "outputs": [],
   "source": []
  },
  {
   "cell_type": "code",
   "execution_count": null,
   "id": "2e7ab23f-8867-43ff-8836-ba685be9fb88",
   "metadata": {},
   "outputs": [],
   "source": [
    "ouput_dir = 'h5ad_files/mouse/ecto_andrea/'\n",
    "\n",
    "adata = sc.read(ouput_dir+'ecto_combined_kaucka_all.h5ad')"
   ]
  },
  {
   "cell_type": "code",
   "execution_count": null,
   "id": "78400321-1bc4-434e-bfea-3bb1cd027746",
   "metadata": {},
   "outputs": [],
   "source": [
    "with open('required_files/allTFs_mm.txt') as f:\n",
    "    tf_list = [line.rstrip('\\n') for line in f]\n",
    "import numpy as np\n",
    "adata.var['TF'] = np.where(adata.var.index.isin(tf_list),True,False)"
   ]
  },
  {
   "cell_type": "code",
   "execution_count": null,
   "id": "9f7b1634-26a1-4c2a-b834-5e33e52034a6",
   "metadata": {},
   "outputs": [],
   "source": [
    "adata = adata[:,adata.var['TF']==True].copy()"
   ]
  },
  {
   "cell_type": "code",
   "execution_count": null,
   "id": "ce4edaa7-9488-41a9-93aa-360f1aeadf13",
   "metadata": {},
   "outputs": [],
   "source": [
    "#sc.pp.filter_genes(adata, min_cells=15)\n",
    "sc.pp.normalize_total(adata, target_sum=1e4)\n",
    "sc.pp.log1p(adata)\n",
    "#sc.pp.highly_variable_genes(adata, min_disp = 0.5)\n",
    "sc.pp.highly_variable_genes(adata, min_disp = 0.5,batch_key='sample',\n",
    "                            #n_top_genes=1000\n",
    "                           )\n",
    "\n",
    "sc.tl.pca(adata)\n",
    "sc.pp.neighbors(adata, n_pcs=6)\n",
    "sc.tl.umap(adata, min_dist = 0.2, negative_sample_rate=0.2)\n",
    "sc.pl.umap(adata, color = ['sample',], frameon=False)"
   ]
  },
  {
   "cell_type": "code",
   "execution_count": null,
   "id": "fb9d8b53-e0b2-483d-8b4c-36389d0d40bc",
   "metadata": {},
   "outputs": [],
   "source": [
    "TF_highly_variable = list(adata.var[adata.var['highly_variable']==True].index)\n"
   ]
  },
  {
   "cell_type": "code",
   "execution_count": null,
   "id": "48c7d583-f04d-427a-82e6-651e40cbe510",
   "metadata": {},
   "outputs": [],
   "source": [
    "ouput_dir = 'h5ad_files/mouse/ecto_andrea/'\n",
    "\n",
    "adata = sc.read(ouput_dir+'ecto_combined_kaucka_all.h5ad')\n",
    "with open('required_files/allTFs_mm.txt') as f:\n",
    "    tf_list = [line.rstrip('\\n') for line in f]\n",
    "import numpy as np\n",
    "adata.var['TF'] = np.where(adata.var.index.isin(tf_list),True,False)\n",
    "adata = adata[:,adata.var['TF']==False].copy()\n",
    "#sc.pp.filter_genes(adata, min_cells=15)\n",
    "sc.pp.normalize_total(adata, target_sum=1e4)\n",
    "sc.pp.log1p(adata)\n",
    "#sc.pp.highly_variable_genes(adata, min_disp = 0.5)\n",
    "sc.pp.highly_variable_genes(adata, min_disp = 0.5,batch_key='sample',\n",
    "                            n_top_genes=500\n",
    "                           )\n",
    "\n",
    "sc.tl.pca(adata)\n",
    "sc.pp.neighbors(adata, n_pcs=6)\n",
    "sc.tl.umap(adata, min_dist = 0.2, negative_sample_rate=0.2)\n",
    "sc.pl.umap(adata, color = ['sample','phase'], frameon=False)\n",
    "\n",
    "rest_highly_variable = list(adata.var[adata.var['highly_variable']==True].index)\n"
   ]
  },
  {
   "cell_type": "code",
   "execution_count": null,
   "id": "3d4242ae-5e7a-4a9b-93fa-63fa9e9b86e6",
   "metadata": {},
   "outputs": [],
   "source": [
    "highly_variable_list = TF_highly_variable+rest_highly_variable"
   ]
  },
  {
   "cell_type": "code",
   "execution_count": null,
   "id": "a28d8b38-94b5-408c-8f8e-2ea9215890fa",
   "metadata": {},
   "outputs": [],
   "source": [
    "len(highly_variable_list)"
   ]
  },
  {
   "cell_type": "code",
   "execution_count": null,
   "id": "7c8eca39-ecb4-4244-b5d7-3a22cbde745c",
   "metadata": {},
   "outputs": [],
   "source": [
    "ouput_dir = 'h5ad_files/mouse/ecto_andrea/'\n",
    "\n",
    "adata = sc.read(ouput_dir+'ecto_combined_kaucka_all.h5ad')\n",
    "adata.var['highly_variable_list'] = np.where(adata.var.index.isin(highly_variable_list),True,False)\n",
    "#sc.pp.filter_genes(adata, min_cells=15)\n",
    "sc.pp.normalize_total(adata, target_sum=1e4)\n",
    "sc.pp.log1p(adata)\n",
    "#sc.pp.highly_variable_genes(adata, min_disp = 0.5)\n",
    "sc.pp.highly_variable_genes(adata, min_disp = 0.5,batch_key='sample',\n",
    "                            #n_top_genes=500\n",
    "                           )\n",
    "\n",
    "sc.tl.pca(adata)\n",
    "sc.pp.neighbors(adata, n_pcs=6)\n",
    "sc.tl.umap(adata, min_dist = 0.2, negative_sample_rate=0.2)\n",
    "sc.pl.umap(adata, color = ['sample','phase'], frameon=False)"
   ]
  },
  {
   "cell_type": "code",
   "execution_count": null,
   "id": "f31472be-0fba-4c5e-8535-689f17b5ed62",
   "metadata": {},
   "outputs": [],
   "source": [
    "adata.var['highly_variable_list'].value_counts()"
   ]
  },
  {
   "cell_type": "code",
   "execution_count": null,
   "id": "fadf4568-fce7-483e-b1fb-b520d8a1569d",
   "metadata": {},
   "outputs": [],
   "source": [
    "##mira stuff\n",
    "model = mira.topics.make_model(\n",
    "    adata.n_obs, adata.n_vars, # helps MIRA choose reasonable values for some hyperparameters which are not tuned.\n",
    "    feature_type = 'expression',\n",
    "    #highly_variable_key='TF',\n",
    "    highly_variable_key = 'highly_variable_list',\n",
    "    counts_layer='original_counts',\n",
    "    categorical_covariates='sample',\n",
    "    continuous_covariates= ['S_score','G2M_score'],\n",
    "    #max_learning_rate = 0.1\n",
    ")"
   ]
  },
  {
   "cell_type": "code",
   "execution_count": null,
   "id": "4417e45a-2a25-4457-aefd-4bf2224a71c4",
   "metadata": {},
   "outputs": [],
   "source": [
    "model.get_learning_rate_bounds(adata)"
   ]
  },
  {
   "cell_type": "code",
   "execution_count": null,
   "id": "6ea1b6ad-215a-44ec-ad0b-638e217656db",
   "metadata": {},
   "outputs": [],
   "source": [
    "model.set_learning_rates(1e-3, 0.1) # for larger datasets, the default of 1e-3, 0.1 usually works well.\n",
    "model.plot_learning_rate_bounds(figsize=(7,3))"
   ]
  },
  {
   "cell_type": "code",
   "execution_count": null,
   "id": "50d5c135-f967-4c28-9bee-45eb91a77065",
   "metadata": {},
   "outputs": [],
   "source": [
    "# ## quick loop to try out some different parameters\n",
    "# from matplotlib.backends.backend_pdf import PdfPages\n",
    "\n",
    "# topics = [8,11,12,14,16,19]\n",
    "# epochs = [50,75,100,125,150]\n",
    "# output_dir = 'figures_ignore/mouse/mm39/mira_integration_tuning/andrea_ecto/'\n",
    "# for topic in topics:\n",
    "#     with PdfPages(output_dir+str(topic)+'_trials.pdf') as pdf:\n",
    "#         for epoch in epochs:\n",
    "#             model = model.set_params(num_topics = topic,num_epochs = epoch).fit(adata)\n",
    "#             model.predict(adata,)\n",
    "#             sc.pp.neighbors(adata, use_rep = 'X_umap_features', metric = 'manhattan',n_neighbors=15)\n",
    "#             sc.tl.umap(adata, )\n",
    "\n",
    "#             plt.rcParams['figure.figsize'] = [5,4]\n",
    "#             ax = sc.pl.umap(adata, color = ['sample','phase','Hesx1','Sox10','Fezf1','Fezf2','Pax9','Shh','Sox2','Pax6','Wnt6'], cmap = reds,ncols = 2, vmin = 0.05, show = False)\n",
    "#             for p in ax:\n",
    "#                 p.set_rasterized(True)\n",
    "#             pdf.savefig(dpi=150,bbox_inches='tight')\n",
    "#             plt.close()"
   ]
  },
  {
   "cell_type": "code",
   "execution_count": null,
   "id": "904410f4-64ec-4f65-8bac-3e7d74b462b4",
   "metadata": {},
   "outputs": [],
   "source": [
    "topic_contributions = mira.topics.gradient_tune(model, adata)"
   ]
  },
  {
   "cell_type": "code",
   "execution_count": null,
   "id": "1d315db4-75fe-4873-a7e9-acd7fe4b4d67",
   "metadata": {},
   "outputs": [],
   "source": [
    "NUM_TOPICS = 20\n",
    "\n",
    "mira.pl.plot_topic_contributions(topic_contributions, NUM_TOPICS)"
   ]
  },
  {
   "cell_type": "code",
   "execution_count": null,
   "id": "cd4421c5-310b-4022-95e2-a9f675d884f9",
   "metadata": {},
   "outputs": [],
   "source": [
    "NUM_TOPICS = 8 #24\n",
    "model = model.set_params(num_topics = NUM_TOPICS,num_epochs = 50).fit(adata)"
   ]
  },
  {
   "cell_type": "code",
   "execution_count": null,
   "id": "fe31fe71-4852-49d1-908b-80955c8d45d3",
   "metadata": {},
   "outputs": [],
   "source": [
    "model.predict(adata,)"
   ]
  },
  {
   "cell_type": "code",
   "execution_count": null,
   "id": "059a7016-46d4-4a57-a6a8-8eaa9226b00b",
   "metadata": {},
   "outputs": [],
   "source": [
    "sc.pp.neighbors(adata, use_rep = 'X_umap_features', metric = 'manhattan',n_neighbors=15)\n",
    "#sc.tl.umap(adata, min_dist=0.1, negative_sample_rate=0.05,)\n",
    "#sc.tl.umap(adata, min_dist=0.3, negative_sample_rate=0.05,n_components =3)\n",
    "sc.tl.umap(adata, )\n",
    "\n"
   ]
  },
  {
   "cell_type": "code",
   "execution_count": null,
   "id": "3b8e1445-045b-4060-a9fd-7f9a7a6f142b",
   "metadata": {},
   "outputs": [],
   "source": [
    "sc.tl.leiden(adata)\n",
    "sc.tl.leiden(adata,resolution = 2, key_added = 'leiden_high')\n"
   ]
  },
  {
   "cell_type": "code",
   "execution_count": null,
   "id": "2b42fc69-cee2-4b60-869a-2df1595fc220",
   "metadata": {},
   "outputs": [],
   "source": [
    "sc.pl.umap(adata, color = ['sample','Emx2'],groups = ['ME8','ME9','ME10'])"
   ]
  },
  {
   "cell_type": "code",
   "execution_count": null,
   "id": "25cc83da-4217-499f-9944-30a3e9077448",
   "metadata": {},
   "outputs": [],
   "source": [
    "sc.pl.umap(adata, color = ['sample','annotation_ecto','leiden','leiden_high','Sox10','phase','Wnt6',\n",
    "                           'Pax6','Sox2','Hesx1','Fezf1','Fezf2','Fgf8','Lhx3','Emx2','Foxg1','Pitx3','Pitx1',\n",
    "                           'Dlx5','Six6','Pitx2'], cmap = reds, vmin = 0.05, ncols = 4)"
   ]
  },
  {
   "cell_type": "code",
   "execution_count": null,
   "id": "3805e306-2fb3-4a40-b7d3-4392fcacb699",
   "metadata": {},
   "outputs": [],
   "source": [
    "sc.pl.umap(adata, color = ['sample','annotation_ecto','Aldh1a3','Casr','Hmx1','Tlx2','Spink1','Pax9','Shh','T','Thrb'],cmap = reds, vmin = 0.05)"
   ]
  },
  {
   "cell_type": "code",
   "execution_count": null,
   "id": "4bbc8485-0101-481c-9064-7e1033c1e1c2",
   "metadata": {},
   "outputs": [],
   "source": [
    "adata.write('h5ad_files/mouse/ecto_andrea/ecto_combined_all_integrated.h5ad')"
   ]
  },
  {
   "cell_type": "code",
   "execution_count": null,
   "id": "655542ca-fe1a-4cb1-a4ce-03aaab251a25",
   "metadata": {},
   "outputs": [],
   "source": []
  }
 ],
 "metadata": {
  "kernelspec": {
   "display_name": "mira_env",
   "language": "python",
   "name": "mira_env"
  },
  "language_info": {
   "codemirror_mode": {
    "name": "ipython",
    "version": 3
   },
   "file_extension": ".py",
   "mimetype": "text/x-python",
   "name": "python",
   "nbconvert_exporter": "python",
   "pygments_lexer": "ipython3",
   "version": "3.11.8"
  }
 },
 "nbformat": 4,
 "nbformat_minor": 5
}
