{
 "cells": [
  {
   "cell_type": "code",
   "execution_count": null,
   "id": "e2326284-898d-44c8-84a8-af9162e7c357",
   "metadata": {},
   "outputs": [],
   "source": [
    "#ensure cuda is working\n",
    "import torch\n",
    "assert torch.cuda.is_available()\n",
    "print(torch.cuda.is_available())\n",
    "print(torch.cuda.device_count())\n",
    "print(torch.cuda.current_device())\n",
    "print(torch.cuda.device(0))\n",
    "print(torch.cuda.get_device_name(0))"
   ]
  },
  {
   "cell_type": "code",
   "execution_count": null,
   "id": "8f6b3cb7-6bf9-4d0a-8345-ed8cc72c0c65",
   "metadata": {},
   "outputs": [],
   "source": [
    "import mira\n",
    "\n",
    "import anndata\n",
    "import scanpy as sc\n",
    "import numpy as np\n",
    "import pandas as pd\n",
    "import scvelo as scv\n",
    "\n",
    "import matplotlib.pyplot as plt\n",
    "plt.rcParams.update({'font.size': 14})\n",
    "import matplotlib\n",
    "import matplotlib as mpl\n",
    "from copy import copy\n",
    "reds = copy(mpl.cm.Reds)\n",
    "reds.set_under(\"lightgray\")\n",
    "\n",
    "import os\n",
    "import sys\n",
    "from pathlib import Path\n",
    "os.environ['R_HOME'] = sys.exec_prefix+\"/lib/R/\"\n",
    "\n",
    "project_directory = '/Cranio_Lab/Louk_Seton/4_species_project'\n",
    "os.chdir(os.path.expanduser(\"~\")+project_directory)"
   ]
  },
  {
   "cell_type": "code",
   "execution_count": null,
   "id": "230d6614-f5e3-4b81-82cf-39b3740f3a72",
   "metadata": {},
   "outputs": [],
   "source": [
    "adata = sc.read('h5ad_files/mouse/ecto_andrea/adata_ecto_ME8_9_10.h5ad')"
   ]
  },
  {
   "cell_type": "code",
   "execution_count": null,
   "id": "d35080ab-b099-48b9-8bf3-4e900e1818f8",
   "metadata": {},
   "outputs": [],
   "source": [
    "with open('required_files/allTFs_mm.txt') as f:\n",
    "    tf_list = [line.rstrip('\\n') for line in f]\n",
    "import numpy as np\n",
    "adata.var['TF'] = np.where(adata.var.index.isin(tf_list),True,False)"
   ]
  },
  {
   "cell_type": "code",
   "execution_count": null,
   "id": "6a84524a-dc21-4894-ad0d-be23ffbb0d9e",
   "metadata": {},
   "outputs": [],
   "source": [
    "adata = adata[:,adata.var['TF']==True].copy()"
   ]
  },
  {
   "cell_type": "code",
   "execution_count": null,
   "id": "e59161ae-8ad1-44cb-b26d-fc6e0ae9f565",
   "metadata": {},
   "outputs": [],
   "source": [
    "#sc.pp.filter_genes(adata, min_cells=15)\n",
    "sc.pp.normalize_total(adata, target_sum=1e4)\n",
    "sc.pp.log1p(adata)\n",
    "#sc.pp.highly_variable_genes(adata, min_disp = 0.5)\n",
    "sc.pp.highly_variable_genes(adata, min_disp = 0.5,batch_key='sample',\n",
    "                            #n_top_genes=1000\n",
    "                           )\n",
    "\n",
    "sc.tl.pca(adata)\n",
    "sc.pp.neighbors(adata, n_pcs=6)\n",
    "sc.tl.umap(adata, min_dist = 0.2, negative_sample_rate=0.2)\n",
    "sc.pl.umap(adata, color = ['sample',], frameon=False)"
   ]
  },
  {
   "cell_type": "code",
   "execution_count": null,
   "id": "10db3e21-190f-4def-9b95-5b1a9abd5207",
   "metadata": {},
   "outputs": [],
   "source": [
    "TF_highly_variable = list(adata.var[adata.var['highly_variable']==True].index)\n"
   ]
  },
  {
   "cell_type": "code",
   "execution_count": null,
   "id": "f2a6fd09-c3c1-41ca-8410-52feb45d4589",
   "metadata": {},
   "outputs": [],
   "source": [
    "ouput_dir = 'h5ad_files/mouse/ecto_andrea/'\n",
    "\n",
    "adata = sc.read(ouput_dir+'adata_ecto_ME8_9_10.h5ad')\n",
    "with open('required_files/allTFs_mm.txt') as f:\n",
    "    tf_list = [line.rstrip('\\n') for line in f]\n",
    "import numpy as np\n",
    "adata.var['TF'] = np.where(adata.var.index.isin(tf_list),True,False)\n",
    "adata = adata[:,adata.var['TF']==False].copy()\n",
    "#sc.pp.filter_genes(adata, min_cells=15)\n",
    "sc.pp.normalize_total(adata, target_sum=1e4)\n",
    "sc.pp.log1p(adata)\n",
    "#sc.pp.highly_variable_genes(adata, min_disp = 0.5)\n",
    "sc.pp.highly_variable_genes(adata, min_disp = 0.5,batch_key='sample',\n",
    "                            n_top_genes=500\n",
    "                           )\n",
    "\n",
    "sc.tl.pca(adata)\n",
    "sc.pp.neighbors(adata, n_pcs=6)\n",
    "sc.tl.umap(adata, min_dist = 0.2, negative_sample_rate=0.2)\n",
    "sc.pl.umap(adata, color = ['sample','phase'], frameon=False)\n",
    "\n",
    "rest_highly_variable = list(adata.var[adata.var['highly_variable']==True].index)\n"
   ]
  },
  {
   "cell_type": "code",
   "execution_count": null,
   "id": "ba07c301-09ef-4347-a996-7900646d0e1e",
   "metadata": {},
   "outputs": [],
   "source": [
    "highly_variable_list = TF_highly_variable+rest_highly_variable"
   ]
  },
  {
   "cell_type": "code",
   "execution_count": null,
   "id": "83535c90-dbfa-4ecc-8656-636c8cf3ba71",
   "metadata": {},
   "outputs": [],
   "source": [
    "len(highly_variable_list)"
   ]
  },
  {
   "cell_type": "code",
   "execution_count": null,
   "id": "24408e50-d9c6-40b6-a8e8-c5dbf31c2a10",
   "metadata": {},
   "outputs": [],
   "source": [
    "ouput_dir = 'h5ad_files/mouse/ecto_andrea/'\n",
    "\n",
    "adata = sc.read(ouput_dir+'adata_ecto_ME8_9_10.h5ad')\n",
    "adata.var['highly_variable_list'] = np.where(adata.var.index.isin(highly_variable_list),True,False)\n",
    "#sc.pp.filter_genes(adata, min_cells=15)\n",
    "sc.pp.normalize_total(adata, target_sum=1e4)\n",
    "sc.pp.log1p(adata)\n",
    "#sc.pp.highly_variable_genes(adata, min_disp = 0.5)\n",
    "sc.pp.highly_variable_genes(adata, min_disp = 0.5,batch_key='sample',\n",
    "                            #n_top_genes=500\n",
    "                           )\n",
    "\n",
    "sc.tl.pca(adata)\n",
    "sc.pp.neighbors(adata, n_pcs=6)\n",
    "sc.tl.umap(adata, min_dist = 0.2, negative_sample_rate=0.2)\n",
    "sc.pl.umap(adata, color = ['sample','phase'], frameon=False)"
   ]
  },
  {
   "cell_type": "code",
   "execution_count": null,
   "id": "db28c332-2031-48ef-ae9f-40cfc70d7ff2",
   "metadata": {},
   "outputs": [],
   "source": [
    "adata.var['highly_variable_list'].value_counts()"
   ]
  },
  {
   "cell_type": "code",
   "execution_count": null,
   "id": "ef17700f-4465-4ed2-994a-084c4299d3af",
   "metadata": {},
   "outputs": [],
   "source": [
    "##mira stuff\n",
    "model = mira.topics.make_model(\n",
    "    adata.n_obs, adata.n_vars, # helps MIRA choose reasonable values for some hyperparameters which are not tuned.\n",
    "    feature_type = 'expression',\n",
    "    #highly_variable_key='TF',\n",
    "    highly_variable_key = 'highly_variable_list',\n",
    "    counts_layer='original_counts',\n",
    "    categorical_covariates='sample',\n",
    "    continuous_covariates= ['S_score','G2M_score'],\n",
    "    #max_learning_rate = 0.1\n",
    ")"
   ]
  },
  {
   "cell_type": "code",
   "execution_count": null,
   "id": "9304ff68-8195-40ce-9a68-b5831f96d26b",
   "metadata": {},
   "outputs": [],
   "source": [
    "model.get_learning_rate_bounds(adata)"
   ]
  },
  {
   "cell_type": "code",
   "execution_count": null,
   "id": "f71d3d8c-b515-45b8-a4d1-45739b3c36d2",
   "metadata": {},
   "outputs": [],
   "source": [
    "model.set_learning_rates(1e-3, 0.1) # for larger datasets, the default of 1e-3, 0.1 usually works well.\n",
    "model.plot_learning_rate_bounds(figsize=(7,3))"
   ]
  },
  {
   "cell_type": "code",
   "execution_count": null,
   "id": "536b3eba-1b61-420e-b94d-c5752675b8e1",
   "metadata": {},
   "outputs": [],
   "source": [
    "## quick loop to try out some different parameters\n",
    "from matplotlib.backends.backend_pdf import PdfPages\n",
    "\n",
    "topics = [4,5,7,10,15,]\n",
    "epochs = [50,75,100,125,150]\n",
    "output_dir = 'figures_ignore/mouse/mm39/mira_integration_tuning/andrea_ecto/ecto_early/'\n",
    "for topic in topics:\n",
    "    with PdfPages(output_dir+str(topic)+'_trials.pdf') as pdf:\n",
    "        for epoch in epochs:\n",
    "            model = model.set_params(num_topics = topic,num_epochs = epoch).fit(adata)\n",
    "            model.predict(adata,)\n",
    "            sc.pp.neighbors(adata, use_rep = 'X_umap_features', metric = 'manhattan',n_neighbors=15)\n",
    "            sc.tl.umap(adata, )\n",
    "\n",
    "            plt.rcParams['figure.figsize'] = [5,4]\n",
    "            ax = sc.pl.umap(adata, color = ['sample','phase','Hmx1','Aldh1a7','Aldh1a3','Pax6','Six1','Hesx1','Sox10','Fezf1','Fezf2','Pax9','Shh','Sox2','Pax6','Wnt6'], cmap = reds,ncols = 2, vmin = 0.05, show = False)\n",
    "            for p in ax:\n",
    "                p.set_rasterized(True)\n",
    "            pdf.savefig(dpi=150,bbox_inches='tight')\n",
    "            plt.close()"
   ]
  },
  {
   "cell_type": "code",
   "execution_count": null,
   "id": "4ca01d7b-0324-467b-9fdd-10c6f6076f5c",
   "metadata": {},
   "outputs": [],
   "source": [
    "topic_contributions = mira.topics.gradient_tune(model, adata)"
   ]
  },
  {
   "cell_type": "code",
   "execution_count": null,
   "id": "d074ca1e-8615-48f5-b01b-40d9773e8d02",
   "metadata": {},
   "outputs": [],
   "source": [
    "NUM_TOPICS = 7\n",
    "\n",
    "mira.pl.plot_topic_contributions(topic_contributions, NUM_TOPICS)"
   ]
  },
  {
   "cell_type": "code",
   "execution_count": null,
   "id": "9415ffec-12a6-4929-a0b4-d7842b2be966",
   "metadata": {},
   "outputs": [],
   "source": [
    "NUM_TOPICS = 10 #24\n",
    "model = model.set_params(num_topics = NUM_TOPICS,num_epochs = 50).fit(adata)"
   ]
  },
  {
   "cell_type": "code",
   "execution_count": null,
   "id": "19ab366e-8f09-4512-9d55-c9dd29ae23a9",
   "metadata": {},
   "outputs": [],
   "source": [
    "model.predict(adata,)"
   ]
  },
  {
   "cell_type": "code",
   "execution_count": null,
   "id": "1046b03b-7a89-4a91-a13d-553d16c61341",
   "metadata": {},
   "outputs": [],
   "source": [
    "sc.pp.neighbors(adata, use_rep = 'X_umap_features', metric = 'manhattan',n_neighbors=15)\n",
    "#sc.tl.umap(adata, min_dist=0.1, negative_sample_rate=0.05,)\n",
    "#sc.tl.umap(adata, min_dist=0.3, negative_sample_rate=0.05,n_components =3)\n",
    "sc.tl.umap(adata, )\n",
    "\n"
   ]
  },
  {
   "cell_type": "code",
   "execution_count": null,
   "id": "e31eb60e-fba3-41fc-976c-6060166a6e5b",
   "metadata": {},
   "outputs": [],
   "source": [
    "sc.tl.leiden(adata)\n",
    "sc.tl.leiden(adata,resolution = 2, key_added = 'leiden_high')\n"
   ]
  },
  {
   "cell_type": "code",
   "execution_count": null,
   "id": "973e1e60-9d8e-4b36-b640-ad149d66d402",
   "metadata": {},
   "outputs": [],
   "source": [
    "sc.pl.umap(adata, color = ['sample','Emx2'],groups = ['ME8','ME9','ME10'])"
   ]
  },
  {
   "cell_type": "code",
   "execution_count": null,
   "id": "dc43006a-dacf-4ffa-ab09-e6cbe762ce22",
   "metadata": {},
   "outputs": [],
   "source": [
    "sc.pl.umap(adata, color = ['sample','Sox10','phase','Wnt6',\n",
    "                           'Pax6','Sox2','Hesx1','Fezf1','Fezf2','Fgf8','Lhx3','Emx2','Foxg1','Pitx3','Pitx1',\n",
    "                           'Dlx5','Six6','Pitx2'], cmap = reds, vmin = 0.05, ncols = 4)"
   ]
  },
  {
   "cell_type": "code",
   "execution_count": null,
   "id": "2afd07b0-21fb-4d19-b13a-5def5089d256",
   "metadata": {},
   "outputs": [],
   "source": [
    "sc.pl.umap(adata, color = ['sample','Aldh1a3','Casr','Neurog1','Hmx1','Tlx2','Spink1','Pax9','Shh','T','Trh'],cmap = reds, vmin = 0.05)"
   ]
  },
  {
   "cell_type": "code",
   "execution_count": null,
   "id": "4d0419a5-a9c9-42d6-bacd-537ef46e3da2",
   "metadata": {},
   "outputs": [],
   "source": [
    "adata.write('h5ad_files/mouse/ecto_andrea/ecto_early_integrated.h5ad')"
   ]
  },
  {
   "cell_type": "code",
   "execution_count": null,
   "id": "519c875e-2712-42ac-8cbf-2b9f67858123",
   "metadata": {},
   "outputs": [],
   "source": []
  },
  {
   "cell_type": "code",
   "execution_count": null,
   "id": "4c7198ed-827f-460e-9afa-577391df6943",
   "metadata": {},
   "outputs": [],
   "source": []
  },
  {
   "cell_type": "code",
   "execution_count": null,
   "id": "0672057c-d7a5-4747-bcc2-0afa8c22f845",
   "metadata": {},
   "outputs": [],
   "source": []
  },
  {
   "cell_type": "code",
   "execution_count": null,
   "id": "7ef1ab36-6e60-417b-aa0e-82368dc8cfe5",
   "metadata": {},
   "outputs": [],
   "source": []
  },
  {
   "cell_type": "code",
   "execution_count": null,
   "id": "17fd21e8-f023-4b8d-aab0-239d7ad22d50",
   "metadata": {},
   "outputs": [],
   "source": []
  }
 ],
 "metadata": {
  "kernelspec": {
   "display_name": "mira_env",
   "language": "python",
   "name": "mira_env"
  },
  "language_info": {
   "codemirror_mode": {
    "name": "ipython",
    "version": 3
   },
   "file_extension": ".py",
   "mimetype": "text/x-python",
   "name": "python",
   "nbconvert_exporter": "python",
   "pygments_lexer": "ipython3",
   "version": "3.11.8"
  }
 },
 "nbformat": 4,
 "nbformat_minor": 5
}
