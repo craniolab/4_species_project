{
 "cells": [
  {
   "cell_type": "code",
   "execution_count": null,
   "id": "840d67c4-e619-4447-aad7-283f64366378",
   "metadata": {},
   "outputs": [],
   "source": [
    "import logging\n",
    "logging.getLogger('matplotlib.font_manager').setLevel(logging.ERROR)\n",
    "import scanpy as sc\n",
    "import anndata as ad\n",
    "import scvelo as scv\n",
    "import scvi\n",
    "import seaborn as sns\n",
    "import plotly.express as px\n",
    "import numpy as np\n",
    "from dash import Dash, dcc, html, Input, Output\n",
    "\n",
    "import pandas as pd\n",
    "import warnings\n",
    "import os\n",
    "import sys\n",
    "import time\n",
    "import gc\n",
    "os.environ['R_HOME'] = sys.exec_prefix+\"/lib/R/\"\n",
    "\n",
    "# Plotting\n",
    "import matplotlib\n",
    "import matplotlib.pyplot as plt\n",
    "import matplotlib as mpl\n",
    "from matplotlib.backends.backend_pdf import PdfPages\n",
    "from matplotlib.colors import LinearSegmentedColormap, ListedColormap\n",
    "from matplotlib.lines import Line2D \n",
    "\n",
    "from copy import copy\n",
    "reds = copy(mpl.cm.Reds)\n",
    "reds.set_under(\"lightgray\")\n",
    "\n",
    "project_directory = '/Cranio_Lab/Louk_Seton/4_species_project'\n",
    "os.chdir(os.path.expanduser(\"~\")+project_directory)"
   ]
  },
  {
   "cell_type": "code",
   "execution_count": null,
   "id": "147a43ed-8524-4bb6-93d7-e37de556b94a",
   "metadata": {},
   "outputs": [],
   "source": [
    "ouput_dir = 'h5ad_files/mouse/ecto_andrea/'\n",
    "\n",
    "adata = sc.read(ouput_dir+'ecto_combined_kaucka_all.h5ad')"
   ]
  },
  {
   "cell_type": "code",
   "execution_count": null,
   "id": "6c807563-6f6e-410e-9bba-f84ee4784a45",
   "metadata": {},
   "outputs": [],
   "source": [
    "adata = adata[adata.obs['sample'].isin(['10','11','12','13','14'])].copy()"
   ]
  },
  {
   "cell_type": "code",
   "execution_count": null,
   "id": "0b4c90a6-88fe-4f5b-bf24-b1cc08d1dc8e",
   "metadata": {},
   "outputs": [],
   "source": [
    "adata.X = adata.layers['original_counts'].copy()\n",
    "sc.pp.normalize_total(adata) # Normalizing to median total counts\n",
    "sc.pp.log1p(adata) # Logarithmize the data\n",
    "adata.layers[\"normalized_counts\"] = adata.X.copy()\n",
    "\n",
    "##highly variable genes\n",
    "sc.pp.highly_variable_genes(adata, n_top_genes=300,batch_key = 'sample')\n",
    "\n",
    "##dimensionality reduction and clustering\n",
    "sc.tl.pca(adata)\n",
    "sc.pl.pca_variance_ratio(adata,log = True)\n"
   ]
  },
  {
   "cell_type": "code",
   "execution_count": null,
   "id": "09179979-076d-4945-80b5-cb0ccbe3b466",
   "metadata": {},
   "outputs": [],
   "source": [
    "sc.pp.neighbors(adata,n_pcs = 8)\n",
    "sc.tl.umap(adata)\n",
    "sc.tl.leiden(adata,resolution = 1.2, key_added = 'leiden_post_QC')\n",
    "\n",
    "sc.pl.umap(adata,color = ['sample','phase','leiden_post_QC',\n",
    "                         ], ncols = 3, size = 50,legend_loc = 'on data',\n",
    "           \n",
    "           cmap = reds, vmin = 0.05)"
   ]
  },
  {
   "cell_type": "code",
   "execution_count": null,
   "id": "743cfc1c-4f0d-44b3-8711-e9b943c6aa52",
   "metadata": {},
   "outputs": [],
   "source": [
    "sc.pl.umap(adata,color = ['phase','Bard1',\n",
    "                         ], ncols = 3, size = 50,legend_loc = 'on data',\n",
    "           \n",
    "           cmap = reds, vmin = 0.05)"
   ]
  },
  {
   "cell_type": "code",
   "execution_count": null,
   "id": "3628fe71-a097-4eae-9203-4b183d0a6697",
   "metadata": {},
   "outputs": [],
   "source": [
    "sc.pl.pca(adata,color = 'phase',components = '3,4',)"
   ]
  },
  {
   "cell_type": "code",
   "execution_count": null,
   "id": "514f146a-c076-4a4f-92ad-fcb0d0ad2dea",
   "metadata": {},
   "outputs": [],
   "source": [
    "sc.pl.pca_loadings(adata, components='3,4')"
   ]
  },
  {
   "cell_type": "code",
   "execution_count": null,
   "id": "fd650432-cf71-466c-b433-504a03e2e33f",
   "metadata": {},
   "outputs": [],
   "source": [
    "adata.X = adata.layers['original_counts'].copy()\n",
    "sc.pp.normalize_total(adata) # Normalizing to median total counts\n",
    "sc.pp.log1p(adata) # Logarithmize the data\n",
    "adata.layers[\"normalized_counts\"] = adata.X.copy()"
   ]
  },
  {
   "cell_type": "code",
   "execution_count": null,
   "id": "a196d660-8427-410f-bb05-0f72515d06b1",
   "metadata": {},
   "outputs": [],
   "source": [
    "sc.tl.rank_genes_groups(adata,groupby='phase',method='wilcoxon')\n",
    "sc.tl.dendrogram(adata,groupby='phase')\n",
    "sc.pl.rank_genes_groups_dotplot(adata,\n",
    "                                groups = ['G2M','S'],\n",
    "                                n_genes = 30, values_to_plot = 'logfoldchanges',\n",
    "                                cmap='bwr',vmin=-4,vmax=4,min_logfoldchange = 2)"
   ]
  },
  {
   "cell_type": "code",
   "execution_count": null,
   "id": "fb437b3b-28b7-439e-bc0d-bb827d576282",
   "metadata": {},
   "outputs": [],
   "source": [
    "cell_cycle_df = sc.get.rank_genes_groups_df(adata, group = None)\n",
    "cell_cycle_df = cell_cycle_df[cell_cycle_df['group'].isin(['G2M','S',])]\n",
    "cell_cycle_df = cell_cycle_df[cell_cycle_df['logfoldchanges']>1.5]\n",
    "cell_cycle_df = cell_cycle_df[cell_cycle_df['scores']>5]\n",
    "cell_cycle_df"
   ]
  },
  {
   "cell_type": "code",
   "execution_count": null,
   "id": "79ce40e8-7798-4057-980b-7c2ab73b1adf",
   "metadata": {},
   "outputs": [],
   "source": [
    "import seaborn as sns\n",
    "sns.jointplot(data=cell_cycle_df, x=\"scores\", y=\"logfoldchanges\",marginal_kws=dict(bins=40))"
   ]
  },
  {
   "cell_type": "code",
   "execution_count": null,
   "id": "24e0ff50-50c1-480c-82be-0ecf66266537",
   "metadata": {},
   "outputs": [],
   "source": [
    "#DEG between two clusters\n",
    "cluster_of_interest = 'G2M'\n",
    "reference_cluster = 'G1'\n",
    "cat_name = 'phase'\n",
    "sc.set_figure_params(dpi=50,figsize=[6,4])\n",
    "\n",
    "sc.tl.rank_genes_groups(adata, cat_name, groups=[cluster_of_interest], reference=reference_cluster, method='wilcoxon')\n",
    "df = sc.get.rank_genes_groups_df(adata, group=None,)\n",
    "df = df[df['logfoldchanges']>1]\n",
    "sc.tl.rank_genes_groups(adata, groupby = 'phase', method = 'wilcoxon')\n",
    "sc.pl.rank_genes_groups_dotplot(adata,var_names = list(df['names'].head(50)),dendrogram=True,\n",
    "             values_to_plot=\"logfoldchanges\", cmap='bwr',\n",
    "    vmin=-4,\n",
    "    vmax=4,)\n"
   ]
  },
  {
   "cell_type": "code",
   "execution_count": null,
   "id": "75c0663b-e729-420c-a2b4-89c30b797fae",
   "metadata": {},
   "outputs": [],
   "source": [
    "#DEG between two clusters\n",
    "cluster_of_interest = 'S'\n",
    "reference_cluster = 'G1'\n",
    "cat_name = 'phase'\n",
    "sc.set_figure_params(dpi=50,figsize=[6,4])\n",
    "\n",
    "sc.tl.rank_genes_groups(adata, cat_name, groups=[cluster_of_interest], reference=reference_cluster, method='wilcoxon')\n",
    "df = sc.get.rank_genes_groups_df(adata, group=None,)\n",
    "df = df[df['logfoldchanges']>1]\n",
    "sc.tl.rank_genes_groups(adata, groupby = 'phase', method = 'wilcoxon')\n",
    "sc.pl.rank_genes_groups_dotplot(adata,var_names = list(df['names'].head(50)),dendrogram=True,\n",
    "             values_to_plot=\"logfoldchanges\", cmap='bwr',\n",
    "    vmin=-4,\n",
    "    vmax=4,)\n"
   ]
  },
  {
   "cell_type": "code",
   "execution_count": null,
   "id": "779c4a72-47e6-49a0-b5fb-39e1848e5763",
   "metadata": {},
   "outputs": [],
   "source": [
    "from sklearn.metrics import r2_score\n",
    "gene = 'Ung'\n",
    "r2_score(adata[:,gene][adata[:,gene].X>0].X.toarray().flatten(), adata[:,gene][adata[:,gene].X>0].obs['S_score'])"
   ]
  },
  {
   "cell_type": "code",
   "execution_count": null,
   "id": "ef88ec88-02e0-40cf-be74-42a9a5fb4aea",
   "metadata": {},
   "outputs": [],
   "source": [
    "test = {'S_r2':[],'G2M_r2':[]}"
   ]
  },
  {
   "cell_type": "code",
   "execution_count": null,
   "id": "55f78307-020c-4136-9c44-c375731e2229",
   "metadata": {},
   "outputs": [],
   "source": [
    "['2','5']+['3']"
   ]
  },
  {
   "cell_type": "code",
   "execution_count": null,
   "id": "248d8745-a5cd-4344-ad3c-22ee4a8be34d",
   "metadata": {
    "jupyter": {
     "outputs_hidden": true
    }
   },
   "outputs": [],
   "source": [
    "from sklearn.linear_model import LinearRegression\n",
    "\n",
    "r2_dict = {'S_score':[],'G2M_score':[]}\n",
    "for gene in list(adata.var.index):\n",
    "    for phase in ['S_score','G2M_score']:\n",
    "        X = adata[:,gene].X.toarray()\n",
    "        y = adata[:,gene].obs[phase]\n",
    "        reg = LinearRegression().fit(X, y)\n",
    "        r2_dict[phase] = r2_dict[phase]+[reg.score(X, y)]\n",
    "\n",
    "r2_dict"
   ]
  },
  {
   "cell_type": "code",
   "execution_count": null,
   "id": "2809ba43-597e-404c-afea-4ed53a2474d7",
   "metadata": {},
   "outputs": [],
   "source": [
    "len([i for i in r2_dict['G2M_score'] if i >.1])"
   ]
  },
  {
   "cell_type": "code",
   "execution_count": null,
   "id": "02e1d7f8-febe-471e-a3e6-138548e79256",
   "metadata": {},
   "outputs": [],
   "source": [
    "r2_dict['S_score']\n",
    "sns.histplot([i for i in r2_dict['G2M_score'] if i >.1],bins = 30)"
   ]
  },
  {
   "cell_type": "code",
   "execution_count": null,
   "id": "3cabf309-72e4-41df-acf5-7382b4318ca4",
   "metadata": {},
   "outputs": [],
   "source": [
    "##do linear regression for genes and obs variable\n",
    "#mostly made this to identify other cell cycle genes\n",
    "from sklearn.linear_model import LinearRegression\n",
    "def do_reg(gene,variable):\n",
    "    X = adata[:,gene].X.toarray() #get the gene expression value\n",
    "    y = adata[:,gene].obs[variable] #get the variable obs value\n",
    "    reg = LinearRegression().fit(X, y) #fit linear regression for gene expression and variable value\n",
    "    #return (variable, gene, reg.score(X, y))\n",
    "    return reg.score(X, y) #return the r2 score of the linear regression\n",
    "\n",
    "#now parallelize the function\n",
    "from multiprocessing import Pool\n",
    "import itertools\n",
    "\n",
    "def do_reg_parallel(gene_list,variable,n_threads): #supply the function with a list of genes and a column in adata.obs with your variable you want to fit gene expression to\n",
    "    with Pool(n_threads) as p:\n",
    "        return p.starmap(do_reg, #use starmap to be able to call both vars required for the do_reg function\n",
    "                         zip(gene_list, #list of genes\n",
    "                             itertools.repeat(variable) #repeat the column name for each gene\n",
    "                            ))\n",
    "        p.close()\n",
    "        # wait for all tasks to complete\n",
    "        p.join()"
   ]
  },
  {
   "cell_type": "code",
   "execution_count": null,
   "id": "c3dd6497-7322-4913-bfe8-8b53ccdc542a",
   "metadata": {},
   "outputs": [],
   "source": [
    "for var in ['G2M_score','S_score']:\n",
    "    adata.var[var] = do_reg_parallel(adata.var.index,var,50)\n"
   ]
  },
  {
   "cell_type": "code",
   "execution_count": null,
   "id": "d6e08006-f50b-418e-8963-275288ac1d22",
   "metadata": {},
   "outputs": [],
   "source": [
    "adata[:,'Top2a'].X.toarray()"
   ]
  },
  {
   "cell_type": "code",
   "execution_count": null,
   "id": "ce9b5a5c-1378-4dec-a1c3-5c3dff284f2e",
   "metadata": {},
   "outputs": [],
   "source": [
    "gc.collect()"
   ]
  },
  {
   "cell_type": "code",
   "execution_count": null,
   "id": "cb26e567-521b-48c3-8f95-e096a2506b7b",
   "metadata": {},
   "outputs": [],
   "source": []
  },
  {
   "cell_type": "code",
   "execution_count": null,
   "id": "8c39e187-5de6-4da1-86a0-3d63ce1973e6",
   "metadata": {},
   "outputs": [],
   "source": [
    "gene = 'Ptn'\n",
    "\n",
    "from sklearn.linear_model import LinearRegression\n",
    "X = adata[:,gene].X.toarray()\n",
    "y = adata[:,gene].obs['S_score']\n",
    "reg = LinearRegression().fit(X, y)\n",
    "reg.score(X, y)"
   ]
  },
  {
   "cell_type": "code",
   "execution_count": null,
   "id": "128fbd56-a049-4376-9cfd-6d3cb534c2d2",
   "metadata": {},
   "outputs": [],
   "source": [
    "adata[:,'Ung'].X\n",
    "adata[:,'Ung']"
   ]
  },
  {
   "cell_type": "code",
   "execution_count": null,
   "id": "6db4b01e-49e4-4e6b-a4d0-d16c58ee860d",
   "metadata": {},
   "outputs": [],
   "source": [
    "sns.jointplot(x=adata[:,gene][adata[:,gene].X>0].X.toarray().flatten(), y=adata[:,gene][adata[:,gene].X>0].obs['S_score'],marginal_kws=dict(bins=40))"
   ]
  },
  {
   "cell_type": "code",
   "execution_count": null,
   "id": "f8fe53f2-ca30-4b16-a228-654ee3e38866",
   "metadata": {},
   "outputs": [],
   "source": []
  },
  {
   "cell_type": "code",
   "execution_count": null,
   "id": "be411a67-e8ef-46e6-b6c7-0b9d11442491",
   "metadata": {},
   "outputs": [],
   "source": [
    "\n",
    "sc.pl.umap(adata,color = [\n",
    "                          'leiden_post_QC',\n",
    "                         ], ncols = 3, size = 50,legend_loc = 'on data',\n",
    "           groups = ['0','5','6','7','8','13','14','15','16','18','20'],\n",
    "           \n",
    "           cmap = reds, vmin = 0.05)"
   ]
  },
  {
   "cell_type": "code",
   "execution_count": null,
   "id": "b0db0159-a08f-4812-968c-886909f2077e",
   "metadata": {},
   "outputs": [],
   "source": [
    "sc.tl.rank_genes_groups(adata,groupby='leiden_post_QC',method='wilcoxon')\n",
    "sc.tl.dendrogram(adata,groupby='leiden_post_QC')\n",
    "sc.pl.rank_genes_groups_dotplot(adata,\n",
    "                                groups = ['20',],\n",
    "                                n_genes = 30, values_to_plot = 'logfoldchanges',\n",
    "                                cmap='bwr',vmin=-4,vmax=4,min_logfoldchange = 2)"
   ]
  },
  {
   "cell_type": "code",
   "execution_count": null,
   "id": "d17337fa-a70d-44ec-baa2-a82cddab4cfb",
   "metadata": {},
   "outputs": [],
   "source": [
    "adata.X = adata.layers['original_counts'].copy()\n",
    "adata = adata[adata.obs['leiden_post_QC'].isin(['0','5','6','7','8','13','14','15','16','18','20'])].copy()\n",
    "adata.write('h5ad_files/mouse/ecto_andrea/ecto_nasal_placode_derived_2023.h5ad')"
   ]
  },
  {
   "cell_type": "code",
   "execution_count": null,
   "id": "d8b1ad69-cc6d-4c67-8b56-e1a2af6f3212",
   "metadata": {},
   "outputs": [],
   "source": []
  }
 ],
 "metadata": {
  "kernelspec": {
   "display_name": "scanpy_2025",
   "language": "python",
   "name": "scanpy_2025"
  },
  "language_info": {
   "codemirror_mode": {
    "name": "ipython",
    "version": 3
   },
   "file_extension": ".py",
   "mimetype": "text/x-python",
   "name": "python",
   "nbconvert_exporter": "python",
   "pygments_lexer": "ipython3",
   "version": "3.11.11"
  }
 },
 "nbformat": 4,
 "nbformat_minor": 5
}
