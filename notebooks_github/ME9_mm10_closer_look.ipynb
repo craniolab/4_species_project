{
 "cells": [
  {
   "cell_type": "markdown",
   "id": "0ff59eca-685f-4cc0-965a-f478b2cf94b9",
   "metadata": {},
   "source": [
    "## ME9 closer look\n",
    "At first I thought there was a beautiful transition from neural crest to mesenchyme in this sample. But the more I look at it the more I feel that it is false.  \n",
    "There are two ectomesenchymal clusters here, one Alx positive and the other Dlx. They connect both to a Sox10 cluster.   \n",
    "However, the markers in the Sox10 cluster lead me to believe that these cells are already predisposed to becoming Glia.  \n",
    "The actual mesenchymal clusters instead coming from the previous stage. Sadly it seems that the exact moment that these cells transition to mesenchyme hasn't been captured.  \n",
    "![](../markdown_images/mouse/mm10/markdown_plots/ME9_closer_umap.png)  \n",
    "\n"
   ]
  },
  {
   "cell_type": "code",
   "execution_count": null,
   "id": "0a10237f-1ccb-42f6-b658-9a161eb1893f",
   "metadata": {},
   "outputs": [],
   "source": [
    "import logging\n",
    "logging.getLogger('matplotlib.font_manager').setLevel(logging.ERROR)\n",
    "import scanpy as sc\n",
    "import anndata as ad\n",
    "import scvelo as scv\n",
    "import scvi\n",
    "import seaborn as sns\n",
    "import plotly.express as px\n",
    "import numpy as np\n",
    "from dash import Dash, dcc, html, Input, Output\n",
    "\n",
    "import pandas as pd\n",
    "\n",
    "import os\n",
    "import sys\n",
    "import time\n",
    "import gc\n",
    "os.environ['R_HOME'] = sys.exec_prefix+\"/lib/R/\"\n",
    "\n",
    "# Plotting\n",
    "import matplotlib\n",
    "import matplotlib.pyplot as plt\n",
    "import matplotlib as mpl\n",
    "from matplotlib.backends.backend_pdf import PdfPages\n",
    "from matplotlib.colors import LinearSegmentedColormap, ListedColormap\n",
    "from matplotlib.lines import Line2D \n",
    "\n",
    "from copy import copy\n",
    "reds = copy(mpl.cm.Reds)\n",
    "reds.set_under(\"lightgray\")\n",
    "\n",
    "project_directory = '/Cranio_Lab/Louk_Seton/4_species_project'\n",
    "os.chdir(os.path.expanduser(\"~\")+project_directory)"
   ]
  },
  {
   "cell_type": "code",
   "execution_count": null,
   "id": "8ceaea7c-e6b7-4815-bb56-1fa754aa377b",
   "metadata": {},
   "outputs": [],
   "source": [
    "##mouse mm10\n",
    "start_time=time.strftime(\"%Y_%m_%d-%I_%M_%S_%p\")\n",
    "print('start time:',start_time)\n",
    "\n",
    "sample_names = 'ME9' #specify the sample names\n",
    "species = 'mouse' #specify the species\n",
    "genome = 'mm10' #specify the genome\n",
    "output_prefix = 'h5ad_files/' #specify the location of the cellranger output\n",
    "adata = sc.read(output_prefix+species+'/'+genome+'/'+sample_names+'_after_filtering.h5ad')"
   ]
  },
  {
   "cell_type": "code",
   "execution_count": null,
   "id": "01a15a3b-1fa2-431e-b845-8251704385b4",
   "metadata": {},
   "outputs": [],
   "source": [
    "## code for any markdown figures ##\n",
    "output_dir = 'markdown_images/'+species+'/'+genome+'/markdown_plots/'\n",
    "!mkdir -p {output_dir}\n",
    "\n",
    "i='ME9_closer'\n",
    "plt.rcParams['figure.figsize'] = [4,3]\n",
    "ax = sc.pl.umap(adata, color = ['Sox10','leiden_post_QC','Dlx2','Dlx1','Alx3','Tfap2b','Plp1','Insc'], cmap = reds, vmin = 0.05,ncols = 2,show = False)\n",
    "plt.savefig(output_dir+i+'_umap.png', dpi = 80,bbox_inches='tight')\n",
    "plt.close()"
   ]
  },
  {
   "cell_type": "code",
   "execution_count": null,
   "id": "a9e9611c-46d5-41b8-bb90-1bcac4866e17",
   "metadata": {},
   "outputs": [],
   "source": [
    "adata.obs['leiden_mesen'] = list(adata.obs['leiden_post_QC'])\n",
    "adata.obs.loc[adata.obs['leiden_mesen'].isin(['12','11','5','17']), 'leiden_mesen'] = \"mesen\""
   ]
  },
  {
   "cell_type": "code",
   "execution_count": null,
   "id": "2b537d3e-2ce3-4616-99fb-e2d3fd575bea",
   "metadata": {},
   "outputs": [],
   "source": [
    "adata.obsm['X_umap'][:, 0]"
   ]
  },
  {
   "cell_type": "code",
   "execution_count": null,
   "id": "71d99be0-4433-47f8-a87d-2f62e3498d4a",
   "metadata": {},
   "outputs": [],
   "source": [
    "dict(zip(list(adata.obs['leiden_post_QC'].cat.categories), adata.uns['leiden_post_QC_colors']))"
   ]
  },
  {
   "cell_type": "code",
   "execution_count": null,
   "id": "51b1fc79-ac62-4029-90cd-4471cf5e89eb",
   "metadata": {},
   "outputs": [],
   "source": [
    "category2 = 'leiden_lowres'\n",
    "\n",
    "colordict2 = dict(zip(list(adata.obs[category2].cat.categories), adata.uns[category2+'_colors']))\n",
    "\n",
    "plt.scatter(adata.obsm['X_umap'][:, 0],adata.obsm['X_umap'][:, 1],\n",
    "            c=adata.obs[category2].map(colordict2),\n",
    "            s=200,\n",
    "                      )\n",
    "\n",
    "plt.scatter(adata.obsm['X_umap'][:, 0],adata.obsm['X_umap'][:, 1],\n",
    "            c='white',\n",
    "            s=60,\n",
    "                      )\n",
    "\n",
    "category = 'leiden_post_QC'\n",
    "\n",
    "colordict = dict(zip(list(adata.obs[category].cat.categories), adata.uns[category+'_colors']))\n",
    "\n",
    "plt.scatter(adata.obsm['X_umap'][:, 0],adata.obsm['X_umap'][:, 1],\n",
    "            c=adata.obs[category].map(colordict),\n",
    "            s=2,\n",
    "                      )\n",
    "handles = [Line2D([0], [0], marker='o', color='w', markerfacecolor=v, label=k, markersize=8) for k, v in colordict.items()]\n",
    "plt.legend(handles=handles, bbox_to_anchor=(1.05, 1), loc='upper left',ncol=3)\n",
    "plt.xticks([], [])\n",
    "plt.yticks([], [])\n",
    "plt.xlabel(\"UMAP1\")\n",
    "plt.ylabel(\"UMAP2\")\n",
    "plt.title(category)"
   ]
  },
  {
   "cell_type": "code",
   "execution_count": null,
   "id": "7a08b2db-fb8a-45d1-8bd7-f5694ac591b4",
   "metadata": {},
   "outputs": [],
   "source": [
    "sc.tl.leiden(adata,resolution = .1, key_added = 'leiden_lowres')\n",
    "sc.pl.umap(adata, color = 'leiden_lowres')"
   ]
  },
  {
   "cell_type": "code",
   "execution_count": null,
   "id": "9355663d-4a87-4da7-b97e-8a7dc35d610b",
   "metadata": {},
   "outputs": [],
   "source": [
    "sc.tl.rank_genes_groups(adata, 'leiden_lowres', groups=['0'], reference='1', method='wilcoxon')\n",
    "gene_df = sc.get.rank_genes_groups_df(adata,group = None)\n",
    "gene_df = gene_df[gene_df['logfoldchanges']>2]\n",
    "gene_df = gene_df[gene_df['scores']>5]\n",
    "gene_df"
   ]
  },
  {
   "cell_type": "code",
   "execution_count": null,
   "id": "851e6aca-e409-4e7d-9e6b-ba5ecae30aaa",
   "metadata": {},
   "outputs": [],
   "source": [
    "sc.pl.umap(adata, color = ['Irx2','En1','Fgf18','Wnt1','Otx2','Hoxa2','Hoxb2','Hoxb1','Hoxa3','Foxg1','Pax5','Cyp26b1','Cyp26a1','Cyp26c1','Egr2'], cmap = reds, vmin = 0.05)"
   ]
  },
  {
   "cell_type": "code",
   "execution_count": null,
   "id": "a801b587-f85b-4f90-8ec2-6d074bc9a42a",
   "metadata": {},
   "outputs": [],
   "source": [
    "sc.tl.rank_genes_groups(adata, 'leiden_lowres', method='wilcoxon',)\n",
    "gene_df = sc.get.rank_genes_groups_df(adata,group = None)\n",
    "gene_df = gene_df[gene_df['logfoldchanges']>3]\n",
    "gene_df = gene_df[gene_df['scores']>5]\n",
    "gene_df"
   ]
  },
  {
   "cell_type": "code",
   "execution_count": null,
   "id": "b625863f-0a0a-4f85-93f1-9009681f4a4e",
   "metadata": {},
   "outputs": [],
   "source": [
    "top5 = []\n",
    "for cluster in list(gene_df['group'].cat.categories):\n",
    "    top5 = top5 + list(gene_df[gene_df['group']==cluster].head(5).names)\n",
    "\n",
    "sc.pl.umap(adata, color = top5, cmap = reds, vmin = 0.05, ncols = 3)"
   ]
  },
  {
   "cell_type": "code",
   "execution_count": null,
   "id": "a1b62704-8800-4d77-beff-da5bd9d38f8e",
   "metadata": {},
   "outputs": [],
   "source": [
    "sc.pl.umap(adata, color = ['Sox10','leiden_post_QC','Tfap2b','leiden_mesen','Alx3','Dlx2','Grrp1','Pax7','Car4','Insc'],cmap = reds, vmin = 0.05, ncols = 2)"
   ]
  },
  {
   "cell_type": "code",
   "execution_count": null,
   "id": "c7f6143f-fc21-4abb-b4dd-9f75e34ebbfc",
   "metadata": {},
   "outputs": [],
   "source": [
    "sc.tl.rank_genes_groups(adata, 'leiden_post_QC', method='wilcoxon',)"
   ]
  },
  {
   "cell_type": "code",
   "execution_count": null,
   "id": "8c2aba49-bf2b-4b0b-8b73-9e877e99e4a2",
   "metadata": {},
   "outputs": [],
   "source": [
    "gene_df = sc.get.rank_genes_groups_df(adata,group = '24')\n"
   ]
  },
  {
   "cell_type": "code",
   "execution_count": null,
   "id": "01696e9e-397d-4f49-9f61-f6e4a9f5005d",
   "metadata": {},
   "outputs": [],
   "source": [
    "gene_df = gene_df[gene_df['logfoldchanges']>5]\n",
    "gene_df = gene_df[gene_df['scores']>5]\n",
    "gene_df"
   ]
  },
  {
   "cell_type": "code",
   "execution_count": null,
   "id": "57909a19-1a0f-4514-8aa9-8f34e5542387",
   "metadata": {},
   "outputs": [],
   "source": [
    "sc.pl.umap(adata, color = ['Pax2','Pax8'], cmap = reds, vmin = 0.05, ncols = 3)"
   ]
  },
  {
   "cell_type": "code",
   "execution_count": null,
   "id": "dc51ff7f-0588-4cd3-8dbb-1d2e3a642696",
   "metadata": {},
   "outputs": [],
   "source": [
    "plt.rcParams['figure.figsize'] = [5,4]\n",
    "sc.pl.umap(adata, color = gene_df.head(30).names, cmap = reds, vmin = 0.05, ncols = 3)"
   ]
  },
  {
   "cell_type": "code",
   "execution_count": null,
   "id": "c7f0c853-91e6-4217-a3d0-52b7f13f1251",
   "metadata": {},
   "outputs": [],
   "source": [
    "sc.tl.rank_genes_groups(adata, 'leiden_mesen', groups=['mesen'], reference='3', method='wilcoxon')"
   ]
  },
  {
   "cell_type": "code",
   "execution_count": null,
   "id": "7207ed0a-0395-4ca0-9840-a1b2519fc697",
   "metadata": {},
   "outputs": [],
   "source": [
    "gene_df = sc.get.rank_genes_groups_df(adata,group = None)\n",
    "gene_df = gene_df[gene_df['logfoldchanges']>2]\n",
    "gene_df = gene_df[gene_df['scores']>8]\n",
    "gene_df"
   ]
  },
  {
   "cell_type": "code",
   "execution_count": null,
   "id": "282aff21-068f-478b-8449-da8296f0cd73",
   "metadata": {},
   "outputs": [],
   "source": [
    "plt.rcParams['figure.figsize'] = [5,4]\n",
    "sc.pl.umap(adata, color = gene_df.head(30).names, cmap = reds, vmin = 0.05, ncols = 3)"
   ]
  },
  {
   "cell_type": "code",
   "execution_count": null,
   "id": "ef4a776c-0101-4b10-b98c-1afe4be9ca34",
   "metadata": {},
   "outputs": [],
   "source": []
  }
 ],
 "metadata": {
  "kernelspec": {
   "display_name": "scanpy_2025",
   "language": "python",
   "name": "scanpy_2025"
  },
  "language_info": {
   "codemirror_mode": {
    "name": "ipython",
    "version": 3
   },
   "file_extension": ".py",
   "mimetype": "text/x-python",
   "name": "python",
   "nbconvert_exporter": "python",
   "pygments_lexer": "ipython3",
   "version": "3.11.11"
  }
 },
 "nbformat": 4,
 "nbformat_minor": 5
}
