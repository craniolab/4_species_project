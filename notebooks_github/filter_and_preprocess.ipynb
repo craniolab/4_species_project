{
 "cells": [
  {
   "cell_type": "code",
   "execution_count": null,
   "id": "f2b11fab-44ce-4100-b7f4-aa28689364e6",
   "metadata": {},
   "outputs": [],
   "source": [
    "import logging\n",
    "logging.getLogger('matplotlib.font_manager').setLevel(logging.ERROR)\n",
    "import scanpy as sc\n",
    "import scvelo as scv\n",
    "import scvi\n",
    "import plotly.express as px\n",
    "import numpy as np\n",
    "from dash import Dash, dcc, html, Input, Output\n",
    "\n",
    "import pandas as pd\n",
    "\n",
    "import os\n",
    "import sys\n",
    "import time\n",
    "os.environ['R_HOME'] = sys.exec_prefix+\"/lib/R/\"\n",
    "\n",
    "# Plotting\n",
    "import matplotlib\n",
    "import matplotlib.pyplot as plt\n",
    "import matplotlib as mpl\n",
    "\n",
    "project_directory = '/Cranio_Lab/Louk_Seton/4_species_project'\n",
    "os.chdir(os.path.expanduser(\"~\")+project_directory)"
   ]
  },
  {
   "cell_type": "code",
   "execution_count": null,
   "id": "cbb1cd63-6fbf-4587-890d-beb22fae5d94",
   "metadata": {},
   "outputs": [],
   "source": [
    "######Mouse mm10######\n",
    "start_time=time.strftime(\"%Y_%m_%d-%I_%M_%S_%p\")\n",
    "print('start time:',start_time)\n",
    "\n",
    "sample_names = ['ME8','ME9','ME10','ME11','ME12'] #specify the sample names\n",
    "species = 'mouse' #specify the species\n",
    "genome = 'mm10' #specify the genome\n",
    "output_prefix = 'cellranger_related/cellranger_output/sc_rnaseq/' #specify the location of the cellranger output\n",
    "\n",
    "cellranger_locs = []\n",
    "velocyto_locs = []\n",
    "\n",
    "for sample in sample_names: #simple loop to create a list with the location of the required files\n",
    "    cellranger_locs = cellranger_locs + [output_prefix+species+'/'+genome+'/'+sample+'/outs/filtered_feature_bc_matrix/']\n",
    "    velocyto_locs = velocyto_locs + [output_prefix+species+'/'+genome+'/'+sample+'/velocyto/'+sample+'.loom']\n",
    "\n",
    "adata_files={}\n",
    "adata_list=[]\n",
    "print(time.strftime(\"%Y_%m_%d-%I_%M_%S_%p\"),'Reading file(s)')\n",
    "for i,j,k in zip(sample_names, cellranger_locs, velocyto_locs):\n",
    "    adata_cellr = sc.read_10x_mtx(j)\n",
    "    adata_cellr.obs.index = adata_cellr.obs.index.str[:-2]\n",
    "    adata_cellr.var['gene_name'] = adata_cellr.var.index\n",
    "    adata_cellr.var.index = adata_cellr.var['gene_ids']\n",
    "    adata_veloc = sc.read(k)\n",
    "    adata_veloc.obs.index = adata_veloc.obs.index.str.split(':').str[1]\n",
    "    adata_veloc.obs.index = adata_veloc.obs.index.str[:-1]\n",
    "    adata_veloc.var['gene_name'] = adata_veloc.var.index\n",
    "    adata_veloc.var.index = adata_veloc.var['Accession']\n",
    "    adata_merge = scv.utils.merge(adata_cellr, adata_veloc)\n",
    "    adata_files['adata'+i]=adata_merge\n",
    "    adata_files['adata'+i].obs['sample']=i\n",
    "    adata_files['adata'+i].obs['barcode']=adata_files['adata'+i].obs.index\n",
    "    adata_files['adata'+i].obs.index=adata_files['adata'+i].obs['barcode']+'.'+adata_files['adata'+i].obs['sample']\n",
    "    adata_list.append('adata'+i)\n",
    "    del adata_cellr\n",
    "    del adata_veloc\n",
    "    del adata_merge\n",
    "    gc.collect()\n",
    "print(time.strftime(\"%Y_%m_%d-%I_%M_%S_%p\"),'Finished Reading file(s)')"
   ]
  },
  {
   "cell_type": "code",
   "execution_count": null,
   "id": "15c33e3e-deb3-4642-9a46-f762db5c7a3f",
   "metadata": {},
   "outputs": [],
   "source": []
  }
 ],
 "metadata": {
  "kernelspec": {
   "display_name": "scanpy_2025",
   "language": "python",
   "name": "scanpy_2025"
  },
  "language_info": {
   "codemirror_mode": {
    "name": "ipython",
    "version": 3
   },
   "file_extension": ".py",
   "mimetype": "text/x-python",
   "name": "python",
   "nbconvert_exporter": "python",
   "pygments_lexer": "ipython3",
   "version": "3.11.11"
  }
 },
 "nbformat": 4,
 "nbformat_minor": 5
}
