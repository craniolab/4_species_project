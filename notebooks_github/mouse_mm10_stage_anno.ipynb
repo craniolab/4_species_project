{
 "cells": [
  {
   "cell_type": "markdown",
   "id": "b5ea61fa-dbf3-44bc-a7ed-785633de3b89",
   "metadata": {},
   "source": [
    "## notes  \n",
    "4/4/2025\n",
    "Here I will annotate the mouse data per stage. First I will just do a rough annotation to facilitate SAMap.  \n",
    "Later on I will go into more detail.  \n",
    "\n",
    "5/5/2025  \n",
    "Had to take a little break to work on integrating the olfactory derived ectoderm for andrea. I made some changes there to the RNA velocity which I think will work well.  \n",
    "I upgraded the interactive viewer to allow changes to the h5ad file and creation of dotplots. I also did my best to clean up the cartilage shark data for Elio.  \n",
    "\n",
    "Now continuing with mouse. After the stages I used for SAMap to compare with shark, I continue with the annotation of E10/11/12."
   ]
  },
  {
   "cell_type": "code",
   "execution_count": null,
   "id": "c475c045-87a8-4229-bdee-0c63bfc11322",
   "metadata": {},
   "outputs": [],
   "source": [
    "import logging\n",
    "logging.getLogger('matplotlib.font_manager').setLevel(logging.ERROR)\n",
    "import scanpy as sc\n",
    "import scvelo as scv\n",
    "import scvi\n",
    "import seaborn as sns\n",
    "import plotly.express as px\n",
    "import numpy as np\n",
    "from dash import Dash, dcc, html, Input, Output,dash_table, ctx, State\n",
    "import dash_ag_grid as dag\n",
    "\n",
    "import pandas as pd\n",
    "\n",
    "import os\n",
    "import sys\n",
    "import time\n",
    "import gc\n",
    "os.environ['R_HOME'] = sys.exec_prefix+\"/lib/R/\"\n",
    "\n",
    "# Plotting\n",
    "import matplotlib\n",
    "import matplotlib.pyplot as plt\n",
    "import matplotlib as mpl\n",
    "from matplotlib.backends.backend_pdf import PdfPages\n",
    "from matplotlib.colors import LinearSegmentedColormap, ListedColormap\n",
    "from matplotlib.lines import Line2D \n",
    "\n",
    "from copy import copy\n",
    "reds = copy(mpl.cm.Reds)\n",
    "reds.set_under(\"lightgray\")\n",
    "\n",
    "def matplotlib_to_plotly(cmap, pl_entries):\n",
    "    h = 1.0/(pl_entries-1)\n",
    "    pl_colorscale = []\n",
    "\n",
    "    for k in range(pl_entries):\n",
    "        C = list(map(np.uint8, np.array(cmap(k * h)[:3]) * 255))\n",
    "        pl_colorscale.append([k*h, 'rgb'+str((C[0], C[1], C[2]))])\n",
    "\n",
    "    return pl_colorscale\n",
    "\n",
    "plotly_reds = matplotlib_to_plotly(reds, 255)\n",
    "plotly_reds[0] = [0.0, 'rgb(211, 211, 211)']\n",
    "\n",
    "project_directory = '/Cranio_Lab/Louk_Seton/4_species_project'\n",
    "os.chdir(os.path.expanduser(\"~\")+project_directory)"
   ]
  },
  {
   "cell_type": "code",
   "execution_count": null,
   "id": "ba92baba-606e-47d4-94fa-43001ab555de",
   "metadata": {},
   "outputs": [],
   "source": [
    "##read in all samples\n",
    "sample_names = ['ME8','ME9','ME10','ME11','ME12'] #specify the sample names\n",
    "species = 'mouse' #specify the species\n",
    "genome = 'mm10' #specify the genome\n",
    "output_prefix = 'h5ad_files/' #specify the location of the cellranger output\n",
    "\n",
    "adata_dict = {}\n",
    "for sample in sample_names:\n",
    "    adata_dict[sample] = sc.read(output_prefix+species+'/'+genome+'/'+sample+'_after_filtering.h5ad')"
   ]
  },
  {
   "cell_type": "code",
   "execution_count": null,
   "id": "79ee973c-5075-411e-8432-1b002d5f8f0a",
   "metadata": {},
   "outputs": [],
   "source": [
    "leiden_res = [0.5,0.6,0.7,0.8,0.9,1,1.2,1.4,1.6,1.8,2,2.2,2.4,2.6,2.8,3]\n",
    "for sample in adata_dict:\n",
    "    for i in leiden_res:\n",
    "        sc.tl.leiden(adata_dict[sample], resolution = i, key_added = 'leiden'+str(i))\n",
    "    try:\n",
    "        del adata_dict[sample].uns['log1p']\n",
    "    except: print('no log1p')\n",
    "    for i in leiden_res:\n",
    "        sc.tl.rank_genes_groups(adata_dict[sample], 'leiden'+str(i), method='wilcoxon', \n",
    "                                key_added = \"wilcoxon_\"+'leiden'+str(i))\n",
    "\n",
    "    sc.tl.rank_genes_groups(adata_dict[sample], 'leiden_post_QC', method='wilcoxon', \n",
    "                            key_added = \"wilcoxon_\"+'leiden_post_QC')\n",
    "    adata_dict[sample].write(output_prefix+species+'/'+genome+'/'+sample+'_interactive.h5ad')"
   ]
  },
  {
   "cell_type": "code",
   "execution_count": null,
   "id": "5278d303-56b1-43a9-8909-42e59bd56816",
   "metadata": {},
   "outputs": [],
   "source": []
  },
  {
   "cell_type": "code",
   "execution_count": null,
   "id": "f957b766-efaa-4eae-9e11-1b3f02c02bea",
   "metadata": {},
   "outputs": [],
   "source": [
    "## E8\n",
    "adata = adata_dict['ME8']"
   ]
  },
  {
   "cell_type": "code",
   "execution_count": null,
   "id": "b16b736c-8c73-4230-ac90-25d163c6a160",
   "metadata": {},
   "outputs": [],
   "source": [
    "sc.tl.leiden(adata, resolution = 4, key_added = 'leiden_high')"
   ]
  },
  {
   "cell_type": "code",
   "execution_count": null,
   "id": "49e4f708-f06e-4027-8bd6-fd8beb17760a",
   "metadata": {},
   "outputs": [],
   "source": [
    "sc.pl.umap(adata, color = ['leiden_post_QC',],\n",
    "           #groups = ['35'],\n",
    "           legend_loc = 'on data',\n",
    "           ncols = 1)"
   ]
  },
  {
   "cell_type": "code",
   "execution_count": null,
   "id": "cfc196e6-24aa-4a32-b4b4-2cec51562ecf",
   "metadata": {},
   "outputs": [],
   "source": [
    "sc.pl.umap(adata,color = ['Cdx1','Hes7','Hoxb8','Hoxb9','L1td1','Xbp1','Pmp22'],\n",
    "           ncols = 3,cmap=reds, vmin =0.05)"
   ]
  },
  {
   "cell_type": "code",
   "execution_count": null,
   "id": "b223c45b-6bfe-4dda-89a5-cac8b44b061e",
   "metadata": {},
   "outputs": [],
   "source": [
    "sc.tl.rank_genes_groups(adata, groupby = 'leiden_post_QC', method = 'wilcoxon')"
   ]
  },
  {
   "cell_type": "code",
   "execution_count": null,
   "id": "5f286732-829e-46c1-9618-5113d8738e5b",
   "metadata": {},
   "outputs": [],
   "source": [
    "sc.pl.rank_genes_groups_dotplot(adata, n_genes=4,\n",
    "                                values_to_plot=\"logfoldchanges\", cmap='bwr',\n",
    "                                vmin=-4, vmax=4,\n",
    "                                min_logfoldchange=3,\n",
    "                                colorbar_title='log fold change'\n",
    "                               )"
   ]
  },
  {
   "cell_type": "code",
   "execution_count": null,
   "id": "1e1274b1-8959-4b74-8b4d-3a866cf06954",
   "metadata": {
    "jupyter": {
     "outputs_hidden": true
    }
   },
   "outputs": [],
   "source": [
    "sc.pl.rank_genes_groups_dotplot(adata, n_genes=40,\n",
    "                                groups = ['19'],\n",
    "                                values_to_plot=\"logfoldchanges\", cmap='bwr',\n",
    "                                vmin=-4, vmax=4,\n",
    "                                min_logfoldchange=4,\n",
    "                                colorbar_title='log fold change'\n",
    "                               )"
   ]
  },
  {
   "cell_type": "code",
   "execution_count": null,
   "id": "76cc60ce-a113-4629-a757-226e9d1121b7",
   "metadata": {},
   "outputs": [],
   "source": [
    "#quick annotation for E8\n",
    "cluster_anno = {\n",
    "    '0':'Mesoderm - Cranial - Foxl2+',# seems to be anterior mesoderm https://www.cell.com/developmental-cell/fulltext/S1534-5807%2820%2930889-3\n",
    "    '1':'Forebrain - Six3+',\n",
    "    '2':'Midbrain - Pax5+',\n",
    "    '3':'Neural Tube - Ccdc198+', #is 1700011H14Rik, also Cpn1 in same area in in situ https://bmcdevbiol.biomedcentral.com/articles/10.1186/1471-213X-7-92/tables/2\n",
    "    '4':'Surface Ectoderm - Cranial - Epcam+',\n",
    "    '5':'Neural Crest - Sox10+',\n",
    "    '6':'Myocyte - Foxf1+', #could be myotome or lateral plate mesoderm. I don't know. Similar to heart but lacking heart markers. Has muscle markers.\n",
    "    '7':'Somite - Meox1+',\n",
    "    '8':'Hindbrain - Hoxa2+',\n",
    "    '9':'Endoderm - Pax9+',\n",
    "    '10':'Mesoderm - Pharyngeal - Tlx1+',\n",
    "    '11':'Hindbrain - Vgll3+', #either rhombomere 1 or 2, difficult to say\n",
    "    '12':'Endothelium - Tal1+',\n",
    "    '13':'Floor Plate/Ventral Neural Tube - Nkx2-9+', #Nkx2-9, Shh\n",
    "    '14':'Surface Ectoderm - Pharyngeal - Tbx1+',\n",
    "    '15':'Myocyte - Heart - Myh6+',\n",
    "    '16':'Strange cells - Pou5f1+', #Pou5f1 high but half of them have Hox8/9 expression. And these two groups stick together regardless of resolution.\n",
    "    '17':'Mesoderm - Tbx6+',#strange, has tail markers, not sure what to think\n",
    "    '18':'Notochord - T+',\n",
    "    '19':'Surface Ectoderm - Wnt3',\n",
    "}\n",
    "adata.obs['annotation'] = adata.obs['leiden_post_QC'].map(cluster_anno)\n",
    "\n",
    "adata.obs[\"annotation_ordered\"] = pd.Categorical(\n",
    "    values=adata.obs.annotation, \n",
    "    categories=['Mesoderm - Cranial - Foxl2+',\n",
    "                'Mesoderm - Pharyngeal - Tlx1+',\n",
    "                'Somite - Meox1+',\n",
    "                'Mesoderm - Tbx6+',\n",
    "                'Myocyte - Foxf1+',\n",
    "                'Myocyte - Heart - Myh6+', \n",
    "                'Endothelium - Tal1+',\n",
    "                'Forebrain - Six3+', \n",
    "                'Midbrain - Pax5+',\n",
    "                'Floor Plate/Ventral Neural Tube - Nkx2-9+',\n",
    "                'Hindbrain - Vgll3+',\n",
    "                'Hindbrain - Hoxa2+',\n",
    "                'Neural Tube - Ccdc198+',\n",
    "                'Neural Crest - Sox10+',\n",
    "                'Strange cells - Pou5f1+',\n",
    "                'Surface Ectoderm - Cranial - Epcam+',\n",
    "                'Surface Ectoderm - Pharyngeal - Tbx1+',\n",
    "                'Surface Ectoderm - Wnt3',\n",
    "                'Endoderm - Pax9+',\n",
    "                'Notochord - T+',\n",
    "               ], \n",
    "    ordered=True\n",
    ")\n",
    "\n",
    "adata.uns['annotation_ordered_colors'] = [\"#bc7253\",\n",
    "\"#d0da3f\",\n",
    "\"#d54f2d\",\n",
    "\"#929632\",\n",
    "\"#d79636\",\n",
    "\"#826f32\",\n",
    "\"#dacd81\"] + [\"#36dee6\",\n",
    "\"#9c31df\",\n",
    "\"#45c6a1\",\n",
    "\"#6145c5\",\n",
    "\"#7482d8\",\n",
    "\"#cf6bd8\",\n",
    "\"#3d2a7a\",\n",
    "\"#8a3f90\"] +[\"#8c1543\",\n",
    "\"#ff79eb\",\n",
    "\"#eb0078\",\n",
    "\"#f898df\",\n",
    "\"#ba00a6\"]\n"
   ]
  },
  {
   "cell_type": "code",
   "execution_count": null,
   "id": "4e25b9cc-53a7-4e93-af98-bb3fe97a42be",
   "metadata": {},
   "outputs": [],
   "source": [
    "sc.pl.umap(adata,color = ['annotation_ordered'])"
   ]
  },
  {
   "cell_type": "code",
   "execution_count": null,
   "id": "2caa7eb7-00be-46d3-90f5-b21f0329e4f0",
   "metadata": {},
   "outputs": [],
   "source": [
    "adata.write(output_prefix+species+'/'+genome+'/'+'ME8_annotated.h5ad')\n",
    "adata_dict['ME8'] = adata"
   ]
  },
  {
   "cell_type": "code",
   "execution_count": null,
   "id": "996f79f2-55bd-4216-be05-0be921b206eb",
   "metadata": {},
   "outputs": [],
   "source": [
    "#ME9\n",
    "adata = adata_dict['ME9']\n",
    "sc.tl.leiden(adata, resolution = 3, key_added = 'leiden_high')"
   ]
  },
  {
   "cell_type": "code",
   "execution_count": null,
   "id": "0b5c32c2-aa7f-42fd-920f-dcead86f284d",
   "metadata": {},
   "outputs": [],
   "source": [
    "sc.pp.normalize_total(adata, target_sum=1e4)\n",
    "sc.pp.log1p(adata)"
   ]
  },
  {
   "cell_type": "code",
   "execution_count": null,
   "id": "eee7edf1-7a6e-408d-b3a6-2d63345d2cc3",
   "metadata": {},
   "outputs": [],
   "source": [
    "sc.pl.umap(adata, color = ['leiden_post_QC',],\n",
    "           #groups = ['35'],\n",
    "           legend_loc = 'on data',\n",
    "           ncols = 1)"
   ]
  },
  {
   "cell_type": "code",
   "execution_count": null,
   "id": "59b38126-9a77-47bb-b340-1211035c79ff",
   "metadata": {},
   "outputs": [],
   "source": [
    "\n",
    "sc.pl.umap(adata,color = ['Casr','Krt8','Vax1','Hmx1','Aldh1a7','Pax6','Six1','Aldh1a3','Rax','Vsx2','Pax2','Otx2','Six3','Thrb','Lgr5','Slc44a5'],\n",
    "           #['Mab21l2','Gbx2','Phox2a','Phox2b','Shh','Nkx2-1','Nkx2-4','Mitf','Vax2','Pax6','Emx2','Six6','Six3','Rspo2','Rspo3','Lhx5','Lhx2','Foxg1','Hoxa2','Otx2','Tal2','Pax3','Vgll3','Tmem255a','Plk3','Myt1','Neurod1','Aldh1a2','Dlx1','Dlx5','Trp63'],\n",
    "           ncols = 3,cmap=reds, vmin =0.05)"
   ]
  },
  {
   "cell_type": "code",
   "execution_count": null,
   "id": "4d399b4a-9379-43cd-b11b-806d3870adfe",
   "metadata": {},
   "outputs": [],
   "source": [
    "sc.tl.rank_genes_groups(adata, groupby = 'leiden_post_QC', method = 'wilcoxon')"
   ]
  },
  {
   "cell_type": "code",
   "execution_count": null,
   "id": "e3e43840-09c5-4c0b-af26-b6f3800697b6",
   "metadata": {
    "jupyter": {
     "outputs_hidden": true
    }
   },
   "outputs": [],
   "source": [
    "sc.pl.rank_genes_groups_dotplot(adata, n_genes=4,\n",
    "                                values_to_plot=\"logfoldchanges\", cmap='bwr',\n",
    "                                vmin=-4, vmax=4,\n",
    "                                min_logfoldchange=3,\n",
    "                                colorbar_title='log fold change'\n",
    "                               )"
   ]
  },
  {
   "cell_type": "code",
   "execution_count": null,
   "id": "366f9657-6e32-4e91-87e8-ad5e943e8169",
   "metadata": {
    "jupyter": {
     "outputs_hidden": true
    }
   },
   "outputs": [],
   "source": [
    "sc.pl.rank_genes_groups_dotplot(adata, n_genes=40,\n",
    "                                groups = ['4'],\n",
    "                                values_to_plot=\"logfoldchanges\", cmap='bwr',\n",
    "                                vmin=-4, vmax=4,\n",
    "                                min_logfoldchange=2.5,\n",
    "                                colorbar_title='log fold change'\n",
    "                               )"
   ]
  },
  {
   "cell_type": "code",
   "execution_count": null,
   "id": "b420b39c-72a7-412d-a843-842ca2bfcd94",
   "metadata": {},
   "outputs": [],
   "source": [
    "cluster_anno = {\n",
    "    '0':'Midbrain - Dorsal - Mab21l2+', #super clear expression https://www.sciencedirect.com/science/article/pii/S0925477399001276\n",
    "    '1':'Midbrain-Hindbrain boundary - En2+',#En1/2 Fgf8/17, Sp8/9, Pax8\n",
    "    '2':'Forebrain - Foxg1+',\n",
    "    '3':'Mesoderm - Tbx1+',\n",
    "    '4':'Hindbrain - Gbx1+',\n",
    "    '5':'Mesenchyme - Frontonasal - Alx3+',\n",
    "    '6':'Forebrain Dorsal - Rspo2+',\n",
    "    '7':'Forebrain - Optic vesicle - Mitf+',\n",
    "    '8':'Hindbrain - Casz1+',\n",
    "    '9':'Mesoderm - Foxl2+',\n",
    "    '10':'Surface Ectoderm - Trp63+',\n",
    "    '11':'Mesenchyme - Maxillary - Dlx1+ Dlx5-',\n",
    "    '12':'Mesenchyme - Mandibular - Dlx5+',\n",
    "    '13':'Hindbrain - Ventral - Phox2b+',#Floor plate? part shh+, Foxa2+ part Hoxa2+ seems posterior floorplate\n",
    "    '14':'Cranial Placodes - Six6+',\n",
    "    '15':'Midbrain - Ventral - Foxa1+',#floor plate? shh+ and Otx2+, Dkk2 and spink1\n",
    "    '16':'Forebrain - Ventral - Nkx2-4+',#Shh ventral diencephalon, Future hypothalamus? Paper in xenopus seems to indicate that Nkx2-1/4 overlap but 4 is more restricted to the ventral diencephalon\n",
    "    '17':'Neural Crest - Sox10+',\n",
    "    '18':'Endothelium - Emcn+',\n",
    "    '19':'Neurons? - Myt1+', #myt1 neurod1 strong signal, half Otx2+ other half Hoxa2+, seems a mix of neurons from different origins\n",
    "    '20':'Pharyngeal Pouch - Pax1+',\n",
    "    '21':'Hindbrain - Vgll3+', #Mafb, Lmx1a, Tmem255a\n",
    "    '22':'Mesoderm - Pharyngeal - Tlx1+',\n",
    "    '23':'Trigeminal Ganglia - Tlx2+',\n",
    "    '24':'Otic Placode - Sox10+',\n",
    "    '25':'Mesoderm - Aldh1a2+',\n",
    "    '26':'Myocyte - Tnni1+',\n",
    "}\n",
    "adata.obs['annotation'] = adata.obs['leiden_post_QC'].map(cluster_anno)\n",
    "\n",
    "adata.obs[\"annotation_ordered\"] = pd.Categorical(\n",
    "    values=adata.obs.annotation, \n",
    "    categories=['Mesoderm - Foxl2+',\n",
    "                'Mesoderm - Tbx1+',\n",
    "                'Mesoderm - Pharyngeal - Tlx1+',\n",
    "                'Mesoderm - Aldh1a2+',\n",
    "                'Mesenchyme - Maxillary - Dlx1+ Dlx5-',\n",
    "                'Mesenchyme - Mandibular - Dlx5+',\n",
    "                'Mesenchyme - Frontonasal - Alx3+',\n",
    "                'Neural Crest - Sox10+',\n",
    "                'Myocyte - Tnni1+',\n",
    "                'Surface Ectoderm - Trp63+',\n",
    "                'Pharyngeal Pouch - Pax1+',\n",
    "                'Cranial Placodes - Six6+',\n",
    "                'Otic Placode - Sox10+',\n",
    "                'Trigeminal Ganglia - Tlx2+',\n",
    "                'Endothelium - Emcn+',\n",
    "                'Hindbrain - Gbx1+',\n",
    "                'Hindbrain - Casz1+',\n",
    "                'Hindbrain - Vgll3+',\n",
    "                'Hindbrain - Ventral - Phox2b+',\n",
    "                'Neurons? - Myt1+',\n",
    "                'Midbrain-Hindbrain boundary - En2+',\n",
    "                'Midbrain - Dorsal - Mab21l2+',\n",
    "                'Midbrain - Ventral - Foxa1+',\n",
    "                'Forebrain Dorsal - Rspo2+',\n",
    "                'Forebrain - Ventral - Nkx2-4+', \n",
    "                'Forebrain - Foxg1+',\n",
    "                'Forebrain - Optic vesicle - Mitf+',\n",
    "               ], \n",
    "    ordered=True\n",
    ")\n",
    "adata.uns['annotation_ordered_colors'] = [\"#438560\",\n",
    "\"#d7b034\",\n",
    "\"#6fcda2\",\n",
    "\"#62da41\",\n",
    "\"#85722c\",\n",
    "\"#65c263\",\n",
    "\"#c3b96f\",\n",
    "\"#578030\",\n",
    "\"#a8c73e\"]+[\"#be686d\",\n",
    "\"#de8430\",\n",
    "\"#d44468\",\n",
    "\"#e09c72\",\n",
    "\"#d84632\",\n",
    "\"#98572f\"]+[\"#4e519c\",\n",
    "\"#63d6ad\",\n",
    "\"#4c3dd4\",\n",
    "\"#3f786b\",\n",
    "\"#6970df\",\n",
    "\"#85c3d1\",\n",
    "\"#455e7e\",\n",
    "\"#839dd8\"]+[\"#a045cb\",\n",
    "\"#ce99c8\",\n",
    "\"#cf499e\",\n",
    "\"#784371\"]\n",
    "\n",
    "sc.pl.umap(adata, color = ['annotation_ordered'])"
   ]
  },
  {
   "cell_type": "code",
   "execution_count": null,
   "id": "b99f0e7f-7e34-4dfb-bd40-cd75199a20da",
   "metadata": {},
   "outputs": [],
   "source": [
    "adata.write(output_prefix+species+'/'+genome+'/'+'ME9_annotated.h5ad')\n",
    "adata_dict['ME9'] = adata"
   ]
  },
  {
   "cell_type": "code",
   "execution_count": null,
   "id": "a385704d-312d-42f1-9220-d6a7574f8cda",
   "metadata": {},
   "outputs": [],
   "source": [
    "output_prefix+species+'/'+genome+'/'+'ME9_annotated.h5ad'"
   ]
  },
  {
   "cell_type": "code",
   "execution_count": null,
   "id": "48003007-c967-4f80-b094-42f90ef1811c",
   "metadata": {},
   "outputs": [],
   "source": [
    "adata_ecto_E9 = adata[adata.obs['leiden_post_QC'].isin(['10','14','20','23','24'])].copy()"
   ]
  },
  {
   "cell_type": "code",
   "execution_count": null,
   "id": "6dc3b4ac-9c1d-4fa4-99c4-f2ee594f49f7",
   "metadata": {},
   "outputs": [],
   "source": [
    "sc.pp.normalize_total(adata_ecto_E9, target_sum=1e4)\n",
    "sc.pp.log1p(adata_ecto_E9)\n",
    "sc.pp.highly_variable_genes(adata_ecto_E9, min_disp = 0.5,\n",
    "                            n_top_genes=500\n",
    "                           )\n",
    "sc.tl.pca(adata_ecto_E9)\n",
    "sc.pp.neighbors(adata_ecto_E9, n_pcs=10)\n",
    "sc.tl.umap(adata_ecto_E9,)\n",
    "sc.tl.leiden(adata_ecto_E9)\n",
    "sc.pl.umap(adata_ecto_E9, color = ['phase','leiden_post_QC','leiden'],size = 50, frameon=False)"
   ]
  },
  {
   "cell_type": "code",
   "execution_count": null,
   "id": "f9ba9f90-3efb-4f6e-ad7d-9e32b4a02f98",
   "metadata": {},
   "outputs": [],
   "source": [
    "sc.pl.umap(adata_ecto_E9, color = ['Casr','Nkx2-6','Rnf182','Shh','Vax1','Fgf17','Amn','Tfap2b','Hapln1','Neurog1','Lmo2','Fgf8','Aldh1a3','Aldh1a7','Sp8','Wnt6','Hesx1','Foxe1','Pax6','Six1','Thrb','Sox10','Tlx2','Hmx1'],cmap = reds, vmin = 0.05, ncols = 3,size = 100, frameon=False)"
   ]
  },
  {
   "cell_type": "code",
   "execution_count": null,
   "id": "321d2c08-7518-47a0-82fa-ab7b4d0fa509",
   "metadata": {},
   "outputs": [],
   "source": [
    "sc.tl.rank_genes_groups(adata_ecto_E9, groupby = 'leiden', method = 'wilcoxon')"
   ]
  },
  {
   "cell_type": "code",
   "execution_count": null,
   "id": "06363315-ff85-4ddd-963a-f0ad3dafda11",
   "metadata": {},
   "outputs": [],
   "source": [
    "sc.pl.rank_genes_groups_dotplot(adata_ecto_E9, n_genes=8,\n",
    "                                values_to_plot=\"logfoldchanges\", cmap='bwr',\n",
    "                                vmin=-4, vmax=4,\n",
    "                                min_logfoldchange=2,\n",
    "                                colorbar_title='log fold change'\n",
    "                               )"
   ]
  },
  {
   "cell_type": "code",
   "execution_count": null,
   "id": "68edb6de-395d-4344-8151-b74acff6cbe9",
   "metadata": {},
   "outputs": [],
   "source": [
    "sc.pl.rank_genes_groups_dotplot(adata_ecto_E9, n_genes=30,\n",
    "                                groups = ['0'],\n",
    "                                values_to_plot=\"logfoldchanges\", cmap='bwr',\n",
    "                                vmin=-4, vmax=4,\n",
    "                                min_logfoldchange=2.5,\n",
    "                                colorbar_title='log fold change'\n",
    "                               )"
   ]
  },
  {
   "cell_type": "code",
   "execution_count": null,
   "id": "17c73d99-6ae4-4e99-8d39-cb603ac35527",
   "metadata": {},
   "outputs": [],
   "source": [
    "#DEG between two clusters\n",
    "cluster_of_interest = '4'\n",
    "reference_cluster = '6'\n",
    "cat_name = 'leiden'\n",
    "sc.set_figure_params(dpi=50,figsize=[6,4])\n",
    "\n",
    "sc.tl.rank_genes_groups(adata_ecto_E9, cat_name, groups=[cluster_of_interest], reference=reference_cluster, method='wilcoxon')\n"
   ]
  },
  {
   "cell_type": "code",
   "execution_count": null,
   "id": "b0a6dec4-1ff2-4a1f-a1a6-e12390afe880",
   "metadata": {},
   "outputs": [],
   "source": [
    "df = sc.get.rank_genes_groups_df(adata_ecto_E9, group=None,)\n",
    "df = df[df['logfoldchanges']>2]\n",
    "sc.tl.rank_genes_groups(adata_ecto_E9, groupby = 'leiden', method = 'wilcoxon')\n",
    "sc.pl.rank_genes_groups_dotplot(adata_ecto_E9,var_names = list(df['names'].head(30)),dendrogram=True,\n",
    "             values_to_plot=\"logfoldchanges\", cmap='bwr',\n",
    "    vmin=-4,\n",
    "    vmax=4,)\n"
   ]
  },
  {
   "cell_type": "code",
   "execution_count": null,
   "id": "b48df0ce-382d-47a0-b272-5566eaaba834",
   "metadata": {},
   "outputs": [],
   "source": []
  },
  {
   "cell_type": "code",
   "execution_count": null,
   "id": "20b4ff21-ca6c-4f2c-9133-d08e415a3079",
   "metadata": {},
   "outputs": [],
   "source": []
  },
  {
   "cell_type": "code",
   "execution_count": null,
   "id": "717e9c13-8337-41d8-820b-4b52cdf5a757",
   "metadata": {},
   "outputs": [],
   "source": [
    "adata_shark = sc.read('../../Elio/Projects/Sharks/Neural_crest/h5ad_files/shark89.h5ad')\n",
    "adata_shark"
   ]
  },
  {
   "cell_type": "code",
   "execution_count": null,
   "id": "389c97b9-174b-473d-b9d1-4f7502dffc4d",
   "metadata": {},
   "outputs": [],
   "source": [
    "adata_shark.X = adata_shark.layers['original_counts'].copy()\n",
    "adata_shark.write('../../Elio/Projects/Sharks/Neural_crest/h5ad_files/shark89_samap.h5ad')"
   ]
  },
  {
   "cell_type": "code",
   "execution_count": null,
   "id": "b90219bd-4da3-423d-a7f2-b3689594877a",
   "metadata": {},
   "outputs": [],
   "source": [
    "adata_dict['ME9'].X = adata_dict['ME9'].layers['original_counts'].copy()\n",
    "adata_dict['ME9'].write(output_prefix+species+'/'+genome+'/'+'ME9_annotated_samap.h5ad')\n"
   ]
  },
  {
   "cell_type": "code",
   "execution_count": null,
   "id": "8f9afea2-2347-40cd-a23e-104ab59c96a8",
   "metadata": {},
   "outputs": [],
   "source": [
    "adata_dict['ME8'].X = adata_dict['ME8'].layers['original_counts'].copy()\n",
    "adata_dict['ME8'].write(output_prefix+species+'/'+genome+'/'+'ME8_annotated_samap.h5ad')\n"
   ]
  },
  {
   "cell_type": "code",
   "execution_count": null,
   "id": "dc2f7f37-4d17-4609-a33d-2136f5cc9c37",
   "metadata": {},
   "outputs": [],
   "source": []
  },
  {
   "cell_type": "code",
   "execution_count": null,
   "id": "f21882da-3093-42ae-8e08-497cda6e50be",
   "metadata": {},
   "outputs": [],
   "source": []
  },
  {
   "cell_type": "code",
   "execution_count": null,
   "id": "c1a56386-cfbf-41c7-a8a5-5a52f914efef",
   "metadata": {},
   "outputs": [],
   "source": []
  },
  {
   "cell_type": "code",
   "execution_count": null,
   "id": "215319f2-f101-4762-8e7c-8a2bbaf6cbda",
   "metadata": {},
   "outputs": [],
   "source": []
  },
  {
   "cell_type": "code",
   "execution_count": null,
   "id": "30376beb-d885-4c5c-8f94-658042c78765",
   "metadata": {},
   "outputs": [],
   "source": [
    "#ME10\n",
    "adata = adata_dict['ME10']\n",
    "sc.tl.leiden(adata, resolution = 1.5, key_added = 'leiden_high')\n"
   ]
  },
  {
   "cell_type": "code",
   "execution_count": null,
   "id": "4dc2de0b-15a7-44a7-9132-8eeb2a27090f",
   "metadata": {},
   "outputs": [],
   "source": [
    "sc.pl.umap(adata, color = ['leiden_post_QC','leiden_high','phase',],\n",
    "           #groups = ['35'],\n",
    "           legend_loc = 'on data',\n",
    "           ncols = 1)"
   ]
  },
  {
   "cell_type": "code",
   "execution_count": null,
   "id": "53d1af14-fd28-4e59-95fd-35c7695c38d9",
   "metadata": {},
   "outputs": [],
   "source": [
    "sc.pl.umap(adata,color = ['Otx2','Hoxa2','Hoxb2','Dlx1','Dlx2','Dlx4','Dlx5','Dlx6','Dlx3','Alx1','Alx3','Alx4','Pitx2','Meox1','Meox2','Tnni1','Hand1','Hand2','Lhx8','Twist2','Tbx1','Tbx2','Col23a1','Colec12',\n",
    "                          'Vtn','Tbx18','Tcf21','Foxd1','Foxf2','Flrt2','Pax9','Hpse2','Gm5127','Lmx1b','Lmx1a','Sema3d','Col1a1','Zic1','Rgs5','Lrba','Hoxa2','Hoxb2','Smoc2',\n",
    "                          'leiden_post_QC','leiden_high'], legend_loc = 'on data',\n",
    "           #['Mab21l2','Gbx2','Phox2a','Phox2b','Shh','Nkx2-1','Nkx2-4','Mitf','Vax2','Pax6','Emx2','Six6','Six3','Rspo2','Rspo3','Lhx5','Lhx2','Foxg1','Hoxa2','Otx2','Tal2','Pax3','Vgll3','Tmem255a','Plk3','Myt1','Neurod1','Aldh1a2','Dlx1','Dlx5','Trp63'],\n",
    "           ncols = 3,cmap=reds, vmin =0.05)"
   ]
  },
  {
   "cell_type": "code",
   "execution_count": null,
   "id": "cff56847-0e56-476a-83de-379b0cd0e9e9",
   "metadata": {},
   "outputs": [],
   "source": [
    "sc.pl.umap(adata, color = 'leiden_high',groups = ['31'])"
   ]
  },
  {
   "cell_type": "code",
   "execution_count": null,
   "id": "89ba3339-e961-4d84-a6c9-75fab38b7cd9",
   "metadata": {},
   "outputs": [],
   "source": [
    "sc.tl.rank_genes_groups(adata, groupby = 'leiden_post_QC', method = 'wilcoxon', key_added = 'wilcoxon_leiden_post_QC')\n",
    "sc.tl.rank_genes_groups(adata, groupby = 'leiden_high', method = 'wilcoxon', key_added = 'wilcoxon_leiden_high')"
   ]
  },
  {
   "cell_type": "code",
   "execution_count": null,
   "id": "452334dc-226a-4acc-8688-f24473f65378",
   "metadata": {},
   "outputs": [],
   "source": [
    "sc.tl.dendrogram(adata, groupby='leiden_high')\n",
    "sc.pl.rank_genes_groups_dotplot(adata, n_genes=4,\n",
    "                                values_to_plot=\"logfoldchanges\", cmap='bwr',\n",
    "                                vmin=-4, vmax=4,\n",
    "                                min_logfoldchange=3,\n",
    "                                colorbar_title='log fold change'\n",
    "                               )"
   ]
  },
  {
   "cell_type": "code",
   "execution_count": null,
   "id": "2a44d7bd-1047-4831-9cad-4c0c5aa6bd3f",
   "metadata": {},
   "outputs": [],
   "source": [
    "sc.pl.rank_genes_groups_dotplot(adata, n_genes=60,\n",
    "                                groups = ['5'],\n",
    "                                values_to_plot=\"logfoldchanges\", cmap='bwr',\n",
    "                                vmin=-4, vmax=4,\n",
    "                                min_logfoldchange=2.5,\n",
    "                                colorbar_title='log fold change'\n",
    "                               )"
   ]
  },
  {
   "cell_type": "code",
   "execution_count": null,
   "id": "d8b7c40c-156c-4db1-bffe-90cc618ec705",
   "metadata": {},
   "outputs": [],
   "source": [
    "sc.pl.rank_genes_groups_dotplot(adata, n_genes=60,\n",
    "                                groups = ['3'],\n",
    "                                values_to_plot=\"logfoldchanges\", cmap='bwr',\n",
    "                                vmin=-4, vmax=4,\n",
    "                                min_logfoldchange=2,\n",
    "                                colorbar_title='log fold change'\n",
    "                               )"
   ]
  },
  {
   "cell_type": "code",
   "execution_count": null,
   "id": "ddc8bac8-e331-4819-9a4c-4d16a42dda16",
   "metadata": {},
   "outputs": [],
   "source": [
    "sc.pl.rank_genes_groups_dotplot(adata, n_genes=60,\n",
    "                                groups = ['10'],\n",
    "                                values_to_plot=\"logfoldchanges\", cmap='bwr',\n",
    "                                vmin=-4, vmax=4,\n",
    "                                min_logfoldchange=2.5,\n",
    "                                colorbar_title='log fold change'\n",
    "                               )"
   ]
  },
  {
   "cell_type": "code",
   "execution_count": null,
   "id": "f083c4ce-d93b-4e8c-9adb-6bf7600a428d",
   "metadata": {},
   "outputs": [],
   "source": [
    "cluster_anno = {\n",
    "    '5':'Mesoderm - Zic1+',\n",
    "    '11':'Mesoderm? - Tbx1+',\n",
    "\n",
    "    \n",
    "}"
   ]
  },
  {
   "cell_type": "code",
   "execution_count": null,
   "id": "4b539639-222c-4c48-a520-e71d6b8e500f",
   "metadata": {},
   "outputs": [],
   "source": []
  },
  {
   "cell_type": "code",
   "execution_count": null,
   "id": "5f3561d2-3280-43fb-b36c-6ec61da14550",
   "metadata": {},
   "outputs": [],
   "source": []
  },
  {
   "cell_type": "code",
   "execution_count": null,
   "id": "80a34daf-6aeb-4ef8-9d2b-a218d568abc5",
   "metadata": {},
   "outputs": [],
   "source": []
  },
  {
   "cell_type": "code",
   "execution_count": null,
   "id": "b4387d8d-4659-4c21-a479-516bf90cda10",
   "metadata": {},
   "outputs": [],
   "source": []
  },
  {
   "cell_type": "code",
   "execution_count": null,
   "id": "7dfeb078-530c-4482-9cb1-c1fa8f7e180a",
   "metadata": {},
   "outputs": [],
   "source": []
  },
  {
   "cell_type": "code",
   "execution_count": null,
   "id": "d7daad3f-26d6-4279-ba3d-5009764d55af",
   "metadata": {},
   "outputs": [],
   "source": []
  },
  {
   "cell_type": "code",
   "execution_count": null,
   "id": "76e23db7-dec5-4f30-bfb0-bc843e11ea92",
   "metadata": {},
   "outputs": [],
   "source": []
  },
  {
   "cell_type": "code",
   "execution_count": null,
   "id": "5b56fefb-7e8b-4726-894c-cdde1cfec74b",
   "metadata": {},
   "outputs": [],
   "source": []
  },
  {
   "cell_type": "code",
   "execution_count": null,
   "id": "aa30414d-6cfd-401c-9665-d838580132dd",
   "metadata": {},
   "outputs": [],
   "source": [
    "adata_ecto = adata[adata.obs['leiden_post_QC'].isin(['7','16','20'])].copy()\n",
    "adata_ecto.X = adata_ecto.layers['original_counts'].copy()\n",
    "sc.pp.normalize_total(adata_ecto, target_sum=1e4)\n",
    "sc.pp.log1p(adata_ecto)\n",
    "sc.pp.highly_variable_genes(adata_ecto, min_disp = 0.5,\n",
    "                            n_top_genes=500\n",
    "                           )\n",
    "sc.tl.pca(adata_ecto)\n",
    "sc.pp.neighbors(adata_ecto, n_pcs=10)\n",
    "sc.tl.umap(adata_ecto,)\n",
    "sc.tl.leiden(adata_ecto)\n",
    "sc.pl.umap(adata_ecto, color = ['phase','leiden_post_QC','leiden'], frameon=False)"
   ]
  },
  {
   "cell_type": "code",
   "execution_count": null,
   "id": "a0b04bf9-3936-412d-83d7-cd56b74a90ca",
   "metadata": {},
   "outputs": [],
   "source": [
    "sc.pl.umap(adata_ecto, color = ['Sfrp2','Cryab','Sox2','Foxa1','Runx1','Aldh1a7','Hmx1','Tfap2b','Thrb','Cdh6','Lgr5','Aldh1a3','Pax6','Six3','Six6','Shh','Hesx1','Six1','Sox10','Dlx2','Foxe1','Wnt6','Fgf8',],cmap = reds, vmin = 0.05, ncols =3, frameon=False)"
   ]
  },
  {
   "cell_type": "code",
   "execution_count": null,
   "id": "23a34624-614a-4e89-becb-04bd4feb77ca",
   "metadata": {},
   "outputs": [],
   "source": [
    "sc.tl.rank_genes_groups(adata_ecto, groupby = 'leiden', method = 'wilcoxon')"
   ]
  },
  {
   "cell_type": "code",
   "execution_count": null,
   "id": "de34d468-d6ad-49b1-be66-10affa4c108b",
   "metadata": {},
   "outputs": [],
   "source": [
    "sc.pl.rank_genes_groups_dotplot(adata_ecto, n_genes=8,\n",
    "                                values_to_plot=\"logfoldchanges\", cmap='bwr',\n",
    "                                vmin=-4, vmax=4,\n",
    "                                min_logfoldchange=2.5,\n",
    "                                colorbar_title='log fold change'\n",
    "                               )"
   ]
  },
  {
   "cell_type": "code",
   "execution_count": null,
   "id": "48951820-1954-40f9-8571-a0b55b21c843",
   "metadata": {},
   "outputs": [],
   "source": [
    "sc.pl.rank_genes_groups_dotplot(adata_ecto, n_genes=20,\n",
    "                                groups = ['7'],\n",
    "                                values_to_plot=\"logfoldchanges\", cmap='bwr',\n",
    "                                vmin=-4, vmax=4,\n",
    "                                min_logfoldchange=2.5,\n",
    "                                colorbar_title='log fold change'\n",
    "                               )"
   ]
  },
  {
   "cell_type": "code",
   "execution_count": null,
   "id": "9119b8da-9ebb-4c97-8c28-17c2f09c5423",
   "metadata": {},
   "outputs": [],
   "source": []
  },
  {
   "cell_type": "code",
   "execution_count": null,
   "id": "e5baf8a8-e217-409a-9d64-b5e154370b3f",
   "metadata": {},
   "outputs": [],
   "source": [
    "plt.rcParams['figure.figsize'] = (10, 8)\n",
    "sc.pl.umap(adata,color = ['Ascl1','Rnf182','Casr','Krt8','Neurod1','Epcam','Omp','leiden_high'],legend_loc = 'on data',\n",
    "           #['Mab21l2','Gbx2','Phox2a','Phox2b','Shh','Nkx2-1','Nkx2-4','Mitf','Vax2','Pax6','Emx2','Six6','Six3','Rspo2','Rspo3','Lhx5','Lhx2','Foxg1','Hoxa2','Otx2','Tal2','Pax3','Vgll3','Tmem255a','Plk3','Myt1','Neurod1','Aldh1a2','Dlx1','Dlx5','Trp63'],\n",
    "           ncols = 3,cmap=reds, vmin =0.05)"
   ]
  },
  {
   "cell_type": "code",
   "execution_count": null,
   "id": "80fbe53c-1428-430b-8417-1275d71c7656",
   "metadata": {},
   "outputs": [],
   "source": [
    "sc.tl.rank_genes_groups(adata, groupby = 'leiden_high', method = 'wilcoxon')"
   ]
  },
  {
   "cell_type": "code",
   "execution_count": null,
   "id": "64ed91a5-8532-4bff-8990-76c021a85d43",
   "metadata": {},
   "outputs": [],
   "source": [
    "sc.tl.dendrogram(adata, 'leiden_high')\n",
    "sc.pl.rank_genes_groups_dotplot(adata, n_genes=80,\n",
    "                                groups = ['37'],\n",
    "                                values_to_plot=\"logfoldchanges\", cmap='bwr',\n",
    "                                vmin=-4, vmax=4,\n",
    "                                min_logfoldchange=4,\n",
    "                                colorbar_title='log fold change'\n",
    "                               )"
   ]
  },
  {
   "cell_type": "code",
   "execution_count": null,
   "id": "4fccf6df-718c-41ce-b4ca-b96fc915f31f",
   "metadata": {},
   "outputs": [],
   "source": []
  },
  {
   "cell_type": "code",
   "execution_count": null,
   "id": "46e93cef-4eaa-492d-bbbc-f35a79cf46cd",
   "metadata": {},
   "outputs": [],
   "source": []
  },
  {
   "cell_type": "code",
   "execution_count": null,
   "id": "6c313d46-b6dd-46d8-8087-702333c6a49c",
   "metadata": {},
   "outputs": [],
   "source": [
    "#ME11\n",
    "adata = adata_dict['ME11']\n",
    "sc.tl.leiden(adata, resolution = 3, key_added = 'leiden_high')\n"
   ]
  },
  {
   "cell_type": "code",
   "execution_count": null,
   "id": "86263a81-53fe-4ef2-970a-5b85164f57eb",
   "metadata": {},
   "outputs": [],
   "source": [
    "sc.pl.umap(adata, color = ['leiden_post_QC','leiden_high'],\n",
    "           #groups = ['35'],\n",
    "           legend_loc = 'on data',\n",
    "           ncols = 1)"
   ]
  },
  {
   "cell_type": "code",
   "execution_count": null,
   "id": "41b04db3-7b94-425d-90d4-8bd5e5a1f24d",
   "metadata": {},
   "outputs": [],
   "source": [
    "plt.rcParams['figure.figsize'] = (10, 8)\n",
    "\n",
    "sc.pl.umap(adata,color = ['Casr','Rnf182','Krt8','Epcam','Neurod1','Neurog1','Ascl1'],\n",
    "           #['Mab21l2','Gbx2','Phox2a','Phox2b','Shh','Nkx2-1','Nkx2-4','Mitf','Vax2','Pax6','Emx2','Six6','Six3','Rspo2','Rspo3','Lhx5','Lhx2','Foxg1','Hoxa2','Otx2','Tal2','Pax3','Vgll3','Tmem255a','Plk3','Myt1','Neurod1','Aldh1a2','Dlx1','Dlx5','Trp63'],\n",
    "           ncols = 3,cmap=reds, vmin =0.05)"
   ]
  },
  {
   "cell_type": "code",
   "execution_count": null,
   "id": "1d4cbebf-afcb-455d-922e-beb82114d70c",
   "metadata": {},
   "outputs": [],
   "source": []
  },
  {
   "cell_type": "code",
   "execution_count": null,
   "id": "ea298abb-b837-4a9e-bab3-ef14565ded96",
   "metadata": {},
   "outputs": [],
   "source": [
    "#ME12\n",
    "adata = adata_dict['ME12']\n",
    "sc.tl.leiden(adata, resolution = 3, key_added = 'leiden_high')\n",
    "sc.pl.umap(adata, color = ['leiden_post_QC','leiden_high'],\n",
    "           #groups = ['35'],\n",
    "           legend_loc = 'on data',\n",
    "           ncols = 1)"
   ]
  },
  {
   "cell_type": "code",
   "execution_count": null,
   "id": "e4e2c137-d1dd-4833-b02e-c4354a4f25eb",
   "metadata": {},
   "outputs": [],
   "source": [
    "sc.pl.umap(adata,color = ['Casr','Rnf182','Krt8','Epcam','Neurod1','Neurog1','Ascl1'],\n",
    "           #['Mab21l2','Gbx2','Phox2a','Phox2b','Shh','Nkx2-1','Nkx2-4','Mitf','Vax2','Pax6','Emx2','Six6','Six3','Rspo2','Rspo3','Lhx5','Lhx2','Foxg1','Hoxa2','Otx2','Tal2','Pax3','Vgll3','Tmem255a','Plk3','Myt1','Neurod1','Aldh1a2','Dlx1','Dlx5','Trp63'],\n",
    "           ncols = 3,cmap=reds, vmin =0.05)"
   ]
  },
  {
   "cell_type": "code",
   "execution_count": null,
   "id": "e2cc7a8e-bef4-4f76-acc1-b9db149604e1",
   "metadata": {},
   "outputs": [],
   "source": []
  }
 ],
 "metadata": {
  "kernelspec": {
   "display_name": "scanpy_2025",
   "language": "python",
   "name": "scanpy_2025"
  },
  "language_info": {
   "codemirror_mode": {
    "name": "ipython",
    "version": 3
   },
   "file_extension": ".py",
   "mimetype": "text/x-python",
   "name": "python",
   "nbconvert_exporter": "python",
   "pygments_lexer": "ipython3",
   "version": "3.11.11"
  }
 },
 "nbformat": 4,
 "nbformat_minor": 5
}
