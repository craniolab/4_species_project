{
 "cells": [
  {
   "cell_type": "markdown",
   "id": "b5ea61fa-dbf3-44bc-a7ed-785633de3b89",
   "metadata": {},
   "source": [
    "## notes  \n",
    "4/4/2025\n",
    "Here I will annotate the mouse data per stage. First I will just do a rough annotation to facilitate SAMap.  \n",
    "Later on I will go into more detail. "
   ]
  },
  {
   "cell_type": "code",
   "execution_count": null,
   "id": "c475c045-87a8-4229-bdee-0c63bfc11322",
   "metadata": {},
   "outputs": [],
   "source": [
    "import logging\n",
    "logging.getLogger('matplotlib.font_manager').setLevel(logging.ERROR)\n",
    "import scanpy as sc\n",
    "import scvelo as scv\n",
    "import scvi\n",
    "import seaborn as sns\n",
    "import plotly.express as px\n",
    "import numpy as np\n",
    "from dash import Dash, dcc, html, Input, Output\n",
    "\n",
    "import pandas as pd\n",
    "\n",
    "import os\n",
    "import sys\n",
    "import time\n",
    "import gc\n",
    "os.environ['R_HOME'] = sys.exec_prefix+\"/lib/R/\"\n",
    "\n",
    "# Plotting\n",
    "import matplotlib\n",
    "import matplotlib.pyplot as plt\n",
    "import matplotlib as mpl\n",
    "from matplotlib.backends.backend_pdf import PdfPages\n",
    "from matplotlib.colors import LinearSegmentedColormap, ListedColormap\n",
    "from matplotlib.lines import Line2D \n",
    "\n",
    "from copy import copy\n",
    "reds = copy(mpl.cm.Reds)\n",
    "reds.set_under(\"lightgray\")\n",
    "\n",
    "project_directory = '/Cranio_Lab/Louk_Seton/4_species_project'\n",
    "os.chdir(os.path.expanduser(\"~\")+project_directory)"
   ]
  },
  {
   "cell_type": "code",
   "execution_count": null,
   "id": "ba92baba-606e-47d4-94fa-43001ab555de",
   "metadata": {},
   "outputs": [],
   "source": [
    "##read in all samples\n",
    "sample_names = ['ME8','ME9','ME10','ME11','ME12'] #specify the sample names\n",
    "species = 'mouse' #specify the species\n",
    "genome = 'mm10' #specify the genome\n",
    "output_prefix = 'h5ad_files/' #specify the location of the cellranger output\n",
    "\n",
    "adata_dict = {}\n",
    "for sample in sample_names:\n",
    "    adata_dict[sample] = sc.read(output_prefix+species+'/'+genome+'/'+sample+'_after_filtering.h5ad')"
   ]
  },
  {
   "cell_type": "code",
   "execution_count": null,
   "id": "f957b766-efaa-4eae-9e11-1b3f02c02bea",
   "metadata": {},
   "outputs": [],
   "source": [
    "## E8\n",
    "adata = adata_dict['ME8']"
   ]
  },
  {
   "cell_type": "code",
   "execution_count": null,
   "id": "c3d25659-99b7-46d7-b01a-95f2d89b3f1a",
   "metadata": {},
   "outputs": [],
   "source": [
    "adata"
   ]
  },
  {
   "cell_type": "code",
   "execution_count": null,
   "id": "b16b736c-8c73-4230-ac90-25d163c6a160",
   "metadata": {},
   "outputs": [],
   "source": [
    "sc.tl.leiden(adata, resolution = 4, key_added = 'leiden_high')"
   ]
  },
  {
   "cell_type": "code",
   "execution_count": null,
   "id": "49e4f708-f06e-4027-8bd6-fd8beb17760a",
   "metadata": {},
   "outputs": [],
   "source": [
    "sc.pl.umap(adata, color = ['leiden_post_QC',],\n",
    "           #groups = ['35'],\n",
    "           legend_loc = 'on data',\n",
    "           ncols = 1)"
   ]
  },
  {
   "cell_type": "code",
   "execution_count": null,
   "id": "cfc196e6-24aa-4a32-b4b4-2cec51562ecf",
   "metadata": {},
   "outputs": [],
   "source": [
    "sc.pl.umap(adata,color = ['Pou5f1','Wnt8a','Cdx1','Nkx1-2','Hoxb9',\n",
    "                          'Hoxb8','ccdc198','Hoxa1'],\n",
    "           ncols = 3,cmap=reds, vmin =0.05)"
   ]
  },
  {
   "cell_type": "code",
   "execution_count": null,
   "id": "b223c45b-6bfe-4dda-89a5-cac8b44b061e",
   "metadata": {},
   "outputs": [],
   "source": [
    "sc.tl.rank_genes_groups(adata, groupby = 'leiden_post_QC', method = 'wilcoxon')"
   ]
  },
  {
   "cell_type": "code",
   "execution_count": null,
   "id": "5f286732-829e-46c1-9618-5113d8738e5b",
   "metadata": {},
   "outputs": [],
   "source": [
    "sc.pl.rank_genes_groups_dotplot(adata, n_genes=4,\n",
    "                                values_to_plot=\"logfoldchanges\", cmap='bwr',\n",
    "                                vmin=-4, vmax=4,\n",
    "                                min_logfoldchange=3,\n",
    "                                colorbar_title='log fold change'\n",
    "                               )"
   ]
  },
  {
   "cell_type": "code",
   "execution_count": null,
   "id": "1e1274b1-8959-4b74-8b4d-3a866cf06954",
   "metadata": {},
   "outputs": [],
   "source": [
    "sc.pl.rank_genes_groups_dotplot(adata, n_genes=25,\n",
    "                                groups = ['11'],\n",
    "                                values_to_plot=\"logfoldchanges\", cmap='bwr',\n",
    "                                vmin=-4, vmax=4,\n",
    "                                min_logfoldchange=2.5,\n",
    "                                colorbar_title='log fold change'\n",
    "                               )"
   ]
  },
  {
   "cell_type": "code",
   "execution_count": null,
   "id": "6b131e91-8fa2-4d65-a968-45518be34040",
   "metadata": {},
   "outputs": [],
   "source": [
    "sc.pl.rank_genes_groups_dotplot(adata, \n",
    "                                var_names=['Tfap2b','Foxd3','Sox10',\n",
    "                                           'Adgrg2','Nkx2-9','Phox2b',\n",
    "                                           'Shh','Foxa2',\n",
    "                                           'Hesx1','Fezf1',\n",
    "                                           'Meis2','Cyp26b1','Hoxa2',\n",
    "                                           'Pax5','En1','En2',\n",
    "                                           'Wnt8b','Wnt2b','Barhl2',\n",
    "                                           'Six3','Lhx2','Rax',\n",
    "                                           'Neurod1','Neurog1',\n",
    "                                           'Tfap2a','Dlx6','Krt1',\n",
    "                                           'Pax1','Vgll2','Pax9',\n",
    "                                           'Podn','T',\n",
    "                                           'Pitx2','Pitx3','Dmrta2',\n",
    "                                           'Col1a1','Twist1','Meox2',\n",
    "                                           'Kdr','Flt1',\n",
    "                                          ],\n",
    "                                values_to_plot=\"logfoldchanges\", cmap='bwr',\n",
    "                                vmin=-4, vmax=4,\n",
    "                                min_logfoldchange=3,\n",
    "                                colorbar_title='log fold change'\n",
    "                               )"
   ]
  },
  {
   "cell_type": "code",
   "execution_count": null,
   "id": "c606c485-d43a-4346-8676-ba0c1e0a69a2",
   "metadata": {},
   "outputs": [],
   "source": [
    "cluster_anno = {\n",
    "    '1':'Forebrain - Six3+',\n",
    "    '2':'Midbrain - Pax5+',\n",
    "    '3':'Neural Tube - Ccdc198+', #is 1700011H14Rik, also Cpn1 in same area in in situ https://bmcdevbiol.biomedcentral.com/articles/10.1186/1471-213X-7-92/tables/2\n",
    "    '5':'Neural Crest - Sox10+',\n",
    "    '8':'Hindbrain - Hoxa2+',\n",
    "    '13':'Floor Plate/Ventral Neural Tube - Nkx2-9+' #Nkx2-9, Shh\n",
    "    '16':'Strange cells - Pou5f1 +', #Pou5f1 high but half of them have Hox8/9 expression. And these two groups stick together regardless of resolution.\n",
    "    '18':'Notochord - T+',\n",
    "    \n",
    "}"
   ]
  }
 ],
 "metadata": {
  "kernelspec": {
   "display_name": "scanpy_2025",
   "language": "python",
   "name": "scanpy_2025"
  },
  "language_info": {
   "codemirror_mode": {
    "name": "ipython",
    "version": 3
   },
   "file_extension": ".py",
   "mimetype": "text/x-python",
   "name": "python",
   "nbconvert_exporter": "python",
   "pygments_lexer": "ipython3",
   "version": "3.11.11"
  }
 },
 "nbformat": 4,
 "nbformat_minor": 5
}
