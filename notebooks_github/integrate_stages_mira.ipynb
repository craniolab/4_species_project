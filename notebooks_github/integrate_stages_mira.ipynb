{
 "cells": [
  {
   "cell_type": "code",
   "execution_count": null,
   "id": "d219caef-9b5f-4670-91c4-4f80db0938d9",
   "metadata": {},
   "outputs": [],
   "source": [
    "#ensure cuda is working\n",
    "import torch\n",
    "assert torch.cuda.is_available()\n",
    "print(torch.cuda.is_available())\n",
    "print(torch.cuda.device_count())\n",
    "print(torch.cuda.current_device())\n",
    "print(torch.cuda.device(0))\n",
    "print(torch.cuda.get_device_name(0))"
   ]
  },
  {
   "cell_type": "code",
   "execution_count": null,
   "id": "f2268578-77e9-4b2f-9a01-c5f1a1f84d92",
   "metadata": {},
   "outputs": [],
   "source": [
    "import mira\n",
    "\n",
    "import anndata\n",
    "import scanpy as sc\n",
    "import numpy as np\n",
    "import pandas as pd\n",
    "import scvelo as scv\n",
    "\n",
    "import matplotlib.pyplot as plt\n",
    "plt.rcParams.update({'font.size': 14})\n",
    "import matplotlib\n",
    "import matplotlib as mpl\n",
    "from copy import copy\n",
    "reds = copy(mpl.cm.Reds)\n",
    "reds.set_under(\"lightgray\")\n",
    "\n",
    "import os\n",
    "import sys\n",
    "from pathlib import Path\n",
    "os.environ['R_HOME'] = sys.exec_prefix+\"/lib/R/\"\n",
    "\n",
    "project_directory = '/Cranio_Lab/Louk_Seton/4_species_project'\n",
    "os.chdir(os.path.expanduser(\"~\")+project_directory)"
   ]
  },
  {
   "cell_type": "code",
   "execution_count": null,
   "id": "ef02babe-1793-410d-beb2-8653604aed7c",
   "metadata": {
    "tags": []
   },
   "outputs": [],
   "source": [
    "species = 'mouse' #specify the species\n",
    "genome = 'mm10' #specify the genome\n",
    "\n",
    "adata = sc.read('h5ad_files/'+species+'/'+genome+'/'+'adata_concat.h5ad')\n"
   ]
  },
  {
   "cell_type": "code",
   "execution_count": null,
   "id": "4943cd84-a106-4747-a352-7ca66c80ad2e",
   "metadata": {
    "tags": []
   },
   "outputs": [],
   "source": [
    "with open('required_files/allTFs_mm.txt') as f:\n",
    "    tf_list = [line.rstrip('\\n') for line in f]\n",
    "import numpy as np\n",
    "adata.var['TF'] = np.where(adata.var.index.isin(tf_list),True,False)"
   ]
  },
  {
   "cell_type": "code",
   "execution_count": null,
   "id": "4c3c6dc4-3582-4aa6-b1b7-ab9f3f58c48c",
   "metadata": {
    "tags": []
   },
   "outputs": [],
   "source": [
    "adata = adata[:,adata.var['TF']==True].copy()"
   ]
  },
  {
   "cell_type": "code",
   "execution_count": null,
   "id": "231a6e5b-493c-4368-9e30-8f25d585239d",
   "metadata": {
    "tags": []
   },
   "outputs": [],
   "source": [
    "#sc.pp.filter_genes(adata, min_cells=15)\n",
    "sc.pp.normalize_total(adata, target_sum=1e4)\n",
    "sc.pp.log1p(adata)\n",
    "#sc.pp.highly_variable_genes(adata, min_disp = 0.5)\n",
    "sc.pp.highly_variable_genes(adata, min_disp = 0.5,batch_key='sample',\n",
    "                            #n_top_genes=1000\n",
    "                           )\n",
    "\n",
    "sc.tl.pca(adata)\n",
    "sc.pp.neighbors(adata, n_pcs=6)\n",
    "sc.tl.umap(adata, min_dist = 0.2, negative_sample_rate=0.2)\n",
    "sc.pl.umap(adata, color = ['sample','phase'], frameon=False)"
   ]
  },
  {
   "cell_type": "code",
   "execution_count": null,
   "id": "9e7ef92e-7cfd-439b-bed9-65b52853f031",
   "metadata": {
    "tags": []
   },
   "outputs": [],
   "source": [
    "adata.var['highly_variable'].value_counts()"
   ]
  },
  {
   "cell_type": "code",
   "execution_count": null,
   "id": "8bfa0224-2a0d-4ba5-91f9-a1bad8f75ccb",
   "metadata": {
    "tags": []
   },
   "outputs": [],
   "source": [
    "TF_highly_variable = list(adata.var[adata.var['highly_variable']==True].index)\n"
   ]
  },
  {
   "cell_type": "code",
   "execution_count": null,
   "id": "1350fc21-ae0f-4e6a-878e-d50a8722e069",
   "metadata": {
    "tags": []
   },
   "outputs": [],
   "source": [
    "adata = sc.read('h5ad_files/'+species+'/'+genome+'/'+'adata_concat.h5ad')\n",
    "\n",
    "with open('required_files/allTFs_mm.txt') as f:\n",
    "    tf_list = [line.rstrip('\\n') for line in f]\n",
    "import numpy as np\n",
    "adata.var['TF'] = np.where(adata.var.index.isin(tf_list),True,False)\n",
    "adata = adata[:,adata.var['TF']==False].copy()\n",
    "#sc.pp.filter_genes(adata, min_cells=15)\n",
    "sc.pp.normalize_total(adata, target_sum=1e4)\n",
    "sc.pp.log1p(adata)\n",
    "#sc.pp.highly_variable_genes(adata, min_disp = 0.5)\n",
    "sc.pp.highly_variable_genes(adata, min_disp = 0.5,batch_key='sample',\n",
    "                            n_top_genes=500\n",
    "                           )\n",
    "\n",
    "sc.tl.pca(adata)\n",
    "sc.pp.neighbors(adata, n_pcs=6)\n",
    "sc.tl.umap(adata, min_dist = 0.2, negative_sample_rate=0.2)\n",
    "sc.pl.umap(adata, color = ['sample','phase'], frameon=False)\n",
    "\n",
    "rest_highly_variable = list(adata.var[adata.var['highly_variable']==True].index)\n"
   ]
  },
  {
   "cell_type": "code",
   "execution_count": null,
   "id": "ac74c09f-39e1-42d9-b31d-0e101545ed92",
   "metadata": {
    "tags": []
   },
   "outputs": [],
   "source": [
    "sc.pl.umap(adata, color = ['sample','phase','Plp1'], frameon=False)\n"
   ]
  },
  {
   "cell_type": "code",
   "execution_count": null,
   "id": "e901e197-7378-4246-9373-07051a19e93d",
   "metadata": {
    "tags": []
   },
   "outputs": [],
   "source": [
    "highly_variable_list = TF_highly_variable+rest_highly_variable"
   ]
  },
  {
   "cell_type": "code",
   "execution_count": null,
   "id": "0eb6c79c-642b-40d2-896b-f8fb35f93462",
   "metadata": {},
   "outputs": [],
   "source": [
    "adata = sc.read('h5ad_files/'+species+'/'+genome+'/'+'adata_concat.h5ad')\n",
    "\n",
    "adata.var['highly_variable_list'] = np.where(adata.var.index.isin(highly_variable_list),True,False)\n",
    "#sc.pp.filter_genes(adata, min_cells=15)\n",
    "sc.pp.normalize_total(adata, target_sum=1e4)\n",
    "sc.pp.log1p(adata)\n",
    "#sc.pp.highly_variable_genes(adata, min_disp = 0.5)\n",
    "sc.pp.highly_variable_genes(adata, min_disp = 0.5,batch_key='sample',\n",
    "                            #n_top_genes=500\n",
    "                           )\n",
    "\n",
    "sc.tl.pca(adata)\n",
    "sc.pp.neighbors(adata, n_pcs=6)\n",
    "sc.tl.umap(adata, min_dist = 0.2, negative_sample_rate=0.2)\n",
    "sc.pl.umap(adata, color = ['sample','phase'], frameon=False)"
   ]
  },
  {
   "cell_type": "code",
   "execution_count": null,
   "id": "42f50e50-7d51-4596-97df-cecd53658af3",
   "metadata": {},
   "outputs": [],
   "source": [
    "adata.var.groupby(['highly_variable_list', 'highly_variable']).size().unstack(fill_value=0)"
   ]
  },
  {
   "cell_type": "code",
   "execution_count": null,
   "id": "d76a1b5b-cc26-45d8-9433-29801afbf09a",
   "metadata": {},
   "outputs": [],
   "source": [
    "##mira stuff\n",
    "model = mira.topics.make_model(\n",
    "    adata.n_obs, adata.n_vars, # helps MIRA choose reasonable values for some hyperparameters which are not tuned.\n",
    "    feature_type = 'expression',\n",
    "    #highly_variable_key='TF',\n",
    "    highly_variable_key = 'highly_variable_list',\n",
    "    counts_layer='original_counts',\n",
    "    categorical_covariates='sample',\n",
    "    #continuous_covariates= ['S_score','G2M_score'],\n",
    ")"
   ]
  },
  {
   "cell_type": "code",
   "execution_count": null,
   "id": "91a7494b-f79a-462a-b2e4-a2c3f0b3cccd",
   "metadata": {},
   "outputs": [],
   "source": [
    "model.get_learning_rate_bounds(adata)"
   ]
  },
  {
   "cell_type": "code",
   "execution_count": null,
   "id": "4607a8b0-a46d-4a4d-b07b-d9109c97a391",
   "metadata": {},
   "outputs": [],
   "source": [
    "model.set_learning_rates(1e-3, 0.1) # for larger datasets, the default of 1e-3, 0.1 usually works well.\n",
    "model.plot_learning_rate_bounds(figsize=(7,3))"
   ]
  },
  {
   "cell_type": "code",
   "execution_count": null,
   "id": "3c1664b6-dd09-4767-b2a3-48e3ce3e5eea",
   "metadata": {},
   "outputs": [],
   "source": [
    "topic_contributions = mira.topics.gradient_tune(model, adata)"
   ]
  },
  {
   "cell_type": "code",
   "execution_count": null,
   "id": "7132ae91-a665-4910-a5f1-97aad7cb6d08",
   "metadata": {},
   "outputs": [],
   "source": [
    "NUM_TOPICS = 21\n",
    "\n",
    "mira.pl.plot_topic_contributions(topic_contributions, NUM_TOPICS)"
   ]
  },
  {
   "cell_type": "code",
   "execution_count": null,
   "id": "d3104a39-a00e-4bb1-9073-cda22c4832bf",
   "metadata": {},
   "outputs": [],
   "source": [
    "NUM_TOPICS = 24 #24\n",
    "model = model.set_params(num_topics = NUM_TOPICS,).fit(adata)"
   ]
  },
  {
   "cell_type": "code",
   "execution_count": null,
   "id": "59e6c23d-d364-4b56-9c92-8056cffe6c86",
   "metadata": {},
   "outputs": [],
   "source": [
    "model.predict(adata,)"
   ]
  },
  {
   "cell_type": "code",
   "execution_count": null,
   "id": "0f74e1cc-0a53-4eb1-b672-a1d5ee897f4e",
   "metadata": {},
   "outputs": [],
   "source": [
    "sc.pp.neighbors(adata, use_rep = 'X_umap_features', metric = 'manhattan',n_neighbors=15)\n",
    "#sc.tl.umap(adata, min_dist=0.1, negative_sample_rate=0.05,)\n",
    "#sc.tl.umap(adata, min_dist=0.3, negative_sample_rate=0.05,n_components =3)\n",
    "sc.tl.umap(adata, )\n",
    "\n"
   ]
  },
  {
   "cell_type": "code",
   "execution_count": null,
   "id": "181260ba-eebc-429e-9302-f91ec4f860a4",
   "metadata": {},
   "outputs": [],
   "source": [
    "sc.tl.leiden(adata)\n",
    "sc.tl.leiden(adata,resolution = 2, key_added = 'leiden_high')\n"
   ]
  },
  {
   "cell_type": "code",
   "execution_count": null,
   "id": "87044588-f20e-4dc7-9950-21c078d3ce5f",
   "metadata": {},
   "outputs": [],
   "source": [
    "sc.pl.umap(adata, color = ['Sox10','leiden_high','sample','phase','Epcam','Alx3','Insc'], cmap = reds, vmin = 0.05, ncols = 2)"
   ]
  },
  {
   "cell_type": "code",
   "execution_count": null,
   "id": "0f8e3383-7e8d-4913-8d85-76e8a2e4ef27",
   "metadata": {},
   "outputs": [],
   "source": [
    "sc.tl.rank_genes_groups(adata, 'leiden_high', groups=['29'], reference='30', method='wilcoxon')"
   ]
  },
  {
   "cell_type": "code",
   "execution_count": null,
   "id": "9b42d518-069a-4845-bc91-9e580094c36a",
   "metadata": {},
   "outputs": [],
   "source": [
    "gene_df = sc.get.rank_genes_groups_df(adata,group = None)\n",
    "gene_df = gene_df[gene_df['logfoldchanges']>4.5]\n",
    "gene_df = gene_df[gene_df['scores']>5]\n",
    "gene_df"
   ]
  },
  {
   "cell_type": "code",
   "execution_count": null,
   "id": "d24a80b8-ba6f-4a86-a9a9-797b6a332408",
   "metadata": {},
   "outputs": [],
   "source": [
    "plt.rcParams['figure.figsize'] = [5,4]\n",
    "sc.pl.umap(adata, color = gene_df.head(40).names, cmap = reds, vmin = 0.05, ncols = 3)"
   ]
  },
  {
   "cell_type": "code",
   "execution_count": null,
   "id": "61b9aa27-fd57-4f96-b973-16e55d9c8b82",
   "metadata": {},
   "outputs": [],
   "source": [
    "plt.rcParams['figure.figsize'] = [5,4]\n",
    "sc.pl.umap(adata, color = ['sample','leiden','phase','Tbx3','Sox2','Sox10','Cdh19','Foxd3','Alx3','Dlx2','Mpz','Pax3','Tfap2a','Hand2','Dlx5','Meox1','Barx1','Lef1','Dlx6','Dlx1',], cmap = reds, vmin = 0.05, ncols = 2)"
   ]
  },
  {
   "cell_type": "code",
   "execution_count": null,
   "id": "2fc994d1-d633-495c-bb32-eac41cd136df",
   "metadata": {},
   "outputs": [],
   "source": [
    "sc.pl.umap(adata[adata.obs['sample']=='ME9'], color = ['sample','phase','Sox2','Sox10','Alx3','Dlx2','Tfap2b'], cmap = reds, vmin = 0.05, ncols = 2)"
   ]
  },
  {
   "cell_type": "code",
   "execution_count": null,
   "id": "9ada178a-c7bb-42aa-b49d-6c8f68f8ac54",
   "metadata": {},
   "outputs": [],
   "source": []
  },
  {
   "cell_type": "code",
   "execution_count": null,
   "id": "7bf09392-b397-44d1-811e-51bc1bdd29c6",
   "metadata": {},
   "outputs": [],
   "source": []
  },
  {
   "cell_type": "code",
   "execution_count": null,
   "id": "de365e5c-8ae5-4772-b507-7d67fd4860c1",
   "metadata": {},
   "outputs": [],
   "source": [
    "model.set_learning_rates(1e-3, 0.05) # for larger datasets, the default of 1e-3, 0.1 usually works well.\n",
    "model.plot_learning_rate_bounds(figsize=(7,3))"
   ]
  },
  {
   "cell_type": "code",
   "execution_count": null,
   "id": "ef9b80e9-46d3-482b-a6dd-53be3573408e",
   "metadata": {},
   "outputs": [],
   "source": [
    "## quick loop to try out some different parameters\n",
    "from matplotlib.backends.backend_pdf import PdfPages\n",
    "\n",
    "topics = [15,17,20,22,24,26,30]\n",
    "epochs = [50,75,100,125,150]\n",
    "output_dir = 'figures_ignore/mouse/mm10/mira_integration_tuning/'\n",
    "for topic in topics:\n",
    "    with PdfPages(output_dir+str(topic)+'_trials.pdf') as pdf:\n",
    "        for epoch in epochs:\n",
    "            model = model.set_params(num_topics = topic,num_epochs = epoch).fit(adata)\n",
    "            model.predict(adata,)\n",
    "            sc.pp.neighbors(adata, use_rep = 'X_umap_features', metric = 'manhattan',n_neighbors=15)\n",
    "            sc.tl.umap(adata, )\n",
    "            sc.tl.leiden(adata,resolution = 2, key_added = 'leiden_high')\n",
    "\n",
    "            plt.rcParams['figure.figsize'] = [5,4]\n",
    "            ax = sc.pl.umap(adata, color = ['sample','leiden_high','phase','Sox10','Insc','Alx3','Dlx2'], cmap = reds,ncols = 2, vmin = 0.05, show = False)\n",
    "            for p in ax:\n",
    "                p.set_rasterized(True)\n",
    "            pdf.savefig(dpi=150,bbox_inches='tight')\n",
    "            plt.close()"
   ]
  },
  {
   "cell_type": "code",
   "execution_count": null,
   "id": "1ac1aba8-eda2-4ec9-8f1c-be58967405bd",
   "metadata": {},
   "outputs": [],
   "source": []
  }
 ],
 "metadata": {
  "kernelspec": {
   "display_name": "mira_env",
   "language": "python",
   "name": "mira_env"
  },
  "language_info": {
   "codemirror_mode": {
    "name": "ipython",
    "version": 3
   },
   "file_extension": ".py",
   "mimetype": "text/x-python",
   "name": "python",
   "nbconvert_exporter": "python",
   "pygments_lexer": "ipython3",
   "version": "3.11.8"
  }
 },
 "nbformat": 4,
 "nbformat_minor": 5
}
