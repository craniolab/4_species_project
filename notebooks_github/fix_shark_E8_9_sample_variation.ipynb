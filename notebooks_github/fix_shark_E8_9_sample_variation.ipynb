{
 "cells": [
  {
   "cell_type": "markdown",
   "id": "38c63094-0106-4b99-bf72-9133195c23cf",
   "metadata": {},
   "source": [
    "Here I remove genes associated with the by me identified strain specific gene expression.  \n",
    "LOC119965961, LOC119965947 (variants of 60S ribosomal protein L13a)  \n",
    "LOC119970178, LOC119969773 (variants of eukaryotic translation initiation factor 6)  \n",
    "\n",
    "There seem to be 3 different strains of shark that are using a combination of the variants for these genes.   \n",
    "I calculated a linear regression for all other genes compared to these genes to see if any had a similar expression pattern.  \n",
    "I then filtered any genes with an R2 score larger than 0.05, removing 272 genes from the dataset.  \n",
    "After this the purported xbp1 hatching gland cluster merged with the neural crest. Upon closer investigation I could not find a single unique marker for this cluster that was not also a marker of either Neural crest or of the strain. Xbp1 and Chac1 for example mark the cells of the LOC119965961 associated strain.  \n",
    "\n"
   ]
  },
  {
   "cell_type": "code",
   "execution_count": null,
   "id": "c41f6014-702d-4620-900f-66b120f46187",
   "metadata": {},
   "outputs": [],
   "source": [
    "import logging\n",
    "logging.getLogger('matplotlib.font_manager').setLevel(logging.ERROR)\n",
    "import scanpy as sc\n",
    "import anndata as ad\n",
    "import scvelo as scv\n",
    "import scvi\n",
    "import seaborn as sns\n",
    "import plotly.express as px\n",
    "import numpy as np\n",
    "from dash import Dash, dcc, html, Input, Output,dash_table, ctx, State\n",
    "import dash_ag_grid as dag\n",
    "\n",
    "import pandas as pd\n",
    "\n",
    "import os\n",
    "import sys\n",
    "import time\n",
    "import warnings\n",
    "import gc\n",
    "import io\n",
    "import base64\n",
    "os.environ['R_HOME'] = sys.exec_prefix+\"/lib/R/\"\n",
    "\n",
    "# Plotting\n",
    "import matplotlib\n",
    "import matplotlib.pyplot as plt\n",
    "import matplotlib as mpl\n",
    "from matplotlib.backends.backend_pdf import PdfPages\n",
    "from matplotlib.colors import LinearSegmentedColormap, ListedColormap\n",
    "from matplotlib.lines import Line2D \n",
    "\n",
    "from copy import copy\n",
    "reds = copy(mpl.cm.Reds)\n",
    "reds.set_under(\"lightgray\")\n",
    "\n",
    "def matplotlib_to_plotly(cmap, pl_entries):\n",
    "    h = 1.0/(pl_entries-1)\n",
    "    pl_colorscale = []\n",
    "\n",
    "    for k in range(pl_entries):\n",
    "        C = list(map(np.uint8, np.array(cmap(k * h)[:3]) * 255))\n",
    "        pl_colorscale.append([k*h, 'rgb'+str((C[0], C[1], C[2]))])\n",
    "\n",
    "    return pl_colorscale\n",
    "\n",
    "plotly_reds = matplotlib_to_plotly(reds, 255)\n",
    "plotly_reds[0] = [0.0, 'rgb(211, 211, 211)']\n",
    "\n",
    "project_directory = '/Cranio_Lab/Louk_Seton/4_species_project'\n",
    "os.chdir(os.path.expanduser(\"~\")+project_directory)"
   ]
  },
  {
   "cell_type": "code",
   "execution_count": null,
   "id": "fcd05f65-5a1f-4a47-be1c-5701134f0669",
   "metadata": {},
   "outputs": [],
   "source": [
    "adata=sc.read('h5ad_files/catshark/sScyCan1.1/SE8_9_pass_after_filtering.h5ad')"
   ]
  },
  {
   "cell_type": "code",
   "execution_count": null,
   "id": "5d18c54c-2eeb-43d3-b551-effc8c29b405",
   "metadata": {},
   "outputs": [],
   "source": [
    "adata[:,adata.var.index=='LOC119965947'].X.todense()"
   ]
  },
  {
   "cell_type": "code",
   "execution_count": null,
   "id": "29b0e6f2-74d7-4139-8ff9-fec0b5272ed9",
   "metadata": {},
   "outputs": [],
   "source": [
    "plt.hist(adata[:,adata.var.index=='LOC119965947'].X.todense(),bins = 50)"
   ]
  },
  {
   "cell_type": "code",
   "execution_count": null,
   "id": "881a80d0-acaf-488d-8f8f-2ecab0210bfb",
   "metadata": {},
   "outputs": [],
   "source": [
    "plt.hist(adata[:,adata.var.index=='LOC119965947'].layers['original_counts'].todense(),bins = 50,range=(0, 100))"
   ]
  },
  {
   "cell_type": "code",
   "execution_count": null,
   "id": "1610af4f-7ec8-4b4d-8069-e0f47c72d6ac",
   "metadata": {},
   "outputs": [],
   "source": []
  },
  {
   "cell_type": "code",
   "execution_count": null,
   "id": "eb5a8365-7abd-407b-8a2a-944370f92b5e",
   "metadata": {},
   "outputs": [],
   "source": [
    "plt.hist(adata[:,adata.var.index=='LOC119965961'].X.todense(),bins = 50)"
   ]
  },
  {
   "cell_type": "code",
   "execution_count": null,
   "id": "7b941e06-02c8-4036-9c16-899d9e26b8ad",
   "metadata": {},
   "outputs": [],
   "source": [
    "plt.hist(adata[:,adata.var.index=='LOC119965961'].layers['original_counts'].todense(),bins = 50,range=(0, 50))\n",
    "plt.ylim(0,200)"
   ]
  },
  {
   "cell_type": "code",
   "execution_count": null,
   "id": "c4dd40c4-aac8-457d-bd43-15026777ac16",
   "metadata": {},
   "outputs": [],
   "source": [
    "strain_cutoff = adata[:,adata.var.index=='LOC119965961'].layers['original_counts'].todense().flatten()<10\n",
    "adata.obs['strain_specific'] = strain_cutoff.tolist()[0]"
   ]
  },
  {
   "cell_type": "code",
   "execution_count": null,
   "id": "cf46e2d1-2820-4d3a-ba1b-6b7807fc468f",
   "metadata": {},
   "outputs": [],
   "source": [
    "sc.pl.umap(adata,color = 'strain_specific')"
   ]
  },
  {
   "cell_type": "code",
   "execution_count": null,
   "id": "64e5b5fe-1325-4e5d-b586-6533e27d23cf",
   "metadata": {},
   "outputs": [],
   "source": [
    "from sklearn.linear_model import LinearRegression\n",
    "def do_reg(gene,variable):\n",
    "    X = adata[:,gene].X.toarray() #get the gene expression value\n",
    "    y = adata[:,gene].obs[variable] #get the variable obs value\n",
    "    reg = LinearRegression().fit(X, y) #fit linear regression for gene expression and variable value\n",
    "    #return (variable, gene, reg.score(X, y))\n",
    "    return reg.score(X, y) #return the r2 score of the linear regression"
   ]
  },
  {
   "cell_type": "code",
   "execution_count": null,
   "id": "12277f56-a9c7-4583-8b87-df50d3532fab",
   "metadata": {},
   "outputs": [],
   "source": [
    "#now parallelize the function\n",
    "from multiprocessing import Pool\n",
    "import itertools\n",
    "\n",
    "def do_reg_parallel(gene_list,variable,n_threads): #supply the function with a list of genes and a column in adata.obs with your variable you want to fit gene expression to\n",
    "    with Pool(n_threads) as p: #if you use too many threads and launching them requires more memory than is available, the processes won't launch\n",
    "        return p.starmap(do_reg, #use starmap to be able to call both vars required for the do_reg function\n",
    "                         zip(gene_list, #list of genes\n",
    "                             itertools.repeat(variable) #repeat the column name for each gene\n",
    "                            ))\n",
    "        p.close()\n",
    "        # wait for all tasks to complete\n",
    "        p.join()"
   ]
  },
  {
   "cell_type": "code",
   "execution_count": null,
   "id": "99101699-d871-4b4d-a601-bad42783248c",
   "metadata": {},
   "outputs": [],
   "source": [
    "adata.obs['strain_LOC119965961'] = adata[:,adata.var.index=='LOC119965961'].layers['original_counts'].todense().flatten().tolist()[0]\n",
    "adata.obs['strain_LOC119965947'] = adata[:,adata.var.index=='LOC119965947'].layers['original_counts'].todense().flatten().tolist()[0]\n",
    "adata.obs['strain_LOC119970178'] = adata[:,adata.var.index=='LOC119970178'].layers['original_counts'].todense().flatten().tolist()[0]\n",
    "adata.obs['strain_LOC119969773'] = adata[:,adata.var.index=='LOC119969773'].layers['original_counts'].todense().flatten().tolist()[0]"
   ]
  },
  {
   "cell_type": "code",
   "execution_count": null,
   "id": "32ff8007-261c-440c-ba2b-754322962265",
   "metadata": {},
   "outputs": [],
   "source": [
    "for var in ['strain_LOC119965961','strain_LOC119965947','strain_LOC119970178','strain_LOC119969773']: #run for both G2M score and S score\n",
    "    adata.var[var] = do_reg_parallel(adata.var.index, \n",
    "                                                        var,\n",
    "                                                        10) #number of processes. "
   ]
  },
  {
   "cell_type": "code",
   "execution_count": null,
   "id": "d6a5abf2-2411-4630-be05-6ffb7686f295",
   "metadata": {},
   "outputs": [],
   "source": [
    "strain_gene_list = []\n",
    "for var in ['strain_LOC119965961','strain_LOC119965947','strain_LOC119970178','strain_LOC119969773']:\n",
    "    strain_gene_list = strain_gene_list + list(adata[:,adata.var[var]>0.05].var.index)\n",
    "\n",
    "strain_gene_list = list(set(strain_gene_list))\n",
    "\n",
    "with open('required_files/shark_strain_reg_genes.txt', 'w') as f:\n",
    "    for line in strain_gene_list:\n",
    "        f.write(f\"{line}\\n\")"
   ]
  },
  {
   "cell_type": "code",
   "execution_count": null,
   "id": "ec16cc5c-fd96-4a5e-8176-6da8523b405a",
   "metadata": {},
   "outputs": [],
   "source": [
    "adata.X = adata.layers['original_counts'].copy()\n",
    "adata.raw = adata.copy()"
   ]
  },
  {
   "cell_type": "code",
   "execution_count": null,
   "id": "f90869d1-8c73-4189-bd01-a087210a605e",
   "metadata": {},
   "outputs": [],
   "source": [
    "adata = adata[:,~adata.var.index.isin(strain_gene_list)].copy()"
   ]
  },
  {
   "cell_type": "code",
   "execution_count": null,
   "id": "99b3ea45-98bc-4b21-8aaf-bb1b510161a8",
   "metadata": {},
   "outputs": [],
   "source": [
    "adata.X = adata.layers['original_counts'].copy()\n",
    "sc.pp.normalize_total(adata) # Normalizing to median total counts\n",
    "sc.pp.log1p(adata) # Logarithmize the data\n",
    "adata.layers[\"normalized_counts\"] = adata.X.copy()\n",
    "\n",
    "##highly variable genes\n",
    "sc.pp.highly_variable_genes(adata, n_top_genes=1000,)\n",
    "\n",
    "##dimensionality reduction and clustering\n",
    "sc.tl.pca(adata)\n",
    "sc.pl.pca_variance_ratio(adata)"
   ]
  },
  {
   "cell_type": "code",
   "execution_count": null,
   "id": "d51e1903-e6f1-44c4-8fb7-5496da15bcd0",
   "metadata": {},
   "outputs": [],
   "source": [
    "sc.pp.neighbors(adata,n_pcs = 40)\n",
    "sc.tl.umap(adata,negative_sample_rate = 3)\n",
    "sc.tl.leiden(adata,resolution = 1, key_added = 'leiden_post_QC')\n",
    "adata.write('h5ad_files/catshark/sScyCan1.1/SE8_9_pass_after_filtering_strain_corrected.h5ad')"
   ]
  },
  {
   "cell_type": "code",
   "execution_count": null,
   "id": "c466c0fd-2ead-40ed-8e04-3de7e6f2912f",
   "metadata": {},
   "outputs": [],
   "source": [
    "sc.pl.umap(adata,color = ['leiden_post_QC','sox10','LOC119970178','LOC119965947','LOC119965033','xbp1','LOC119961926','neurod1','tmie'],cmap = reds, vmin = 0.05,ncols = 3)"
   ]
  },
  {
   "cell_type": "code",
   "execution_count": null,
   "id": "b8a4ae1a-cf27-4839-aa36-2367e8af1e99",
   "metadata": {},
   "outputs": [],
   "source": []
  }
 ],
 "metadata": {
  "kernelspec": {
   "display_name": "scanpy_2025",
   "language": "python",
   "name": "scanpy_2025"
  },
  "language_info": {
   "codemirror_mode": {
    "name": "ipython",
    "version": 3
   },
   "file_extension": ".py",
   "mimetype": "text/x-python",
   "name": "python",
   "nbconvert_exporter": "python",
   "pygments_lexer": "ipython3",
   "version": "3.11.11"
  }
 },
 "nbformat": 4,
 "nbformat_minor": 5
}
