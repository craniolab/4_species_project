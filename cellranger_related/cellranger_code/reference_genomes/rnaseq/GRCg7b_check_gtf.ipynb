{
 "cells": [
  {
   "cell_type": "code",
   "execution_count": 1,
   "id": "a9584c20-cbe1-4c3d-a256-6fa61e0a718e",
   "metadata": {
    "tags": []
   },
   "outputs": [
    {
     "name": "stderr",
     "output_type": "stream",
     "text": [
      "── \u001b[1mAttaching core tidyverse packages\u001b[22m ──────────────────────── tidyverse 2.0.0 ──\n",
      "\u001b[32m✔\u001b[39m \u001b[34mdplyr    \u001b[39m 1.1.1     \u001b[32m✔\u001b[39m \u001b[34mreadr    \u001b[39m 2.1.4\n",
      "\u001b[32m✔\u001b[39m \u001b[34mforcats  \u001b[39m 1.0.0     \u001b[32m✔\u001b[39m \u001b[34mstringr  \u001b[39m 1.5.0\n",
      "\u001b[32m✔\u001b[39m \u001b[34mggplot2  \u001b[39m 3.4.2     \u001b[32m✔\u001b[39m \u001b[34mtibble   \u001b[39m 3.2.1\n",
      "\u001b[32m✔\u001b[39m \u001b[34mlubridate\u001b[39m 1.9.2     \u001b[32m✔\u001b[39m \u001b[34mtidyr    \u001b[39m 1.3.0\n",
      "\u001b[32m✔\u001b[39m \u001b[34mpurrr    \u001b[39m 1.0.1     \n",
      "── \u001b[1mConflicts\u001b[22m ────────────────────────────────────────── tidyverse_conflicts() ──\n",
      "\u001b[31m✖\u001b[39m \u001b[34mdplyr\u001b[39m::\u001b[32mfilter()\u001b[39m masks \u001b[34mstats\u001b[39m::filter()\n",
      "\u001b[31m✖\u001b[39m \u001b[34mdplyr\u001b[39m::\u001b[32mlag()\u001b[39m    masks \u001b[34mstats\u001b[39m::lag()\n",
      "\u001b[36mℹ\u001b[39m Use the conflicted package (\u001b[3m\u001b[34m<http://conflicted.r-lib.org/>\u001b[39m\u001b[23m) to force all conflicts to become errors\n",
      "Loading required package: GenomicRanges\n",
      "\n",
      "Loading required package: stats4\n",
      "\n",
      "Loading required package: BiocGenerics\n",
      "\n",
      "\n",
      "Attaching package: ‘BiocGenerics’\n",
      "\n",
      "\n",
      "The following objects are masked from ‘package:lubridate’:\n",
      "\n",
      "    intersect, setdiff, union\n",
      "\n",
      "\n",
      "The following objects are masked from ‘package:dplyr’:\n",
      "\n",
      "    combine, intersect, setdiff, union\n",
      "\n",
      "\n",
      "The following objects are masked from ‘package:stats’:\n",
      "\n",
      "    IQR, mad, sd, var, xtabs\n",
      "\n",
      "\n",
      "The following objects are masked from ‘package:base’:\n",
      "\n",
      "    anyDuplicated, append, as.data.frame, basename, cbind, colnames,\n",
      "    dirname, do.call, duplicated, eval, evalq, Filter, Find, get, grep,\n",
      "    grepl, intersect, is.unsorted, lapply, Map, mapply, match, mget,\n",
      "    order, paste, pmax, pmax.int, pmin, pmin.int, Position, rank,\n",
      "    rbind, Reduce, rownames, sapply, setdiff, sort, table, tapply,\n",
      "    union, unique, unsplit, which.max, which.min\n",
      "\n",
      "\n",
      "Loading required package: S4Vectors\n",
      "\n",
      "\n",
      "Attaching package: ‘S4Vectors’\n",
      "\n",
      "\n",
      "The following objects are masked from ‘package:lubridate’:\n",
      "\n",
      "    second, second<-\n",
      "\n",
      "\n",
      "The following objects are masked from ‘package:dplyr’:\n",
      "\n",
      "    first, rename\n",
      "\n",
      "\n",
      "The following object is masked from ‘package:tidyr’:\n",
      "\n",
      "    expand\n",
      "\n",
      "\n",
      "The following objects are masked from ‘package:base’:\n",
      "\n",
      "    expand.grid, I, unname\n",
      "\n",
      "\n",
      "Loading required package: IRanges\n",
      "\n",
      "\n",
      "Attaching package: ‘IRanges’\n",
      "\n",
      "\n",
      "The following object is masked from ‘package:lubridate’:\n",
      "\n",
      "    %within%\n",
      "\n",
      "\n",
      "The following objects are masked from ‘package:dplyr’:\n",
      "\n",
      "    collapse, desc, slice\n",
      "\n",
      "\n",
      "The following object is masked from ‘package:purrr’:\n",
      "\n",
      "    reduce\n",
      "\n",
      "\n",
      "Loading required package: GenomeInfoDb\n",
      "\n"
     ]
    }
   ],
   "source": [
    "library(tidyverse)\n",
    "library(rtracklayer)"
   ]
  },
  {
   "cell_type": "code",
   "execution_count": 4,
   "id": "f2e74c11-564a-4fbb-b740-548adf1b9098",
   "metadata": {
    "tags": []
   },
   "outputs": [],
   "source": [
    "chicken_gtf_test = import('test.gtf') %>%\n",
    "    as.data.frame()"
   ]
  },
  {
   "cell_type": "code",
   "execution_count": 7,
   "id": "35bc93ee-e5bf-4691-8936-02e4d837bc57",
   "metadata": {
    "collapsed": true,
    "jupyter": {
     "outputs_hidden": true
    },
    "tags": []
   },
   "outputs": [
    {
     "name": "stdout",
     "output_type": "stream",
     "text": [
      "'data.frame':\t1472799 obs. of  26 variables:\n",
      " $ seqnames                    : Factor w/ 132 levels \"1\",\"2\",\"3\",\"4\",..: 1 1 1 1 1 1 1 1 1 1 ...\n",
      " $ start                       : int  152629825 152634540 152634540 152634821 152634872 152634872 152635811 152634540 152634821 152635814 ...\n",
      " $ end                         : int  152651804 152637116 152634737 152637116 152635810 152634874 152635813 152634737 152634871 152637116 ...\n",
      " $ width                       : int  21980 2577 198 2296 939 3 3 198 51 1303 ...\n",
      " $ strand                      : Factor w/ 3 levels \"+\",\"-\",\"*\": 1 1 1 1 1 1 1 1 1 1 ...\n",
      " $ source                      : Factor w/ 2 levels \"ensembl\",\"RefSeq\": 1 1 1 1 1 1 1 1 1 1 ...\n",
      " $ type                        : Factor w/ 9 levels \"gene\",\"transcript\",..: 1 2 3 3 4 5 6 7 7 8 ...\n",
      " $ score                       : num  NA NA NA NA NA NA NA NA NA NA ...\n",
      " $ phase                       : int  NA NA NA NA 0 0 0 NA NA NA ...\n",
      " $ gene_id                     : chr  \"ENSGALG00010000711\" \"ENSGALG00010000711\" \"ENSGALG00010000711\" \"ENSGALG00010000711\" ...\n",
      " $ gene_version                : chr  \"1\" \"1\" \"1\" \"1\" ...\n",
      " $ gene_name                   : chr  \"SPRY2\" \"SPRY2\" \"SPRY2\" \"SPRY2\" ...\n",
      " $ gene_source                 : chr  \"ensembl\" \"ensembl\" \"ensembl\" \"ensembl\" ...\n",
      " $ gene_biotype                : chr  \"protein_coding\" \"protein_coding\" \"protein_coding\" \"protein_coding\" ...\n",
      " $ transcript_id               : chr  NA \"ENSGALT00010001513\" \"ENSGALT00010001513\" \"ENSGALT00010001513\" ...\n",
      " $ transcript_version          : chr  NA \"1\" \"1\" \"1\" ...\n",
      " $ transcript_name             : chr  NA \"SPRY2-206\" \"SPRY2-206\" \"SPRY2-206\" ...\n",
      " $ transcript_source           : chr  NA \"ensembl\" \"ensembl\" \"ensembl\" ...\n",
      " $ transcript_biotype          : chr  NA \"protein_coding\" \"protein_coding\" \"protein_coding\" ...\n",
      " $ exon_number                 : chr  NA NA \"1\" \"2\" ...\n",
      " $ exon_id                     : chr  NA NA \"ENSGALE00010005966\" \"ENSGALE00010005967\" ...\n",
      " $ exon_version                : chr  NA NA \"1\" \"1\" ...\n",
      " $ protein_id                  : chr  NA NA NA NA ...\n",
      " $ protein_version             : chr  NA NA NA NA ...\n",
      " $ tag                         : chr  NA NA NA NA ...\n",
      " $ projection_parent_transcript: chr  NA NA NA NA ...\n"
     ]
    }
   ],
   "source": [
    "str(chicken_gtf_test)"
   ]
  },
  {
   "cell_type": "code",
   "execution_count": 8,
   "id": "a04405d4-3277-45bf-abab-7115aee4df2e",
   "metadata": {
    "tags": []
   },
   "outputs": [],
   "source": [
    "chicken_gtf = import('Gallus_gallus.bGalGal1.mat.broiler.GRCg7b.110.gtf') %>%\n",
    "    as.data.frame()"
   ]
  },
  {
   "cell_type": "code",
   "execution_count": 9,
   "id": "284f99f5-bae0-4ec9-88a6-e559041730df",
   "metadata": {
    "tags": []
   },
   "outputs": [
    {
     "data": {
      "text/html": [
       "<style>\n",
       ".list-inline {list-style: none; margin:0; padding: 0}\n",
       ".list-inline>li {display: inline-block}\n",
       ".list-inline>li:not(:last-child)::after {content: \"\\00b7\"; padding: 0 .5ex}\n",
       "</style>\n",
       "<ol class=list-inline><li>'protein_coding'</li><li>'lncRNA'</li><li>'miRNA'</li><li>'snRNA'</li><li>'scaRNA'</li><li>'snoRNA'</li><li>'rRNA'</li><li>'pseudogene'</li><li>'processed_pseudogene'</li><li>'misc_RNA'</li><li>'Y_RNA'</li><li>'ribozyme'</li><li>'vault_RNA'</li><li>'Mt_tRNA'</li><li>'Mt_rRNA'</li></ol>\n"
      ],
      "text/latex": [
       "\\begin{enumerate*}\n",
       "\\item 'protein\\_coding'\n",
       "\\item 'lncRNA'\n",
       "\\item 'miRNA'\n",
       "\\item 'snRNA'\n",
       "\\item 'scaRNA'\n",
       "\\item 'snoRNA'\n",
       "\\item 'rRNA'\n",
       "\\item 'pseudogene'\n",
       "\\item 'processed\\_pseudogene'\n",
       "\\item 'misc\\_RNA'\n",
       "\\item 'Y\\_RNA'\n",
       "\\item 'ribozyme'\n",
       "\\item 'vault\\_RNA'\n",
       "\\item 'Mt\\_tRNA'\n",
       "\\item 'Mt\\_rRNA'\n",
       "\\end{enumerate*}\n"
      ],
      "text/markdown": [
       "1. 'protein_coding'\n",
       "2. 'lncRNA'\n",
       "3. 'miRNA'\n",
       "4. 'snRNA'\n",
       "5. 'scaRNA'\n",
       "6. 'snoRNA'\n",
       "7. 'rRNA'\n",
       "8. 'pseudogene'\n",
       "9. 'processed_pseudogene'\n",
       "10. 'misc_RNA'\n",
       "11. 'Y_RNA'\n",
       "12. 'ribozyme'\n",
       "13. 'vault_RNA'\n",
       "14. 'Mt_tRNA'\n",
       "15. 'Mt_rRNA'\n",
       "\n",
       "\n"
      ],
      "text/plain": [
       " [1] \"protein_coding\"       \"lncRNA\"               \"miRNA\"               \n",
       " [4] \"snRNA\"                \"scaRNA\"               \"snoRNA\"              \n",
       " [7] \"rRNA\"                 \"pseudogene\"           \"processed_pseudogene\"\n",
       "[10] \"misc_RNA\"             \"Y_RNA\"                \"ribozyme\"            \n",
       "[13] \"vault_RNA\"            \"Mt_tRNA\"              \"Mt_rRNA\"             "
      ]
     },
     "metadata": {},
     "output_type": "display_data"
    }
   ],
   "source": [
    "unique(chicken_gtf$gene_biotype)"
   ]
  },
  {
   "cell_type": "code",
   "execution_count": 10,
   "id": "06444a6e-37ff-4ecc-b8cf-4002a7f90fce",
   "metadata": {
    "tags": []
   },
   "outputs": [
    {
     "name": "stdout",
     "output_type": "stream",
     "text": [
      "'data.frame':\t1476087 obs. of  26 variables:\n",
      " $ seqnames                    : Factor w/ 132 levels \"1\",\"2\",\"3\",\"4\",..: 1 1 1 1 1 1 1 1 1 1 ...\n",
      " $ start                       : int  152629825 152634540 152634540 152634821 152634872 152634872 152635811 152634540 152634821 152635814 ...\n",
      " $ end                         : int  152651804 152637116 152634737 152637116 152635810 152634874 152635813 152634737 152634871 152637116 ...\n",
      " $ width                       : int  21980 2577 198 2296 939 3 3 198 51 1303 ...\n",
      " $ strand                      : Factor w/ 3 levels \"+\",\"-\",\"*\": 1 1 1 1 1 1 1 1 1 1 ...\n",
      " $ source                      : Factor w/ 2 levels \"ensembl\",\"RefSeq\": 1 1 1 1 1 1 1 1 1 1 ...\n",
      " $ type                        : Factor w/ 9 levels \"gene\",\"transcript\",..: 1 2 3 3 4 5 6 7 7 8 ...\n",
      " $ score                       : num  NA NA NA NA NA NA NA NA NA NA ...\n",
      " $ phase                       : int  NA NA NA NA 0 0 0 NA NA NA ...\n",
      " $ gene_id                     : chr  \"ENSGALG00010000711\" \"ENSGALG00010000711\" \"ENSGALG00010000711\" \"ENSGALG00010000711\" ...\n",
      " $ gene_version                : chr  \"1\" \"1\" \"1\" \"1\" ...\n",
      " $ gene_name                   : chr  \"SPRY2\" \"SPRY2\" \"SPRY2\" \"SPRY2\" ...\n",
      " $ gene_source                 : chr  \"ensembl\" \"ensembl\" \"ensembl\" \"ensembl\" ...\n",
      " $ gene_biotype                : chr  \"protein_coding\" \"protein_coding\" \"protein_coding\" \"protein_coding\" ...\n",
      " $ transcript_id               : chr  NA \"ENSGALT00010001513\" \"ENSGALT00010001513\" \"ENSGALT00010001513\" ...\n",
      " $ transcript_version          : chr  NA \"1\" \"1\" \"1\" ...\n",
      " $ transcript_name             : chr  NA \"SPRY2-206\" \"SPRY2-206\" \"SPRY2-206\" ...\n",
      " $ transcript_source           : chr  NA \"ensembl\" \"ensembl\" \"ensembl\" ...\n",
      " $ transcript_biotype          : chr  NA \"protein_coding\" \"protein_coding\" \"protein_coding\" ...\n",
      " $ exon_number                 : chr  NA NA \"1\" \"2\" ...\n",
      " $ exon_id                     : chr  NA NA \"ENSGALE00010005966\" \"ENSGALE00010005967\" ...\n",
      " $ exon_version                : chr  NA NA \"1\" \"1\" ...\n",
      " $ protein_id                  : chr  NA NA NA NA ...\n",
      " $ protein_version             : chr  NA NA NA NA ...\n",
      " $ tag                         : chr  NA NA NA NA ...\n",
      " $ projection_parent_transcript: chr  NA NA NA NA ...\n"
     ]
    }
   ],
   "source": [
    "str(chicken_gtf)"
   ]
  },
  {
   "cell_type": "code",
   "execution_count": 5,
   "id": "8acf8542-94f2-4657-ab1d-343d94985e77",
   "metadata": {
    "tags": []
   },
   "outputs": [
    {
     "data": {
      "text/html": [
       "<style>\n",
       ".list-inline {list-style: none; margin:0; padding: 0}\n",
       ".list-inline>li {display: inline-block}\n",
       ".list-inline>li:not(:last-child)::after {content: \"\\00b7\"; padding: 0 .5ex}\n",
       "</style>\n",
       "<ol class=list-inline><li>'protein_coding'</li><li>'miRNA'</li><li>'misc_RNA'</li><li>'pseudogene'</li><li>'rRNA'</li><li>'snRNA'</li><li>'snoRNA'</li><li>'scaRNA'</li><li>'lncRNA'</li><li>'ribozyme'</li><li>'processed_pseudogene'</li><li>'IG_V_gene'</li><li>'sRNA'</li><li>'Mt_tRNA'</li><li>'Mt_rRNA'</li></ol>\n"
      ],
      "text/latex": [
       "\\begin{enumerate*}\n",
       "\\item 'protein\\_coding'\n",
       "\\item 'miRNA'\n",
       "\\item 'misc\\_RNA'\n",
       "\\item 'pseudogene'\n",
       "\\item 'rRNA'\n",
       "\\item 'snRNA'\n",
       "\\item 'snoRNA'\n",
       "\\item 'scaRNA'\n",
       "\\item 'lncRNA'\n",
       "\\item 'ribozyme'\n",
       "\\item 'processed\\_pseudogene'\n",
       "\\item 'IG\\_V\\_gene'\n",
       "\\item 'sRNA'\n",
       "\\item 'Mt\\_tRNA'\n",
       "\\item 'Mt\\_rRNA'\n",
       "\\end{enumerate*}\n"
      ],
      "text/markdown": [
       "1. 'protein_coding'\n",
       "2. 'miRNA'\n",
       "3. 'misc_RNA'\n",
       "4. 'pseudogene'\n",
       "5. 'rRNA'\n",
       "6. 'snRNA'\n",
       "7. 'snoRNA'\n",
       "8. 'scaRNA'\n",
       "9. 'lncRNA'\n",
       "10. 'ribozyme'\n",
       "11. 'processed_pseudogene'\n",
       "12. 'IG_V_gene'\n",
       "13. 'sRNA'\n",
       "14. 'Mt_tRNA'\n",
       "15. 'Mt_rRNA'\n",
       "\n",
       "\n"
      ],
      "text/plain": [
       " [1] \"protein_coding\"       \"miRNA\"                \"misc_RNA\"            \n",
       " [4] \"pseudogene\"           \"rRNA\"                 \"snRNA\"               \n",
       " [7] \"snoRNA\"               \"scaRNA\"               \"lncRNA\"              \n",
       "[10] \"ribozyme\"             \"processed_pseudogene\" \"IG_V_gene\"           \n",
       "[13] \"sRNA\"                 \"Mt_tRNA\"              \"Mt_rRNA\"             "
      ]
     },
     "metadata": {},
     "output_type": "display_data"
    }
   ],
   "source": [
    "chicken_gtf = chicken_gtf[chicken_gtf$type=='gene']\n",
    "unique(chicken_gtf$gene_biotype)"
   ]
  },
  {
   "cell_type": "code",
   "execution_count": 8,
   "id": "d72b39bf-7753-4b87-8645-019c22986afa",
   "metadata": {
    "tags": []
   },
   "outputs": [],
   "source": [
    "chicken_filt_gtf = import('Gallus_gallus.GRCg6a.106.filtered.gtf')"
   ]
  },
  {
   "cell_type": "code",
   "execution_count": 9,
   "id": "66a4bc9e-6d10-4877-8e5d-3f899b3eefd3",
   "metadata": {
    "tags": []
   },
   "outputs": [
    {
     "data": {
      "text/plain": [
       "GRanges object with 800530 ranges and 20 metadata columns:\n",
       "                 seqnames            ranges strand |   source           type\n",
       "                    <Rle>         <IRanges>  <Rle> | <factor>       <factor>\n",
       "       [1]              1 52103308-52109433      - |  ensembl    gene       \n",
       "       [2]              1 52103308-52109433      - |  ensembl    transcript \n",
       "       [3]              1 52109314-52109433      - |  ensembl    exon       \n",
       "       [4]              1 52109314-52109345      - |  ensembl    CDS        \n",
       "       [5]              1 52109343-52109345      - |  ensembl    start_codon\n",
       "       ...            ...               ...    ... .      ...            ...\n",
       "  [800526] AADN05001333.1         1923-2067      - |  ensembl five_prime_utr\n",
       "  [800527] AADN05001555.1           540-551      - |  ensembl gene          \n",
       "  [800528] AADN05001555.1           540-551      - |  ensembl transcript    \n",
       "  [800529] AADN05001555.1           540-551      - |  ensembl exon          \n",
       "  [800530] AADN05001555.1           540-551      - |  ensembl CDS           \n",
       "               score     phase            gene_id gene_version   gene_name\n",
       "           <numeric> <integer>        <character>  <character> <character>\n",
       "       [1]        NA      <NA> ENSGALG00000012550            6       HMOX1\n",
       "       [2]        NA      <NA> ENSGALG00000012550            6       HMOX1\n",
       "       [3]        NA      <NA> ENSGALG00000012550            6       HMOX1\n",
       "       [4]        NA         0 ENSGALG00000012550            6       HMOX1\n",
       "       [5]        NA         0 ENSGALG00000012550            6       HMOX1\n",
       "       ...       ...       ...                ...          ...         ...\n",
       "  [800526]        NA      <NA> ENSGALG00000050630            1        <NA>\n",
       "  [800527]        NA      <NA> ENSGALG00000051745            1        <NA>\n",
       "  [800528]        NA      <NA> ENSGALG00000051745            1        <NA>\n",
       "  [800529]        NA      <NA> ENSGALG00000051745            1        <NA>\n",
       "  [800530]        NA         0 ENSGALG00000051745            1        <NA>\n",
       "           gene_source   gene_biotype      transcript_id transcript_version\n",
       "           <character>    <character>        <character>        <character>\n",
       "       [1]     ensembl protein_coding               <NA>               <NA>\n",
       "       [2]     ensembl protein_coding ENSGALT00000037765                  4\n",
       "       [3]     ensembl protein_coding ENSGALT00000037765                  4\n",
       "       [4]     ensembl protein_coding ENSGALT00000037765                  4\n",
       "       [5]     ensembl protein_coding ENSGALT00000037765                  4\n",
       "       ...         ...            ...                ...                ...\n",
       "  [800526]     ensembl protein_coding ENSGALT00000092283                  1\n",
       "  [800527]     ensembl protein_coding               <NA>               <NA>\n",
       "  [800528]     ensembl protein_coding ENSGALT00000101177                  1\n",
       "  [800529]     ensembl protein_coding ENSGALT00000101177                  1\n",
       "  [800530]     ensembl protein_coding ENSGALT00000101177                  1\n",
       "           transcript_name transcript_source transcript_biotype exon_number\n",
       "               <character>       <character>        <character> <character>\n",
       "       [1]            <NA>              <NA>               <NA>        <NA>\n",
       "       [2]       HMOX1-201           ensembl     protein_coding        <NA>\n",
       "       [3]       HMOX1-201           ensembl     protein_coding           1\n",
       "       [4]       HMOX1-201           ensembl     protein_coding           1\n",
       "       [5]       HMOX1-201           ensembl     protein_coding           1\n",
       "       ...             ...               ...                ...         ...\n",
       "  [800526]            <NA>           ensembl     protein_coding        <NA>\n",
       "  [800527]            <NA>              <NA>               <NA>        <NA>\n",
       "  [800528]            <NA>           ensembl     protein_coding        <NA>\n",
       "  [800529]            <NA>           ensembl     protein_coding           1\n",
       "  [800530]            <NA>           ensembl     protein_coding           1\n",
       "                      exon_id exon_version         protein_id protein_version\n",
       "                  <character>  <character>        <character>     <character>\n",
       "       [1]               <NA>         <NA>               <NA>            <NA>\n",
       "       [2]               <NA>         <NA>               <NA>            <NA>\n",
       "       [3] ENSGALE00000246912            4               <NA>            <NA>\n",
       "       [4]               <NA>         <NA> ENSGALP00000036970               3\n",
       "       [5]               <NA>         <NA>               <NA>            <NA>\n",
       "       ...                ...          ...                ...             ...\n",
       "  [800526]               <NA>         <NA>               <NA>            <NA>\n",
       "  [800527]               <NA>         <NA>               <NA>            <NA>\n",
       "  [800528]               <NA>         <NA>               <NA>            <NA>\n",
       "  [800529] ENSGALE00000483059            1               <NA>            <NA>\n",
       "  [800530]               <NA>         <NA> ENSGALP00000074052               1\n",
       "                   tag\n",
       "           <character>\n",
       "       [1]        <NA>\n",
       "       [2]        <NA>\n",
       "       [3]        <NA>\n",
       "       [4]        <NA>\n",
       "       [5]        <NA>\n",
       "       ...         ...\n",
       "  [800526]        <NA>\n",
       "  [800527]        <NA>\n",
       "  [800528]        <NA>\n",
       "  [800529]        <NA>\n",
       "  [800530]        <NA>\n",
       "  -------\n",
       "  seqinfo: 81 sequences from an unspecified genome; no seqlengths"
      ]
     },
     "metadata": {},
     "output_type": "display_data"
    }
   ],
   "source": [
    "chicken_filt_gtf"
   ]
  },
  {
   "cell_type": "code",
   "execution_count": 7,
   "id": "efac0a2e-bb22-4936-b7cf-44313087734a",
   "metadata": {
    "tags": []
   },
   "outputs": [
    {
     "data": {
      "text/html": [
       "'protein_coding'"
      ],
      "text/latex": [
       "'protein\\_coding'"
      ],
      "text/markdown": [
       "'protein_coding'"
      ],
      "text/plain": [
       "[1] \"protein_coding\""
      ]
     },
     "metadata": {},
     "output_type": "display_data"
    }
   ],
   "source": [
    "chicken_filt_gtf = chicken_filt_gtf[chicken_filt_gtf$type=='gene']\n",
    "unique(chicken_filt_gtf$gene_biotype)"
   ]
  },
  {
   "cell_type": "code",
   "execution_count": 9,
   "id": "a9c056ff-22b6-4114-bd77-bdb6d1b47693",
   "metadata": {
    "tags": []
   },
   "outputs": [
    {
     "data": {
      "text/plain": [
       "GRanges object with 3242 ranges and 27 metadata columns:\n",
       "               seqnames            ranges strand |   source     type     score\n",
       "                  <Rle>         <IRanges>  <Rle> | <factor> <factor> <numeric>\n",
       "     [1]    NC_052146.1   1858730-1866481      + |   Gnomon     gene        NA\n",
       "     [2]    NC_052146.1   2689696-2989002      + |   Gnomon     gene        NA\n",
       "     [3]    NC_052146.1 10502190-10566426      + |   Gnomon     gene        NA\n",
       "     [4]    NC_052146.1 12491744-12567487      - |   Gnomon     gene        NA\n",
       "     [5]    NC_052146.1 15310017-15333838      + |   Gnomon     gene        NA\n",
       "     ...            ...               ...    ... .      ...      ...       ...\n",
       "  [3238] NW_024056036.1     151106-154581      - |   Gnomon     gene        NA\n",
       "  [3239] NW_024056036.1     380217-387896      - |   Gnomon     gene        NA\n",
       "  [3240] NW_024056036.1     387228-387934      + |   Gnomon     gene        NA\n",
       "  [3241] NW_024056036.1     556054-569297      + |   Gnomon     gene        NA\n",
       "  [3242] NW_024056036.1     582845-585451      + |   Gnomon     gene        NA\n",
       "             phase      gene_id transcript_id          db_xref       gbkey\n",
       "         <integer>  <character>   <character>      <character> <character>\n",
       "     [1]      <NA> LOC119967173               GeneID:119967173        Gene\n",
       "     [2]      <NA> LOC119968734               GeneID:119968734        Gene\n",
       "     [3]      <NA> LOC119971981               GeneID:119971981        Gene\n",
       "     [4]      <NA> LOC119977195               GeneID:119977195        Gene\n",
       "     [5]      <NA> LOC119973816               GeneID:119973816        Gene\n",
       "     ...       ...          ...           ...              ...         ...\n",
       "  [3238]      <NA> LOC119961728               GeneID:119961728        Gene\n",
       "  [3239]      <NA> LOC119961731               GeneID:119961731        Gene\n",
       "  [3240]      <NA> LOC119961732               GeneID:119961732        Gene\n",
       "  [3241]      <NA> LOC119961726               GeneID:119961726        Gene\n",
       "  [3242]      <NA> LOC119961734               GeneID:119961734        Gene\n",
       "                 gene gene_biotype   exception model_evidence        note\n",
       "          <character>  <character> <character>    <character> <character>\n",
       "     [1] LOC119967173       lncRNA        <NA>           <NA>        <NA>\n",
       "     [2] LOC119968734       lncRNA        <NA>           <NA>        <NA>\n",
       "     [3] LOC119971981       lncRNA        <NA>           <NA>        <NA>\n",
       "     [4] LOC119977195       lncRNA        <NA>           <NA>        <NA>\n",
       "     [5] LOC119973816       lncRNA        <NA>           <NA>        <NA>\n",
       "     ...          ...          ...         ...            ...         ...\n",
       "  [3238] LOC119961728       lncRNA        <NA>           <NA>        <NA>\n",
       "  [3239] LOC119961731       lncRNA        <NA>           <NA>        <NA>\n",
       "  [3240] LOC119961732       lncRNA        <NA>           <NA>        <NA>\n",
       "  [3241] LOC119961726       lncRNA        <NA>           <NA>        <NA>\n",
       "  [3242] LOC119961734       lncRNA        <NA>           <NA>        <NA>\n",
       "             product transcript_biotype exon_number  protein_id   anticodon\n",
       "         <character>        <character> <character> <character> <character>\n",
       "     [1]        <NA>               <NA>        <NA>        <NA>        <NA>\n",
       "     [2]        <NA>               <NA>        <NA>        <NA>        <NA>\n",
       "     [3]        <NA>               <NA>        <NA>        <NA>        <NA>\n",
       "     [4]        <NA>               <NA>        <NA>        <NA>        <NA>\n",
       "     [5]        <NA>               <NA>        <NA>        <NA>        <NA>\n",
       "     ...         ...                ...         ...         ...         ...\n",
       "  [3238]        <NA>               <NA>        <NA>        <NA>        <NA>\n",
       "  [3239]        <NA>               <NA>        <NA>        <NA>        <NA>\n",
       "  [3240]        <NA>               <NA>        <NA>        <NA>        <NA>\n",
       "  [3241]        <NA>               <NA>        <NA>        <NA>        <NA>\n",
       "  [3242]        <NA>               <NA>        <NA>        <NA>        <NA>\n",
       "           inference      pseudo transl_except     partial        part\n",
       "         <character> <character>   <character> <character> <character>\n",
       "     [1]        <NA>        <NA>          <NA>        <NA>        <NA>\n",
       "     [2]        <NA>        <NA>          <NA>        <NA>        <NA>\n",
       "     [3]        <NA>        <NA>          <NA>        <NA>        <NA>\n",
       "     [4]        <NA>        <NA>          <NA>        <NA>        <NA>\n",
       "     [5]        <NA>        <NA>          <NA>        <NA>        <NA>\n",
       "     ...         ...         ...           ...         ...         ...\n",
       "  [3238]        <NA>        <NA>          <NA>        <NA>        <NA>\n",
       "  [3239]        <NA>        <NA>          <NA>        <NA>        <NA>\n",
       "  [3240]        <NA>        <NA>          <NA>        <NA>        <NA>\n",
       "  [3241]        <NA>        <NA>          <NA>        <NA>        <NA>\n",
       "  [3242]        <NA>        <NA>          <NA>        <NA>        <NA>\n",
       "         standard_name gene_synonym transl_table      codons\n",
       "           <character>  <character>  <character> <character>\n",
       "     [1]          <NA>         <NA>         <NA>        <NA>\n",
       "     [2]          <NA>         <NA>         <NA>        <NA>\n",
       "     [3]          <NA>         <NA>         <NA>        <NA>\n",
       "     [4]          <NA>         <NA>         <NA>        <NA>\n",
       "     [5]          <NA>         <NA>         <NA>        <NA>\n",
       "     ...           ...          ...          ...         ...\n",
       "  [3238]          <NA>         <NA>         <NA>        <NA>\n",
       "  [3239]          <NA>         <NA>         <NA>        <NA>\n",
       "  [3240]          <NA>         <NA>         <NA>        <NA>\n",
       "  [3241]          <NA>         <NA>         <NA>        <NA>\n",
       "  [3242]          <NA>         <NA>         <NA>        <NA>\n",
       "  -------\n",
       "  seqinfo: 291 sequences from an unspecified genome; no seqlengths"
      ]
     },
     "metadata": {},
     "output_type": "display_data"
    }
   ],
   "source": [
    "shark_gtf[shark_gtf$gene_biotype=='lncRNA']"
   ]
  },
  {
   "cell_type": "code",
   "execution_count": null,
   "id": "399f74f8-fd39-450a-984f-102b8f965bdd",
   "metadata": {},
   "outputs": [],
   "source": []
  }
 ],
 "metadata": {
  "kernelspec": {
   "display_name": "r_archr",
   "language": "R",
   "name": "r_archr"
  },
  "language_info": {
   "codemirror_mode": "r",
   "file_extension": ".r",
   "mimetype": "text/x-r-source",
   "name": "R",
   "pygments_lexer": "r",
   "version": "4.1.3"
  }
 },
 "nbformat": 4,
 "nbformat_minor": 5
}
